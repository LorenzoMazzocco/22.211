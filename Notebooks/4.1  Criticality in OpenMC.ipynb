{
 "cells": [
  {
   "cell_type": "markdown",
   "metadata": {},
   "source": [
    "The first step is to import the OpenMC python library.  This library is an interface to OpenMC that faciliates the generation of input files."
   ]
  },
  {
   "cell_type": "code",
   "execution_count": 1,
   "metadata": {},
   "outputs": [
    {
     "name": "stdout",
     "output_type": "stream",
     "text": [
      "The history saving thread hit an unexpected error (DatabaseError('database disk image is malformed')).History will not be written to the database.\n"
     ]
    }
   ],
   "source": [
    "import openmc\n",
    "import matplotlib.pyplot as plt"
   ]
  },
  {
   "cell_type": "markdown",
   "metadata": {},
   "source": [
    "## Materials\n",
    "\n",
    "The basic materials for this problem are 3.2% enriched UO2, Zircaloy-4, and water with 650 ppm boron. The OpenMC python API contains some convenience functions that faciliate certain tasks. The user has a choice to either use the add_nuclide function to add individual nuclides of the material, but they can also use the add_element function that will automatically populate the nuclides with their natural isotopics.  There is one exception to this rule, in the case of uranium, there is a special enrichment rule that can be used to compute the proper ratio of U-235 and U238 (U-234 is also added according to some special rules that work for low enrichment fuel (<5%))."
   ]
  },
  {
   "cell_type": "code",
   "execution_count": 2,
   "metadata": {},
   "outputs": [],
   "source": [
    "uo2 = openmc.Material(name='fuel')\n",
    "uo2.add_element('U', 1, enrichment=3.2)\n",
    "uo2.add_element('O', 2)\n",
    "uo2.set_density('g/cc', 10.341)"
   ]
  },
  {
   "cell_type": "code",
   "execution_count": 3,
   "metadata": {},
   "outputs": [],
   "source": [
    "zirc = openmc.Material()\n",
    "zirc.add_element('Zr', 100.0, 'wo')\n",
    "zirc.set_density('g/cm3', 6.55)"
   ]
  },
  {
   "cell_type": "markdown",
   "metadata": {},
   "source": [
    "Another popular convenience function is the borated water model.  This function will create a water material with a given boron concentration with density at a given temperature (default 294K).  The borated water model will also automatically add the thermal neutron scattering file to the material.  If using a different moderator, this input must be added separately using the .add_sab function."
   ]
  },
  {
   "cell_type": "code",
   "execution_count": 4,
   "metadata": {},
   "outputs": [],
   "source": [
    "water = openmc.model.borated_water(650)"
   ]
  },
  {
   "cell_type": "markdown",
   "metadata": {},
   "source": [
    "In this example, 650 ppm (weight fraction) of natural boron is added and converted to nuclide densities which will be used by OpenMC.  If temperature and pressure are not provided, the water density is taken at 293K and atmospheric pressure."
   ]
  },
  {
   "cell_type": "code",
   "execution_count": 5,
   "metadata": {},
   "outputs": [],
   "source": [
    "materials = openmc.Materials([uo2, water, zirc])"
   ]
  },
  {
   "cell_type": "markdown",
   "metadata": {},
   "source": [
    "Once the materials completed, we can export to the XML format used by the OpenMC executable."
   ]
  },
  {
   "cell_type": "code",
   "execution_count": 6,
   "metadata": {},
   "outputs": [],
   "source": [
    "materials.export_to_xml()"
   ]
  },
  {
   "cell_type": "code",
   "execution_count": 7,
   "metadata": {},
   "outputs": [
    {
     "name": "stdout",
     "output_type": "stream",
     "text": [
      "<?xml version='1.0' encoding='utf-8'?>\r\n",
      "<materials>\r\n",
      "  <material depletable=\"true\" id=\"1\" name=\"fuel\">\r\n",
      "    <density units=\"g/cc\" value=\"10.341\" />\r\n",
      "    <nuclide ao=\"0.0002895591829726249\" name=\"U234\" />\r\n",
      "    <nuclide ao=\"0.03239590764444486\" name=\"U235\" />\r\n",
      "    <nuclide ao=\"0.9671661443552968\" name=\"U238\" />\r\n",
      "    <nuclide ao=\"0.00014838881728587684\" name=\"U236\" />\r\n",
      "    <nuclide ao=\"1.999242\" name=\"O16\" />\r\n",
      "    <nuclide ao=\"0.000758\" name=\"O17\" />\r\n",
      "  </material>\r\n",
      "  <material id=\"2\">\r\n",
      "    <density units=\"g/cm3\" value=\"6.55\" />\r\n",
      "    <nuclide name=\"Zr90\" wo=\"50.706117510089236\" />\r\n",
      "    <nuclide name=\"Zr91\" wo=\"11.180887455130357\" />\r\n",
      "    <nuclide name=\"Zr92\" wo=\"17.278101460711323\" />\r\n",
      "    <nuclide name=\"Zr94\" wo=\"17.89110434223899\" />\r\n",
      "    <nuclide name=\"Zr96\" wo=\"2.943789231830121\" />\r\n",
      "  </material>\r\n",
      "  <material id=\"3\" temperature=\"293.0\">\r\n",
      "    <density units=\"g/cc\" value=\"0.9988861747099562\" />\r\n",
      "    <nuclide ao=\"0.11095219683481908\" name=\"H1\" />\r\n",
      "    <nuclide ao=\"1.7282386693958438e-05\" name=\"H2\" />\r\n",
      "    <nuclide ao=\"0.05546371089444403\" name=\"O16\" />\r\n",
      "    <nuclide ao=\"2.1028716312476717e-05\" name=\"O17\" />\r\n",
      "    <nuclide ao=\"1.1915657197517259e-05\" name=\"B10\" />\r\n",
      "    <nuclide ao=\"4.820370303213592e-05\" name=\"B11\" />\r\n",
      "    <sab name=\"c_H_in_H2O\" />\r\n",
      "  </material>\r\n",
      "</materials>\r\n"
     ]
    }
   ],
   "source": [
    "!cat materials.xml"
   ]
  },
  {
   "cell_type": "markdown",
   "metadata": {},
   "source": [
    "## Geometry"
   ]
  },
  {
   "cell_type": "markdown",
   "metadata": {},
   "source": [
    "These parameters define a simple PWR pin with fuel, gap and clad surrounded by water."
   ]
  },
  {
   "cell_type": "code",
   "execution_count": 8,
   "metadata": {},
   "outputs": [],
   "source": [
    "radius_fuel = 0.3922\n",
    "radius_gap = 0.4001\n",
    "radius_clad = 0.4572\n",
    "pitch = 1.26\n",
    "zmax = 10.0"
   ]
  },
  {
   "cell_type": "markdown",
   "metadata": {},
   "source": [
    "## Surfaces\n",
    "\n",
    "Surfaces in this case are defined using simple cylinders infinite in the z-direction centered at the origin.  A convenience function is used to define a rectangular_prism instead of defining 4 surfaces.  Additionally, upper and lower z-planes are defined to bound the problem in z."
   ]
  },
  {
   "cell_type": "code",
   "execution_count": 9,
   "metadata": {},
   "outputs": [],
   "source": [
    "rfo = openmc.ZCylinder(r=radius_fuel)\n",
    "rci = openmc.ZCylinder(r=radius_gap)\n",
    "rco = openmc.ZCylinder(r=radius_clad)\n",
    "xy_box = openmc.model.rectangular_prism(pitch, pitch, boundary_type='reflective')\n",
    "z0 = openmc.ZPlane(z0=-zmax, boundary_type='reflective')\n",
    "z1 = openmc.ZPlane(z0=zmax, boundary_type='reflective')"
   ]
  },
  {
   "cell_type": "markdown",
   "metadata": {},
   "source": [
    "Monte Carlo always simulates particles in a 3D environment, so when modelling a 2D pin cell we could technically leave the z-axis undefined but it is common practice to cap the lower and upper z planes with reflective bounds to avoid particles with very large z-values.  Caution should be taken not to make the planes too close to each other to avoid slowdown from constantly hitting the boundary and reflecting."
   ]
  },
  {
   "cell_type": "markdown",
   "metadata": {},
   "source": [
    "## Cells\n",
    "\n",
    "Once we have surfaces, we can define cells using the +/- notation and fill the cells with our materials."
   ]
  },
  {
   "cell_type": "code",
   "execution_count": 10,
   "metadata": {},
   "outputs": [],
   "source": [
    "fuel = openmc.Cell(name='fuel', fill=uo2)\n",
    "fuel.region = -rfo & +z0 & -z1\n",
    "gap = openmc.Cell(name='gap')\n",
    "gap.region = +rfo & -rci & +z0 & -z1\n",
    "clad = openmc.Cell(name='clad', fill=zirc)\n",
    "clad.region = +rci & -rco & +z0 & -z1\n",
    "mod = openmc.Cell(name='moderator', fill=water)\n",
    "mod.region = +rco & xy_box & +z0 & -z1\n",
    "root = openmc.Universe(cells=(fuel, gap, clad, mod))\n",
    "geometry = openmc.Geometry(root)"
   ]
  },
  {
   "cell_type": "markdown",
   "metadata": {},
   "source": [
    "geometry.export_to_xml()"
   ]
  },
  {
   "cell_type": "code",
   "execution_count": 11,
   "metadata": {},
   "outputs": [
    {
     "name": "stdout",
     "output_type": "stream",
     "text": [
      "<?xml version='1.0' encoding='utf-8'?>\r\n",
      "<geometry>\r\n",
      "  <cell id=\"1\" material=\"1\" name=\"1.6% Fuel\" region=\"-1\" universe=\"1\" />\r\n",
      "  <cell id=\"2\" material=\"2\" name=\"1.6% Clad\" region=\"1 -2\" universe=\"1\" />\r\n",
      "  <cell id=\"3\" material=\"3\" name=\"1.6% Moderator\" region=\"2\" universe=\"1\" />\r\n",
      "  <cell fill=\"1\" id=\"4\" name=\"root cell\" region=\"3 -4 5 -6 7 -8\" universe=\"0\" />\r\n",
      "  <surface coeffs=\"0.0 0.0 0.39218\" id=\"1\" type=\"z-cylinder\" />\r\n",
      "  <surface coeffs=\"0.0 0.0 0.4572\" id=\"2\" type=\"z-cylinder\" />\r\n",
      "  <surface boundary=\"reflective\" coeffs=\"-0.63\" id=\"3\" type=\"x-plane\" />\r\n",
      "  <surface boundary=\"reflective\" coeffs=\"0.63\" id=\"4\" type=\"x-plane\" />\r\n",
      "  <surface boundary=\"reflective\" coeffs=\"-0.63\" id=\"5\" type=\"y-plane\" />\r\n",
      "  <surface boundary=\"reflective\" coeffs=\"0.63\" id=\"6\" type=\"y-plane\" />\r\n",
      "  <surface boundary=\"reflective\" coeffs=\"-10.0\" id=\"7\" type=\"z-plane\" />\r\n",
      "  <surface boundary=\"reflective\" coeffs=\"10.0\" id=\"8\" type=\"z-plane\" />\r\n",
      "</geometry>\r\n"
     ]
    }
   ],
   "source": [
    "!cat geometry.xml"
   ]
  },
  {
   "cell_type": "markdown",
   "metadata": {},
   "source": [
    "# Settings\n",
    "\n",
    "The last input needed is the settings file that define the run parameters.  Monte Carlo computes tallies over a series of batches, however initial batches must be discarded until we have achieved a proper distribution of the fission source.  In the case of a fully reflected pin cell, very few discarded/inactives batches are needed since our initial guess is a uniformly distributed source in the fuel which matches the final solution closely.  In the case of a very long pin, the source distribution will evolve slowly and more batches must be discarded."
   ]
  },
  {
   "cell_type": "code",
   "execution_count": 12,
   "metadata": {},
   "outputs": [],
   "source": [
    "settings = openmc.Settings()"
   ]
  },
  {
   "cell_type": "code",
   "execution_count": 13,
   "metadata": {},
   "outputs": [],
   "source": [
    "#TODO: how many batches/particles are needed for good cross sections?\n",
    "settings.batches = 50\n",
    "settings.inactive = 20\n",
    "settings.particles = 10000"
   ]
  },
  {
   "cell_type": "code",
   "execution_count": 14,
   "metadata": {},
   "outputs": [],
   "source": [
    "# Set the initial source to a flat distribution born only in the fuel.\n",
    "space = openmc.stats.Box((-radius_fuel, -radius_fuel, -zmax),\n",
    "     (radius_fuel, radius_fuel, zmax), only_fissionable=True)\n",
    "settings.source = openmc.Source(space=space)"
   ]
  },
  {
   "cell_type": "code",
   "execution_count": 15,
   "metadata": {},
   "outputs": [],
   "source": [
    "settings.export_to_xml()"
   ]
  },
  {
   "cell_type": "code",
   "execution_count": 16,
   "metadata": {},
   "outputs": [
    {
     "name": "stdout",
     "output_type": "stream",
     "text": [
      "                                %%%%%%%%%%%%%%%\n",
      "                           %%%%%%%%%%%%%%%%%%%%%%%%\n",
      "                        %%%%%%%%%%%%%%%%%%%%%%%%%%%%%%\n",
      "                      %%%%%%%%%%%%%%%%%%%%%%%%%%%%%%%%%%\n",
      "                    %%%%%%%%%%%%%%%%%%%%%%%%%%%%%%%%%%%%%%\n",
      "                   %%%%%%%%%%%%%%%%%%%%%%%%%%%%%%%%%%%%%%%%\n",
      "                                    %%%%%%%%%%%%%%%%%%%%%%%%\n",
      "                                     %%%%%%%%%%%%%%%%%%%%%%%%\n",
      "                 ###############      %%%%%%%%%%%%%%%%%%%%%%%%\n",
      "                ##################     %%%%%%%%%%%%%%%%%%%%%%%\n",
      "                ###################     %%%%%%%%%%%%%%%%%%%%%%%\n",
      "                ####################     %%%%%%%%%%%%%%%%%%%%%%\n",
      "                #####################     %%%%%%%%%%%%%%%%%%%%%\n",
      "                ######################     %%%%%%%%%%%%%%%%%%%%\n",
      "                #######################     %%%%%%%%%%%%%%%%%%\n",
      "                 #######################     %%%%%%%%%%%%%%%%%\n",
      "                 ######################     %%%%%%%%%%%%%%%%%\n",
      "                  ####################     %%%%%%%%%%%%%%%%%\n",
      "                    #################     %%%%%%%%%%%%%%%%%\n",
      "                     ###############     %%%%%%%%%%%%%%%%\n",
      "                       ############     %%%%%%%%%%%%%%%\n",
      "                          ########     %%%%%%%%%%%%%%\n",
      "                                      %%%%%%%%%%%\n",
      "\n",
      "                   | The OpenMC Monte Carlo Code\n",
      "         Copyright | 2011-2021 MIT and OpenMC contributors\n",
      "           License | https://docs.openmc.org/en/latest/license.html\n",
      "           Version | 0.13.0-dev\n",
      "          Git SHA1 | d20b8f7440f92e323f15fcb1e9c9d639c2458d2e\n",
      "         Date/Time | 2023-02-01 17:32:34\n",
      "    OpenMP Threads | 8\n",
      "\n",
      " Reading settings XML file...\n",
      " Reading cross sections XML file...\n",
      " WARNING: Cross section library /home/bforget/linux/data/endfb71_hdf5/CS20.h5\n",
      "          does not exist.\n",
      " WARNING: Cross section library /home/bforget/linux/data/endfb71_hdf5/1V.h5 does\n",
      "          not exist.\n",
      " Reading materials XML file...\n",
      " Reading geometry XML file...\n",
      " Reading U234 from /home/bforget/linux/data/endfb71_hdf5/U234.h5\n",
      " Reading U235 from /home/bforget/linux/data/endfb71_hdf5/U235.h5\n",
      " Reading U238 from /home/bforget/linux/data/endfb71_hdf5/U238.h5\n",
      " Reading U236 from /home/bforget/linux/data/endfb71_hdf5/U236.h5\n",
      " Reading O16 from /home/bforget/linux/data/endfb71_hdf5/O16.h5\n",
      " Reading O17 from /home/bforget/linux/data/endfb71_hdf5/O17.h5\n",
      " Reading Zr90 from /home/bforget/linux/data/endfb71_hdf5/Zr90.h5\n",
      " Reading Zr91 from /home/bforget/linux/data/endfb71_hdf5/Zr91.h5\n",
      " Reading Zr92 from /home/bforget/linux/data/endfb71_hdf5/Zr92.h5\n",
      " Reading Zr94 from /home/bforget/linux/data/endfb71_hdf5/Zr94.h5\n",
      " Reading Zr96 from /home/bforget/linux/data/endfb71_hdf5/Zr96.h5\n",
      " Reading H1 from /home/bforget/linux/data/endfb71_hdf5/H1.h5\n",
      " Reading H2 from /home/bforget/linux/data/endfb71_hdf5/H2.h5\n",
      " Reading B10 from /home/bforget/linux/data/endfb71_hdf5/B10.h5\n",
      " Reading B11 from /home/bforget/linux/data/endfb71_hdf5/B11.h5\n",
      " Reading c_H_in_H2O from /home/bforget/linux/data/endfb71_hdf5/c_H_in_H2O.h5\n",
      " Minimum neutron data temperature: 294.0 K\n",
      " Maximum neutron data temperature: 294.0 K\n",
      " Reading tallies XML file...\n",
      " Preparing distributed cell instances...\n",
      " Writing summary.h5 file...\n",
      " Maximum neutron transport energy: 20000000.0 eV for U235\n",
      " Initializing source particles...\n",
      "\n",
      " ====================>     K EIGENVALUE SIMULATION     <====================\n",
      "\n",
      "  Bat./Gen.      k            Average k\n",
      "  =========   ========   ====================\n",
      "        1/1    1.30297\n",
      "        2/1    1.30144\n",
      "        3/1    1.28102\n",
      "        4/1    1.26695\n",
      "        5/1    1.31304\n",
      "        6/1    1.27187\n",
      "        7/1    1.27858\n",
      "        8/1    1.26429\n",
      "        9/1    1.28267\n",
      "       10/1    1.31920\n",
      "       11/1    1.26684\n",
      "       12/1    1.26202\n",
      "       13/1    1.31574\n",
      "       14/1    1.28697\n",
      "       15/1    1.28738\n",
      "       16/1    1.27270\n",
      "       17/1    1.31254\n",
      "       18/1    1.29930\n",
      "       19/1    1.29923\n",
      "       20/1    1.25651\n",
      "       21/1    1.29260\n",
      "       22/1    1.27999    1.28629 +/- 0.00631\n",
      "       23/1    1.27888    1.28382 +/- 0.00440\n",
      "       24/1    1.30667    1.28953 +/- 0.00650\n",
      "       25/1    1.27524    1.28667 +/- 0.00579\n",
      "       26/1    1.27371    1.28451 +/- 0.00520\n",
      "       27/1    1.28286    1.28428 +/- 0.00440\n",
      "       28/1    1.26549    1.28193 +/- 0.00448\n",
      "       29/1    1.28323    1.28207 +/- 0.00395\n",
      "       30/1    1.29993    1.28386 +/- 0.00396\n",
      "       31/1    1.28427    1.28390 +/- 0.00358\n",
      "       32/1    1.28747    1.28419 +/- 0.00328\n",
      "       33/1    1.27386    1.28340 +/- 0.00312\n",
      "       34/1    1.30514    1.28495 +/- 0.00328\n",
      "       35/1    1.26805    1.28383 +/- 0.00326\n",
      "       36/1    1.26732    1.28279 +/- 0.00322\n",
      "       37/1    1.28176    1.28273 +/- 0.00302\n",
      "       38/1    1.28611    1.28292 +/- 0.00285\n",
      "       39/1    1.26024    1.28173 +/- 0.00295\n",
      "       40/1    1.28313    1.28180 +/- 0.00280\n",
      "       41/1    1.25953    1.28074 +/- 0.00287\n",
      "       42/1    1.28177    1.28078 +/- 0.00274\n",
      "       43/1    1.28766    1.28108 +/- 0.00263\n",
      "       44/1    1.28128    1.28109 +/- 0.00252\n",
      "       45/1    1.26900    1.28061 +/- 0.00246\n",
      "       46/1    1.30698    1.28162 +/- 0.00258\n",
      "       47/1    1.30372    1.28244 +/- 0.00261\n",
      "       48/1    1.29150    1.28276 +/- 0.00254\n",
      "       49/1    1.28318    1.28278 +/- 0.00245\n",
      "       50/1    1.28556    1.28287 +/- 0.00237\n",
      " Creating state point statepoint.50.h5...\n",
      "\n",
      " =======================>     TIMING STATISTICS     <=======================\n",
      "\n",
      " Total time for initialization     = 5.9352e+00 seconds\n",
      "   Reading cross sections          = 1.2663e+00 seconds\n",
      " Total time in simulation          = 9.5335e+00 seconds\n",
      "   Time in transport only          = 9.0126e+00 seconds\n",
      "   Time in inactive batches        = 3.1621e+00 seconds\n",
      "   Time in active batches          = 6.3714e+00 seconds\n",
      "   Time synchronizing fission bank = 3.4952e-02 seconds\n",
      "     Sampling source sites         = 3.2358e-02 seconds\n",
      "     SEND/RECV source sites        = 2.4660e-03 seconds\n",
      "   Time accumulating tallies       = 4.2752e-01 seconds\n",
      "   Time writing statepoints        = 3.0473e-02 seconds\n",
      " Total time for finalization       = 3.6900e-04 seconds\n",
      " Total time elapsed                = 1.5491e+01 seconds\n",
      " Calculation Rate (inactive)       = 63249.4 particles/second\n",
      " Calculation Rate (active)         = 47085.5 particles/second\n",
      "\n",
      " ============================>     RESULTS     <============================\n",
      "\n",
      " k-effective (Collision)     = 1.28305 +/- 0.00251\n",
      " k-effective (Track-length)  = 1.28287 +/- 0.00237\n",
      " k-effective (Absorption)    = 1.28258 +/- 0.00153\n",
      " Combined k-effective        = 1.28261 +/- 0.00140\n",
      " Leakage Fraction            = 0.00000 +/- 0.00000\n",
      "\n"
     ]
    }
   ],
   "source": [
    "# Export to XML and run.\n",
    "openmc.run()"
   ]
  },
  {
   "cell_type": "markdown",
   "metadata": {},
   "source": [
    "When running multiple OpenMC in the same notebook, make sure to clear some of the generated output files."
   ]
  },
  {
   "cell_type": "code",
   "execution_count": 17,
   "metadata": {},
   "outputs": [],
   "source": [
    "!rm *.h5"
   ]
  },
  {
   "cell_type": "markdown",
   "metadata": {},
   "source": [
    "# Shannon Entropy"
   ]
  },
  {
   "cell_type": "markdown",
   "metadata": {},
   "source": [
    "## Source Convergence\n",
    " \n",
    "There is no easy way to determine convergence of the source in a Monte Carlo calculation.  As we will see later in the semester, in deterministic calculations, we can define convergence criteria on both the eigenvalue and the eigenvector, and the simulation stops when these criteria are reached.  In Monte Carlo, we must first converge the source distribution (similar to the eigenvector) by discarding the contribution of many cycles, and then accumulate many additional cycles for statistical purposes.\n",
    "\n",
    "The best tool to evaluate fission source stationarity is a metric called Shannon entropy. Shannon entropy is a concept from information theory that characterizes how much \"information\" a bit stream stores. In the context of eigenvalue calculations, it has been shown that when a source distibution is discretized over a mesh, the entropy of the source probability converges as the distribution itself reaches stationarity.\n",
    "\n",
    "Shannon entropy is defined as\n",
    " \n",
    " $$ H = - \\sum_i p_i \\log_2 p_i $$\n",
    " \n",
    "where $p_i$ is the fraction of source particles in mesh cell $i$. The `Settings` object in OpenMC allows us to specify a mesh over which entropy should be calculated. Note that unlike MCNP, the entropy is not automatically calculated otherwise."
   ]
  },
  {
   "cell_type": "code",
   "execution_count": 18,
   "metadata": {},
   "outputs": [],
   "source": [
    "radius_fuel = 0.3922\n",
    "radius_gap = 0.4001\n",
    "radius_clad = 0.4572\n",
    "pitch = 1.26\n",
    "zmax = 100.0"
   ]
  },
  {
   "cell_type": "code",
   "execution_count": 19,
   "metadata": {},
   "outputs": [],
   "source": [
    "rfo = openmc.ZCylinder(r=radius_fuel)\n",
    "rci = openmc.ZCylinder(r=radius_gap)\n",
    "rco = openmc.ZCylinder(r=radius_clad)\n",
    "xy_box = openmc.model.rectangular_prism(pitch, pitch, boundary_type='reflective')\n",
    "z0 = openmc.ZPlane(z0=-zmax, boundary_type='vacuum')\n",
    "z1 = openmc.ZPlane(z0=zmax, boundary_type='vacuum')"
   ]
  },
  {
   "cell_type": "code",
   "execution_count": 20,
   "metadata": {},
   "outputs": [],
   "source": [
    "fuel = openmc.Cell(name='fuel', fill=uo2)\n",
    "fuel.region = -rfo & +z0 & -z1\n",
    "gap = openmc.Cell(name='gap')\n",
    "gap.region = +rfo & -rci & +z0 & -z1\n",
    "clad = openmc.Cell(name='clad', fill=zirc)\n",
    "clad.region = +rci & -rco & +z0 & -z1\n",
    "mod = openmc.Cell(name='moderator', fill=water)\n",
    "mod.region = +rco & xy_box & +z0 & -z1\n",
    "root = openmc.Universe(cells=(fuel, gap, clad, mod))\n",
    "geometry = openmc.Geometry(root)\n",
    "\n",
    "geometry.export_to_xml()"
   ]
  },
  {
   "cell_type": "markdown",
   "metadata": {},
   "source": [
    "The settings file will define a number of total batches and a number of batches to be discarded.  The number to discard is not known a priori, and we can use Shannon entropy to verify that the number of discarded batches was sufficiently large.  Shannon entropy relies on a mesh that encompasses the fissile material of the problem.  The fission sites are then counted in each element of the mesh to form the distribution function on which Shannon entropy is to be evaluated.  In this case, our problem is a long pin of 200.0 cm with a very small radial dimension, so the Shannon entropy mesh was selected to have 10 axial bins.  An additional important element is the starting source.  The closer the stating source is to the stationary source, the less discarded batches are needed.  In this example, we have a uniform source covering the entire pin cell radially and axially, but the stationary source will have a cosine shape axially."
   ]
  },
  {
   "cell_type": "code",
   "execution_count": 21,
   "metadata": {},
   "outputs": [],
   "source": [
    "settings = openmc.Settings()\n",
    "\n",
    "settings.batches = 200\n",
    "settings.inactive = 20\n",
    "settings.particles = 20000\n",
    "\n",
    "# Set the initial source to a flat distribution born only in the fuel.\n",
    "space = openmc.stats.Box((-radius_fuel, -radius_fuel, -zmax),\n",
    "     (radius_fuel, radius_fuel, zmax), only_fissionable=True)\n",
    "settings.source = openmc.Source(space=space)\n",
    "\n",
    "entropy_mesh = openmc.RegularMesh()\n",
    "entropy_mesh.lower_left = (-pitch/2, -pitch/2, -zmax)\n",
    "entropy_mesh.upper_right = (pitch/2, pitch/2, zmax)\n",
    "entropy_mesh.dimension = (1, 1, 10)\n",
    "\n",
    "settings.entropy_mesh = entropy_mesh\n",
    "\n",
    "settings.export_to_xml()"
   ]
  },
  {
   "cell_type": "code",
   "execution_count": 23,
   "metadata": {},
   "outputs": [
    {
     "name": "stdout",
     "output_type": "stream",
     "text": [
      "                                %%%%%%%%%%%%%%%\n",
      "                           %%%%%%%%%%%%%%%%%%%%%%%%\n",
      "                        %%%%%%%%%%%%%%%%%%%%%%%%%%%%%%\n",
      "                      %%%%%%%%%%%%%%%%%%%%%%%%%%%%%%%%%%\n",
      "                    %%%%%%%%%%%%%%%%%%%%%%%%%%%%%%%%%%%%%%\n",
      "                   %%%%%%%%%%%%%%%%%%%%%%%%%%%%%%%%%%%%%%%%\n",
      "                                    %%%%%%%%%%%%%%%%%%%%%%%%\n",
      "                                     %%%%%%%%%%%%%%%%%%%%%%%%\n",
      "                 ###############      %%%%%%%%%%%%%%%%%%%%%%%%\n",
      "                ##################     %%%%%%%%%%%%%%%%%%%%%%%\n",
      "                ###################     %%%%%%%%%%%%%%%%%%%%%%%\n",
      "                ####################     %%%%%%%%%%%%%%%%%%%%%%\n",
      "                #####################     %%%%%%%%%%%%%%%%%%%%%\n",
      "                ######################     %%%%%%%%%%%%%%%%%%%%\n",
      "                #######################     %%%%%%%%%%%%%%%%%%\n",
      "                 #######################     %%%%%%%%%%%%%%%%%\n",
      "                 ######################     %%%%%%%%%%%%%%%%%\n",
      "                  ####################     %%%%%%%%%%%%%%%%%\n",
      "                    #################     %%%%%%%%%%%%%%%%%\n",
      "                     ###############     %%%%%%%%%%%%%%%%\n",
      "                       ############     %%%%%%%%%%%%%%%\n",
      "                          ########     %%%%%%%%%%%%%%\n",
      "                                      %%%%%%%%%%%\n",
      "\n",
      "                   | The OpenMC Monte Carlo Code\n",
      "         Copyright | 2011-2021 MIT and OpenMC contributors\n",
      "           License | https://docs.openmc.org/en/latest/license.html\n",
      "           Version | 0.13.0-dev\n",
      "          Git SHA1 | d20b8f7440f92e323f15fcb1e9c9d639c2458d2e\n",
      "         Date/Time | 2023-02-01 17:33:59\n",
      "    OpenMP Threads | 8\n",
      "\n",
      " Reading settings XML file...\n",
      " Reading cross sections XML file...\n",
      " WARNING: Cross section library /home/bforget/linux/data/endfb71_hdf5/CS20.h5\n",
      "          does not exist.\n",
      " WARNING: Cross section library /home/bforget/linux/data/endfb71_hdf5/1V.h5 does\n",
      "          not exist.\n",
      " Reading materials XML file...\n",
      " Reading geometry XML file...\n",
      " Reading U234 from /home/bforget/linux/data/endfb71_hdf5/U234.h5\n",
      " Reading U235 from /home/bforget/linux/data/endfb71_hdf5/U235.h5\n",
      " Reading U238 from /home/bforget/linux/data/endfb71_hdf5/U238.h5\n",
      " Reading U236 from /home/bforget/linux/data/endfb71_hdf5/U236.h5\n",
      " Reading O16 from /home/bforget/linux/data/endfb71_hdf5/O16.h5\n",
      " Reading O17 from /home/bforget/linux/data/endfb71_hdf5/O17.h5\n",
      " Reading Zr90 from /home/bforget/linux/data/endfb71_hdf5/Zr90.h5\n",
      " Reading Zr91 from /home/bforget/linux/data/endfb71_hdf5/Zr91.h5\n",
      " Reading Zr92 from /home/bforget/linux/data/endfb71_hdf5/Zr92.h5\n",
      " Reading Zr94 from /home/bforget/linux/data/endfb71_hdf5/Zr94.h5\n",
      " Reading Zr96 from /home/bforget/linux/data/endfb71_hdf5/Zr96.h5\n",
      " Reading H1 from /home/bforget/linux/data/endfb71_hdf5/H1.h5\n",
      " Reading H2 from /home/bforget/linux/data/endfb71_hdf5/H2.h5\n",
      " Reading B10 from /home/bforget/linux/data/endfb71_hdf5/B10.h5\n",
      " Reading B11 from /home/bforget/linux/data/endfb71_hdf5/B11.h5\n",
      " Reading c_H_in_H2O from /home/bforget/linux/data/endfb71_hdf5/c_H_in_H2O.h5\n",
      " Minimum neutron data temperature: 294.0 K\n",
      " Maximum neutron data temperature: 294.0 K\n",
      " Preparing distributed cell instances...\n",
      " Writing summary.h5 file...\n",
      " Maximum neutron transport energy: 20000000.0 eV for U235\n",
      " Initializing source particles...\n",
      "\n",
      " ====================>     K EIGENVALUE SIMULATION     <====================\n",
      "\n",
      "  Bat./Gen.      k       Entropy         Average k \n",
      "  =========   ========   ========   ====================\n",
      "        1/1    1.22900    3.31431\n",
      "        2/1    1.26054    3.30108\n",
      "        3/1    1.25816    3.28892\n",
      "        4/1    1.27346    3.27774\n",
      "        5/1    1.26509    3.26881\n",
      "        6/1    1.28230    3.26562\n",
      "        7/1    1.26608    3.25981\n",
      "        8/1    1.26613    3.25118\n",
      "        9/1    1.26604    3.24886\n",
      "       10/1    1.28167    3.24071\n",
      "       11/1    1.26719    3.23630\n",
      "       12/1    1.27255    3.22992\n",
      "       13/1    1.27763    3.23308\n",
      "       14/1    1.28393    3.23113\n",
      "       15/1    1.26846    3.23111\n",
      "       16/1    1.29184    3.21691\n",
      "       17/1    1.28788    3.21545\n",
      "       18/1    1.26826    3.20933\n",
      "       19/1    1.27439    3.20790\n",
      "       20/1    1.26533    3.19628\n",
      "       21/1    1.27307    3.19538\n",
      "       22/1    1.27359    3.19587    1.27333 +/- 0.00026\n",
      "       23/1    1.27201    3.19486    1.27289 +/- 0.00047\n",
      "       24/1    1.28272    3.18812    1.27534 +/- 0.00248\n",
      "       25/1    1.26176    3.18119    1.27263 +/- 0.00333\n",
      "       26/1    1.27654    3.18141    1.27328 +/- 0.00279\n",
      "       27/1    1.25516    3.18303    1.27069 +/- 0.00350\n",
      "       28/1    1.28732    3.18141    1.27277 +/- 0.00368\n",
      "       29/1    1.25570    3.18118    1.27087 +/- 0.00376\n",
      "       30/1    1.25633    3.18497    1.26942 +/- 0.00366\n",
      "       31/1    1.28167    3.17733    1.27053 +/- 0.00349\n",
      "       32/1    1.27558    3.18125    1.27095 +/- 0.00322\n",
      "       33/1    1.27599    3.16943    1.27134 +/- 0.00298\n",
      "       34/1    1.28216    3.17259    1.27211 +/- 0.00287\n",
      "       35/1    1.26354    3.16222    1.27154 +/- 0.00273\n",
      "       36/1    1.26444    3.16498    1.27110 +/- 0.00259\n",
      "       37/1    1.27818    3.15833    1.27151 +/- 0.00247\n",
      "       38/1    1.27796    3.15841    1.27187 +/- 0.00236\n",
      "       39/1    1.27940    3.15637    1.27227 +/- 0.00227\n",
      "       40/1    1.28403    3.15645    1.27286 +/- 0.00223\n",
      "       41/1    1.28967    3.15459    1.27366 +/- 0.00227\n",
      "       42/1    1.27970    3.16065    1.27393 +/- 0.00218\n",
      "       43/1    1.27482    3.16109    1.27397 +/- 0.00208\n",
      "       44/1    1.29288    3.15794    1.27476 +/- 0.00214\n",
      "       45/1    1.29980    3.16558    1.27576 +/- 0.00229\n",
      "       46/1    1.29689    3.16378    1.27657 +/- 0.00234\n",
      "       47/1    1.26925    3.15937    1.27630 +/- 0.00227\n",
      "       48/1    1.28667    3.15171    1.27667 +/- 0.00222\n",
      "       49/1    1.28972    3.15657    1.27712 +/- 0.00219\n",
      "       50/1    1.26660    3.16339    1.27677 +/- 0.00214\n",
      "       51/1    1.29983    3.16030    1.27751 +/- 0.00220\n",
      "       52/1    1.27091    3.16282    1.27731 +/- 0.00214\n",
      "       53/1    1.26997    3.16439    1.27709 +/- 0.00209\n",
      "       54/1    1.28657    3.16778    1.27736 +/- 0.00204\n",
      "       55/1    1.27558    3.16350    1.27731 +/- 0.00199\n",
      "       56/1    1.27615    3.17051    1.27728 +/- 0.00193\n",
      "       57/1    1.27169    3.17021    1.27713 +/- 0.00188\n",
      "       58/1    1.27261    3.17148    1.27701 +/- 0.00184\n",
      "       59/1    1.28807    3.17910    1.27729 +/- 0.00181\n",
      "       60/1    1.29646    3.18214    1.27777 +/- 0.00183\n",
      "       61/1    1.27346    3.18166    1.27767 +/- 0.00179\n",
      "       62/1    1.26867    3.18386    1.27745 +/- 0.00176\n",
      "       63/1    1.25748    3.18694    1.27699 +/- 0.00178\n",
      "       64/1    1.28334    3.17716    1.27713 +/- 0.00174\n",
      "       65/1    1.27742    3.17208    1.27714 +/- 0.00170\n",
      "       66/1    1.26764    3.17329    1.27693 +/- 0.00168\n",
      "       67/1    1.28032    3.17611    1.27701 +/- 0.00164\n",
      "       68/1    1.28683    3.17186    1.27721 +/- 0.00162\n",
      "       69/1    1.28834    3.17937    1.27744 +/- 0.00161\n",
      "       70/1    1.26203    3.17276    1.27713 +/- 0.00160\n",
      "       71/1    1.27550    3.17221    1.27710 +/- 0.00157\n",
      "       72/1    1.27803    3.16870    1.27712 +/- 0.00154\n",
      "       73/1    1.27666    3.16863    1.27711 +/- 0.00151\n",
      "       74/1    1.28217    3.16749    1.27720 +/- 0.00149\n",
      "       75/1    1.26353    3.15488    1.27695 +/- 0.00148\n",
      "       76/1    1.26266    3.16283    1.27670 +/- 0.00148\n",
      "       77/1    1.27946    3.16491    1.27675 +/- 0.00145\n",
      "       78/1    1.27537    3.17057    1.27672 +/- 0.00143\n",
      "       79/1    1.28965    3.17935    1.27694 +/- 0.00142\n",
      "       80/1    1.26923    3.17435    1.27681 +/- 0.00140\n",
      "       81/1    1.26699    3.17411    1.27665 +/- 0.00139\n",
      "       82/1    1.28363    3.18113    1.27676 +/- 0.00137\n",
      "       83/1    1.27231    3.18484    1.27669 +/- 0.00135\n",
      "       84/1    1.27471    3.17755    1.27666 +/- 0.00133\n",
      "       85/1    1.27417    3.17792    1.27662 +/- 0.00131\n",
      "       86/1    1.26225    3.17056    1.27641 +/- 0.00131\n",
      "       87/1    1.27537    3.16409    1.27639 +/- 0.00129\n",
      "       88/1    1.28331    3.17475    1.27649 +/- 0.00127\n",
      "       89/1    1.27904    3.17391    1.27653 +/- 0.00125\n",
      "       90/1    1.27168    3.17361    1.27646 +/- 0.00124\n",
      "       91/1    1.27989    3.18031    1.27651 +/- 0.00122\n"
     ]
    },
    {
     "name": "stdout",
     "output_type": "stream",
     "text": [
      "       92/1    1.28048    3.17695    1.27656 +/- 0.00120\n",
      "       93/1    1.26939    3.17367    1.27647 +/- 0.00119\n",
      "       94/1    1.28836    3.17107    1.27663 +/- 0.00119\n",
      "       95/1    1.27623    3.16615    1.27662 +/- 0.00117\n",
      "       96/1    1.29278    3.15786    1.27683 +/- 0.00117\n",
      "       97/1    1.28317    3.15246    1.27692 +/- 0.00116\n",
      "       98/1    1.28115    3.15368    1.27697 +/- 0.00115\n",
      "       99/1    1.26205    3.15290    1.27678 +/- 0.00115\n",
      "      100/1    1.26668    3.15400    1.27665 +/- 0.00114\n",
      "      101/1    1.27219    3.15870    1.27660 +/- 0.00113\n",
      "      102/1    1.29256    3.15815    1.27679 +/- 0.00113\n",
      "      103/1    1.27086    3.15974    1.27672 +/- 0.00112\n",
      "      104/1    1.28986    3.15652    1.27688 +/- 0.00112\n",
      "      105/1    1.29073    3.15994    1.27704 +/- 0.00112\n",
      "      106/1    1.27795    3.15618    1.27705 +/- 0.00110\n",
      "      107/1    1.30346    3.15993    1.27736 +/- 0.00113\n",
      "      108/1    1.28367    3.15376    1.27743 +/- 0.00112\n",
      "      109/1    1.26472    3.14811    1.27729 +/- 0.00112\n",
      "      110/1    1.27399    3.15514    1.27725 +/- 0.00111\n",
      "      111/1    1.28437    3.15522    1.27733 +/- 0.00110\n",
      "      112/1    1.28318    3.15733    1.27739 +/- 0.00109\n",
      "      113/1    1.26762    3.16629    1.27729 +/- 0.00108\n",
      "      114/1    1.28088    3.16574    1.27732 +/- 0.00107\n",
      "      115/1    1.28042    3.16297    1.27736 +/- 0.00106\n",
      "      116/1    1.27893    3.17034    1.27737 +/- 0.00105\n",
      "      117/1    1.26394    3.16650    1.27723 +/- 0.00105\n",
      "      118/1    1.29616    3.16268    1.27743 +/- 0.00105\n",
      "      119/1    1.28621    3.16123    1.27752 +/- 0.00105\n",
      "      120/1    1.28573    3.15989    1.27760 +/- 0.00104\n",
      "      121/1    1.27416    3.16359    1.27756 +/- 0.00103\n",
      "      122/1    1.26729    3.15643    1.27746 +/- 0.00102\n",
      "      123/1    1.28773    3.15321    1.27756 +/- 0.00102\n",
      "      124/1    1.28241    3.15451    1.27761 +/- 0.00101\n",
      "      125/1    1.26141    3.15534    1.27746 +/- 0.00101\n",
      "      126/1    1.28412    3.14882    1.27752 +/- 0.00100\n",
      "      127/1    1.28574    3.13884    1.27760 +/- 0.00100\n",
      "      128/1    1.26610    3.13869    1.27749 +/- 0.00099\n",
      "      129/1    1.27857    3.14515    1.27750 +/- 0.00099\n",
      "      130/1    1.28441    3.14041    1.27756 +/- 0.00098\n",
      "      131/1    1.27192    3.13854    1.27751 +/- 0.00097\n",
      "      132/1    1.26471    3.14383    1.27740 +/- 0.00097\n",
      "      133/1    1.25892    3.14524    1.27723 +/- 0.00097\n",
      "      134/1    1.26315    3.14724    1.27711 +/- 0.00097\n",
      "      135/1    1.28642    3.13875    1.27719 +/- 0.00097\n",
      "      136/1    1.27414    3.14532    1.27716 +/- 0.00096\n",
      "      137/1    1.27380    3.14424    1.27714 +/- 0.00095\n",
      "      138/1    1.26945    3.14503    1.27707 +/- 0.00095\n",
      "      139/1    1.25447    3.14890    1.27688 +/- 0.00096\n",
      "      140/1    1.26820    3.14737    1.27681 +/- 0.00095\n",
      "      141/1    1.28735    3.15324    1.27689 +/- 0.00095\n",
      "      142/1    1.28278    3.15031    1.27694 +/- 0.00094\n",
      "      143/1    1.27231    3.14314    1.27691 +/- 0.00094\n",
      "      144/1    1.26801    3.13623    1.27683 +/- 0.00093\n",
      "      145/1    1.25563    3.13453    1.27666 +/- 0.00094\n",
      "      146/1    1.28580    3.14040    1.27674 +/- 0.00093\n",
      "      147/1    1.29069    3.14063    1.27685 +/- 0.00093\n",
      "      148/1    1.27316    3.14029    1.27682 +/- 0.00093\n",
      "      149/1    1.28703    3.14352    1.27690 +/- 0.00092\n",
      "      150/1    1.29357    3.14122    1.27702 +/- 0.00092\n",
      "      151/1    1.27754    3.14122    1.27703 +/- 0.00092\n",
      "      152/1    1.27451    3.14207    1.27701 +/- 0.00091\n",
      "      153/1    1.27271    3.14479    1.27698 +/- 0.00090\n",
      "      154/1    1.28395    3.14975    1.27703 +/- 0.00090\n",
      "      155/1    1.28469    3.14679    1.27709 +/- 0.00089\n",
      "      156/1    1.27199    3.14270    1.27705 +/- 0.00089\n",
      "      157/1    1.29404    3.14396    1.27717 +/- 0.00089\n",
      "      158/1    1.26711    3.14243    1.27710 +/- 0.00089\n",
      "      159/1    1.27958    3.14699    1.27712 +/- 0.00088\n",
      "      160/1    1.27103    3.14458    1.27707 +/- 0.00088\n",
      "      161/1    1.29140    3.15099    1.27718 +/- 0.00087\n",
      "      162/1    1.28888    3.14523    1.27726 +/- 0.00087\n",
      "      163/1    1.28366    3.15344    1.27730 +/- 0.00087\n",
      "      164/1    1.27143    3.14733    1.27726 +/- 0.00086\n",
      "      165/1    1.30425    3.14493    1.27745 +/- 0.00088\n",
      "      166/1    1.28066    3.13364    1.27747 +/- 0.00087\n",
      "      167/1    1.28582    3.13054    1.27753 +/- 0.00087\n",
      "      168/1    1.26473    3.13586    1.27744 +/- 0.00087\n",
      "      169/1    1.27458    3.13385    1.27742 +/- 0.00086\n",
      "      170/1    1.28029    3.13143    1.27744 +/- 0.00085\n",
      "      171/1    1.30357    3.13458    1.27761 +/- 0.00087\n",
      "      172/1    1.27016    3.13381    1.27756 +/- 0.00086\n",
      "      173/1    1.28845    3.13672    1.27764 +/- 0.00086\n",
      "      174/1    1.27384    3.13353    1.27761 +/- 0.00085\n",
      "      175/1    1.26280    3.13085    1.27752 +/- 0.00085\n",
      "      176/1    1.27756    3.13135    1.27752 +/- 0.00085\n",
      "      177/1    1.28215    3.13467    1.27755 +/- 0.00084\n",
      "      178/1    1.29264    3.13017    1.27764 +/- 0.00084\n",
      "      179/1    1.26467    3.13244    1.27756 +/- 0.00084\n",
      "      180/1    1.27800    3.13606    1.27756 +/- 0.00084\n",
      "      181/1    1.28323    3.13645    1.27760 +/- 0.00083\n",
      "      182/1    1.27459    3.13576    1.27758 +/- 0.00083\n",
      "      183/1    1.26297    3.13584    1.27749 +/- 0.00083\n",
      "      184/1    1.25844    3.14109    1.27737 +/- 0.00083\n",
      "      185/1    1.28201    3.13748    1.27740 +/- 0.00083\n",
      "      186/1    1.27749    3.14328    1.27740 +/- 0.00082\n",
      "      187/1    1.27410    3.14341    1.27738 +/- 0.00082\n",
      "      188/1    1.28857    3.14512    1.27745 +/- 0.00081\n",
      "      189/1    1.27684    3.14048    1.27744 +/- 0.00081\n",
      "      190/1    1.28665    3.14122    1.27750 +/- 0.00081\n",
      "      191/1    1.27993    3.13721    1.27751 +/- 0.00080\n",
      "      192/1    1.28089    3.13725    1.27753 +/- 0.00080\n",
      "      193/1    1.25657    3.14007    1.27741 +/- 0.00080\n",
      "      194/1    1.28461    3.14621    1.27745 +/- 0.00080\n",
      "      195/1    1.27814    3.15497    1.27746 +/- 0.00079\n",
      "      196/1    1.26559    3.15029    1.27739 +/- 0.00079\n",
      "      197/1    1.29763    3.15757    1.27750 +/- 0.00080\n",
      "      198/1    1.27822    3.15668    1.27751 +/- 0.00079\n",
      "      199/1    1.28874    3.15518    1.27757 +/- 0.00079\n",
      "      200/1    1.27428    3.14632    1.27755 +/- 0.00078\n",
      " Creating state point statepoint.200.h5...\n",
      "\n",
      " =======================>     TIMING STATISTICS     <=======================\n",
      "\n",
      " Total time for initialization     = 8.9949e-01 seconds\n",
      "   Reading cross sections          = 7.8434e-01 seconds\n",
      " Total time in simulation          = 7.9382e+01 seconds\n",
      "   Time in transport only          = 7.8662e+01 seconds\n",
      "   Time in inactive batches        = 5.6160e+00 seconds\n",
      "   Time in active batches          = 7.3766e+01 seconds\n",
      "   Time synchronizing fission bank = 3.3079e-01 seconds\n",
      "     Sampling source sites         = 3.0696e-01 seconds\n",
      "     SEND/RECV source sites        = 2.3150e-02 seconds\n",
      "   Time accumulating tallies       = 2.1230e-04 seconds\n",
      "   Time writing statepoints        = 2.5010e-02 seconds\n",
      " Total time for finalization       = 2.1000e-06 seconds\n",
      " Total time elapsed                = 8.0298e+01 seconds\n",
      " Calculation Rate (inactive)       = 71225.7 particles/second\n",
      " Calculation Rate (active)         = 48802.7 particles/second\n",
      "\n",
      " ============================>     RESULTS     <============================\n",
      "\n",
      " k-effective (Collision)     = 1.27792 +/- 0.00071\n",
      " k-effective (Track-length)  = 1.27755 +/- 0.00078\n",
      " k-effective (Absorption)    = 1.27728 +/- 0.00050\n",
      " Combined k-effective        = 1.27735 +/- 0.00043\n",
      " Leakage Fraction            = 0.00850 +/- 0.00007\n",
      "\n"
     ]
    }
   ],
   "source": [
    "openmc.run()"
   ]
  },
  {
   "cell_type": "markdown",
   "metadata": {},
   "source": [
    "After the run, we can plot the Shannon entropy and determine when it becomes stationary.  This approach is very qualitative and depends on the mesh selected and the number of particles per batches.  Many attemps have been made to develop more automated metrics to help determine stationarity but none are broadly accepted and used.\n",
    "\n",
    "From the plot below, the Shannon entropy plot indicates that we would probably need ~125 batches to be discarded."
   ]
  },
  {
   "cell_type": "code",
   "execution_count": 24,
   "metadata": {},
   "outputs": [
    {
     "data": {
      "text/plain": [
       "[<matplotlib.lines.Line2D at 0x7f4f23f00af0>]"
      ]
     },
     "execution_count": 24,
     "metadata": {},
     "output_type": "execute_result"
    },
    {
     "data": {
      "image/png": "[encoded data removed]",
      "text/plain": [
       "<Figure size 432x288 with 1 Axes>"
      ]
     },
     "metadata": {
      "needs_background": "light"
     },
     "output_type": "display_data"
    }
   ],
   "source": [
    "sp = openmc.StatePoint('statepoint.200.h5')\n",
    "plt.plot(range(sp.n_batches), sp.entropy)"
   ]
  },
  {
   "cell_type": "markdown",
   "metadata": {},
   "source": [
    "If we only looked at the eigenvalue of the system, we could be led to believe that very few discarded batches were needed."
   ]
  },
  {
   "cell_type": "code",
   "execution_count": 25,
   "metadata": {},
   "outputs": [
    {
     "data": {
      "text/plain": [
       "[<matplotlib.lines.Line2D at 0x7f4f23e0d790>]"
      ]
     },
     "execution_count": 25,
     "metadata": {},
     "output_type": "execute_result"
    },
    {
     "data": {
      "image/png": "[encoded data removed]",
      "text/plain": [
       "<Figure size 432x288 with 1 Axes>"
      ]
     },
     "metadata": {
      "needs_background": "light"
     },
     "output_type": "display_data"
    }
   ],
   "source": [
    "plt.plot(range(sp.n_batches), sp.k_generation)"
   ]
  },
  {
   "cell_type": "markdown",
   "metadata": {},
   "source": [
    "Once again, you must delete some of the output files and also the statepoint variable before running the code again."
   ]
  },
  {
   "cell_type": "code",
   "execution_count": 26,
   "metadata": {},
   "outputs": [],
   "source": [
    "!rm *.h5"
   ]
  },
  {
   "cell_type": "code",
   "execution_count": 27,
   "metadata": {},
   "outputs": [],
   "source": [
    "del sp"
   ]
  },
  {
   "cell_type": "code",
   "execution_count": null,
   "metadata": {},
   "outputs": [],
   "source": []
  }
 ],
 "metadata": {
  "kernelspec": {
   "display_name": "Python 3 (ipykernel)",
   "language": "python",
   "name": "python3"
  },
  "language_info": {
   "codemirror_mode": {
    "name": "ipython",
    "version": 3
   },
   "file_extension": ".py",
   "mimetype": "text/x-python",
   "name": "python",
   "nbconvert_exporter": "python",
   "pygments_lexer": "ipython3",
   "version": "3.9.10"
  }
 },
 "nbformat": 4,
 "nbformat_minor": 2
}
