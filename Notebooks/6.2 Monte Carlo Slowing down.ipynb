{
 "cells": [
  {
   "cell_type": "markdown",
   "metadata": {},
   "source": [
    "# MC Slowing Down using OpenMC Data"
   ]
  },
  {
   "cell_type": "code",
   "execution_count": 1,
   "metadata": {},
   "outputs": [],
   "source": [
    "%matplotlib inline\n",
    "\n",
    "import openmc\n",
    "import numpy as np\n",
    "import matplotlib.pyplot as plt\n",
    "import random\n",
    "import math"
   ]
  },
  {
   "cell_type": "markdown",
   "metadata": {},
   "source": [
    "Read the OpenMC U-238 data library, specifically the absorption and scattering cross-sections."
   ]
  },
  {
   "cell_type": "code",
   "execution_count": 2,
   "metadata": {},
   "outputs": [],
   "source": [
    "u238 = openmc.data.IncidentNeutron.from_hdf5('U238.h5')"
   ]
  },
  {
   "cell_type": "code",
   "execution_count": 3,
   "metadata": {},
   "outputs": [],
   "source": [
    "abso = u238[102]\n",
    "scat = u238[2]"
   ]
  },
  {
   "cell_type": "code",
   "execution_count": 4,
   "metadata": {},
   "outputs": [
    {
     "name": "stdout",
     "output_type": "stream",
     "text": [
      "0.7785467128027682\n"
     ]
    }
   ],
   "source": [
    "A_h = 1\n",
    "alpha_h = 0\n",
    "A_U = 238\n",
    "alpha_U = 237**2/239**2\n",
    "h_xs = 20   #Fixed 20 barns H-1 scattering cross-section\n",
    "I_xs = 6\n",
    "A_I = 16\n",
    "alpha_I = (A_I-1)**2/(A_I+1)**2\n",
    "print(alpha_I)"
   ]
  },
  {
   "cell_type": "code",
   "execution_count": 5,
   "metadata": {},
   "outputs": [],
   "source": [
    "energies = np.logspace(0,4,100)\n",
    "log_del = np.log(1e4)/100"
   ]
  },
  {
   "cell_type": "markdown",
   "metadata": {},
   "source": [
    "Here we define that our problem contains H-1 and U-238, we compute the $\\alpha$ values, assign the nuclide densities and then calculates the dilution cross section.  We will assume that the hydrogen cross section is flat and exactly 20b, but we will use the real U-238 cross-section.  We will caculate effective resonance integrals over 3 groups encompassing the three low-energy resonances."
   ]
  },
  {
   "cell_type": "code",
   "execution_count": 10,
   "metadata": {},
   "outputs": [],
   "source": [
    "def MC_slowing_down(N_h,N_u,N_I,Estart,nps):\n",
    "    random.seed(a=2)\n",
    "    abs_counter = 0.0\n",
    "    flux_counter = np.zeros(len(energies))\n",
    "    for i in range(nps):\n",
    "        E= Estart\n",
    "        while (E>1.0):\n",
    "            #Calculate Sigma_t, the next two lines read the abs and scat xs of U-238 at energy E, \n",
    "            #linear interpolation is performed automatically between the nearest values in the library.\n",
    "            u238_abs = abso.xs['294K'](E)\n",
    "            u238_scat = scat.xs['294K'](E)\n",
    "            sigt_u238 = u238_abs + u238_scat\n",
    "            Sigma_t = N_h*h_xs + N_u*sigt_u238 + N_I*I_xs\n",
    "            if E<10000.0:\n",
    "                index = math.floor(np.log(E)/log_del)\n",
    "                flux_counter[index] = flux_counter[index] + 1/Sigma_t\n",
    "            # Sample which nuclide we are colliding with\n",
    "            rng1 = random.random()\n",
    "            if rng1<(N_h*h_xs / Sigma_t):\n",
    "                Eprime = E*random.random()\n",
    "            elif rng1<((N_h*h_xs+N_I*I_xs) / Sigma_t) and rng1>((N_h*h_xs) / Sigma_t) :\n",
    "                Eprime = (E-alpha_I*E)*random.random()+alpha_I*E\n",
    "            else:\n",
    "                if random.random()<(u238_abs/sigt_u238):\n",
    "                    abs_counter = abs_counter + 1\n",
    "                    Eprime = 0.0\n",
    "                else:\n",
    "                    Eprime = (E-alpha_U*E)*random.random()+alpha_U*E\n",
    "            E = Eprime\n",
    "    flux_counter = flux_counter/nps\n",
    "    return flux_counter, abs_counter"
   ]
  },
  {
   "cell_type": "code",
   "execution_count": 11,
   "metadata": {},
   "outputs": [],
   "source": [
    "N_u = 1 \n",
    "N_I = 0\n",
    "N_dil = np.array([1.0, 10.0, 10000.0, 1000000.0])\n",
    "res_int = np.zeros([5,len(N_dil)])\n",
    "flux_int = np.zeros([5,len(N_dil)])\n",
    "dilution = np.zeros(len(N_dil))\n",
    "tmp_flux = np.zeros([len(N_dil),len(energies)])\n",
    "absorbed = np.zeros(len(N_dil))\n",
    "for j in range(len(N_dil)):\n",
    "    dilution[j] = h_xs*N_dil[j]/N_u\n",
    "    tmp_flux[j,:], absorbed[j] = MC_slowing_down(N_dil[j],N_u,N_I,200000,500000)"
   ]
  },
  {
   "cell_type": "code",
   "execution_count": 28,
   "metadata": {},
   "outputs": [
    {
     "data": {
      "text/plain": [
       "(0.0, 0.005)"
      ]
     },
     "execution_count": 28,
     "metadata": {},
     "output_type": "execute_result"
    },
    {
     "data": {
      "image/png": "[encoded data removed]",
      "text/plain": [
       "<Figure size 432x288 with 1 Axes>"
      ]
     },
     "metadata": {
      "needs_background": "light"
     },
     "output_type": "display_data"
    }
   ],
   "source": [
    "plt.semilogx(energies,tmp_flux[0,:])\n",
    "plt.semilogx(energies,tmp_flux[1,:]*N_dil[1])\n",
    "plt.semilogx(energies,tmp_flux[2,:]*N_dil[2])\n",
    "plt.semilogx(energies,tmp_flux[3,:]*N_dil[3])\n",
    "plt.ylim([0.0,0.005])"
   ]
  },
  {
   "cell_type": "markdown",
   "metadata": {},
   "source": [
    "In this plot, we can see the dip of the flux at the energy of the three main s-wave resonances of U-238. We can also see that the flux is flat when tallied on a log space energy grid.  Additionally, we can see that the flat flux decreases like a staircase after neutrons slow down pass a resonance.  We call this energy self-shielding.  The 36.6 eV resonance is shielding the 20.87 eV and 6.67 eV resonances by reducing the number of neutrons that these resonances can see."
   ]
  },
  {
   "cell_type": "markdown",
   "metadata": {},
   "source": [
    "When picking group boundaries, we have to make sure that the flux didn't drop too much within a group since it impacts the source magnitude that each group will see."
   ]
  },
  {
   "cell_type": "code",
   "execution_count": 29,
   "metadata": {},
   "outputs": [
    {
     "name": "stdout",
     "output_type": "stream",
     "text": [
      "20.0 0.485572\n",
      "200.0 0.830338\n",
      "200000.0 0.99866\n",
      "20000000.0 0.999986\n"
     ]
    }
   ],
   "source": [
    "for i in range(len(N_dil)):\n",
    "    res_esc = (500000 - absorbed[i])/500000\n",
    "    print(dilution[i],res_esc)"
   ]
  },
  {
   "cell_type": "code",
   "execution_count": null,
   "metadata": {},
   "outputs": [],
   "source": []
  }
 ],
 "metadata": {
  "kernelspec": {
   "display_name": "Python 3 (ipykernel)",
   "language": "python",
   "name": "python3"
  },
  "language_info": {
   "codemirror_mode": {
    "name": "ipython",
    "version": 3
   },
   "file_extension": ".py",
   "mimetype": "text/x-python",
   "name": "python",
   "nbconvert_exporter": "python",
   "pygments_lexer": "ipython3",
   "version": "3.9.10"
  }
 },
 "nbformat": 4,
 "nbformat_minor": 2
}
