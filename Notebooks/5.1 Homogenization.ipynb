{
 "cells": [
  {
   "cell_type": "markdown",
   "id": "4f516e11",
   "metadata": {},
   "source": [
    "# Homogenization"
   ]
  },
  {
   "cell_type": "markdown",
   "id": "d9b60727",
   "metadata": {},
   "source": [
    "This notebook will solve a pin cell using continuous energy MC and generate 10 group MGXS over the entire homogenized universe.  A second MC simulation will then use the 10 group MGXS that were generated to solve the homogenized system."
   ]
  },
  {
   "cell_type": "code",
   "execution_count": 1,
   "id": "1125f618",
   "metadata": {},
   "outputs": [],
   "source": [
    "import matplotlib.pyplot as plt\n",
    "import numpy as np\n",
    "import os\n",
    "\n",
    "import openmc\n",
    "\n",
    "%matplotlib inline"
   ]
  },
  {
   "cell_type": "code",
   "execution_count": 2,
   "id": "204a8911",
   "metadata": {},
   "outputs": [],
   "source": [
    "# 1.6% enriched fuel\n",
    "fuel = openmc.Material(name='1.6% Fuel')\n",
    "fuel.set_density('g/cm3', 10.31341)\n",
    "fuel.add_element('U', 1., enrichment=1.6)\n",
    "fuel.add_element('O', 2.)\n",
    "\n",
    "# zircaloy\n",
    "zircaloy = openmc.Material(name='Zircaloy')\n",
    "zircaloy.set_density('g/cm3', 6.55)\n",
    "zircaloy.add_element('Zr', 1.)\n",
    "\n",
    "# borated water\n",
    "water = openmc.Material(name='Borated Water')\n",
    "water.set_density('g/cm3', 0.740582)\n",
    "water.add_element('H', 4.9457e-2)\n",
    "water.add_element('O', 2.4732e-2)\n",
    "water.add_element('B', 8.0042e-6)"
   ]
  },
  {
   "cell_type": "code",
   "execution_count": 3,
   "id": "6e3e2d3b",
   "metadata": {},
   "outputs": [],
   "source": [
    "# Instantiate a Materials object\n",
    "materials_file = openmc.Materials((fuel, zircaloy, water))\n",
    "\n",
    "# Export to \"materials.xml\"\n",
    "materials_file.export_to_xml()"
   ]
  },
  {
   "cell_type": "code",
   "execution_count": 4,
   "id": "3dea4cf1",
   "metadata": {},
   "outputs": [],
   "source": [
    "# Create cylinders for the fuel and clad\n",
    "# The x0 and y0 parameters (0. and 0.) are the default values for an\n",
    "# openmc.ZCylinder object. We could therefore leave them out to no effect\n",
    "fuel_outer_radius = openmc.ZCylinder(x0=0.0, y0=0.0, r=0.39218)\n",
    "clad_outer_radius = openmc.ZCylinder(x0=0.0, y0=0.0, r=0.45720)\n",
    "\n",
    "# Create boundary planes to surround the geometry\n",
    "min_x = openmc.XPlane(x0=-0.63, boundary_type='reflective')\n",
    "max_x = openmc.XPlane(x0=+0.63, boundary_type='reflective')\n",
    "min_y = openmc.YPlane(y0=-0.63, boundary_type='reflective')\n",
    "max_y = openmc.YPlane(y0=+0.63, boundary_type='reflective')\n",
    "min_z = openmc.ZPlane(z0=-10., boundary_type='reflective')\n",
    "max_z = openmc.ZPlane(z0=+10., boundary_type='reflective')"
   ]
  },
  {
   "cell_type": "code",
   "execution_count": 5,
   "id": "e6a94587",
   "metadata": {},
   "outputs": [],
   "source": [
    "# Create a Universe to encapsulate a fuel pin\n",
    "fuel_pin_universe = openmc.Universe(name='1.6% Fuel Pin')\n",
    "\n",
    "# Create fuel Cell\n",
    "fuel_cell = openmc.Cell(name='1.6% Fuel')\n",
    "fuel_cell.fill = fuel\n",
    "fuel_cell.region = -fuel_outer_radius\n",
    "fuel_pin_universe.add_cell(fuel_cell)\n",
    "\n",
    "# Create a clad Cell\n",
    "clad_cell = openmc.Cell(name='1.6% Clad')\n",
    "clad_cell.fill = zircaloy\n",
    "clad_cell.region = +fuel_outer_radius & -clad_outer_radius\n",
    "fuel_pin_universe.add_cell(clad_cell)\n",
    "\n",
    "# Create a moderator Cell\n",
    "moderator_cell = openmc.Cell(name='1.6% Moderator')\n",
    "moderator_cell.fill = water\n",
    "moderator_cell.region = +clad_outer_radius\n",
    "fuel_pin_universe.add_cell(moderator_cell)"
   ]
  },
  {
   "cell_type": "code",
   "execution_count": 6,
   "id": "fcc9df02",
   "metadata": {},
   "outputs": [],
   "source": [
    "# Create root Cell\n",
    "root_cell = openmc.Cell(name='root cell')\n",
    "root_cell.fill = fuel_pin_universe\n",
    "\n",
    "# Add boundary planes\n",
    "root_cell.region = +min_x & -max_x & +min_y & -max_y & +min_z & -max_z\n",
    "\n",
    "# Create root Universe\n",
    "root_universe = openmc.Universe(name='root universe', universe_id=0)\n",
    "root_universe.add_cell(root_cell)"
   ]
  },
  {
   "cell_type": "code",
   "execution_count": 7,
   "id": "846da6ac",
   "metadata": {},
   "outputs": [
    {
     "data": {
      "text/plain": [
       "<matplotlib.image.AxesImage at 0x7f2a2c3dfb80>"
      ]
     },
     "execution_count": 7,
     "metadata": {},
     "output_type": "execute_result"
    },
    {
     "data": {
      "image/png": "[encoded data removed]",
      "text/plain": [
       "<Figure size 432x288 with 1 Axes>"
      ]
     },
     "metadata": {
      "needs_background": "light"
     },
     "output_type": "display_data"
    }
   ],
   "source": [
    "root_universe.plot(origin=(0., 0., 0.), width=(1.26, 1.26), pixels=(100, 100), color_by='material')"
   ]
  },
  {
   "cell_type": "code",
   "execution_count": 8,
   "id": "0eb72163",
   "metadata": {},
   "outputs": [],
   "source": [
    "# Create Geometry and set root universe\n",
    "geometry = openmc.Geometry(root_universe)\n",
    "\n",
    "# Export to \"geometry.xml\"\n",
    "geometry.export_to_xml()"
   ]
  },
  {
   "cell_type": "code",
   "execution_count": 9,
   "id": "d5e12804",
   "metadata": {},
   "outputs": [],
   "source": [
    "# OpenMC simulation parameters\n",
    "batches = 200\n",
    "inactive = 50\n",
    "particles = 10000\n",
    "\n",
    "# Instantiate a Settings object\n",
    "settings_file = openmc.Settings()\n",
    "settings_file.batches = batches\n",
    "settings_file.inactive = inactive\n",
    "settings_file.particles = particles\n",
    "#settings_file.output = {'tallies': False}\n",
    "settings_file.run_mode = 'eigenvalue'\n",
    "#settings_file.verbosity = 4\n",
    "\n",
    "# Create an initial uniform spatial source distribution over fissionable zones\n",
    "bounds = [-0.63, -0.63, -10, 0.63, 0.63, 10.]\n",
    "uniform_dist = openmc.stats.Box(bounds[:3], bounds[3:], only_fissionable=True)\n",
    "settings_file.source = openmc.Source(space=uniform_dist)\n",
    "\n",
    "# Export to \"settings.xml\"\n",
    "settings_file.export_to_xml()"
   ]
  },
  {
   "cell_type": "code",
   "execution_count": 10,
   "id": "5be7ba1f",
   "metadata": {},
   "outputs": [],
   "source": [
    "# Instantiate a 2-group EnergyGroups object\n",
    "groups = openmc.mgxs.EnergyGroups((0.0, 0.058, 0.14, 0.28, 0.625, 4.0, 10.0, 40.0, 5530.0,\n",
    "                                   0.821e6, 20.0e6))\n",
    "#groups = openmc.mgxs.EnergyGroups([0., 0.625, 20.0e6])"
   ]
  },
  {
   "cell_type": "code",
   "execution_count": 11,
   "id": "6fff795c",
   "metadata": {},
   "outputs": [],
   "source": [
    "# Initialize a 2-group MGXS Library for OpenMC\n",
    "mgxs_lib = openmc.mgxs.Library(geometry)\n",
    "mgxs_lib.energy_groups = groups"
   ]
  },
  {
   "cell_type": "code",
   "execution_count": 12,
   "id": "f25afb36",
   "metadata": {},
   "outputs": [],
   "source": [
    "# Specify multi-group cross section types to compute\n",
    "mgxs_lib.mgxs_types = ['total', 'absorption', 'nu-fission', 'fission',\n",
    "                       'nu-scatter matrix', 'multiplicity matrix', 'chi']"
   ]
  },
  {
   "cell_type": "code",
   "execution_count": 13,
   "id": "af69e5f9",
   "metadata": {},
   "outputs": [],
   "source": [
    "# Specify a \"cell\" domain type for the cross section tally filters\n",
    "mgxs_lib.domain_type = \"universe\"\n",
    "\n",
    "# Specify the cell domains over which to compute multi-group cross sections\n",
    "mgxs_lib.domains = [root_universe]"
   ]
  },
  {
   "cell_type": "code",
   "execution_count": 14,
   "id": "db777bba",
   "metadata": {},
   "outputs": [],
   "source": [
    "# Do not compute cross sections on a nuclide-by-nuclide basis\n",
    "mgxs_lib.by_nuclide = False"
   ]
  },
  {
   "cell_type": "code",
   "execution_count": 15,
   "id": "61af81f2",
   "metadata": {},
   "outputs": [
    {
     "name": "stderr",
     "output_type": "stream",
     "text": [
      "/home/bforget/.local/lib/python3.8/site-packages/openmc/mgxs/library.py:418: RuntimeWarning: The P0 correction will be ignored since the scattering order 3 is greater than zero\n",
      "  warn(msg, RuntimeWarning)\n"
     ]
    }
   ],
   "source": [
    "# Set the Legendre order to 3 for P3 scattering\n",
    "mgxs_lib.legendre_order = 3"
   ]
  },
  {
   "cell_type": "code",
   "execution_count": 16,
   "id": "53487592",
   "metadata": {},
   "outputs": [],
   "source": [
    "# Check the library - if no errors are raised, then the library is satisfactory.\n",
    "mgxs_lib.check_library_for_openmc_mgxs()"
   ]
  },
  {
   "cell_type": "code",
   "execution_count": 17,
   "id": "65a205c3",
   "metadata": {},
   "outputs": [],
   "source": [
    "# Construct all tallies needed for the multi-group cross section library\n",
    "mgxs_lib.build_library()"
   ]
  },
  {
   "cell_type": "code",
   "execution_count": 18,
   "id": "d3608d70",
   "metadata": {},
   "outputs": [],
   "source": [
    "# Create a \"tallies.xml\" file for the MGXS Library\n",
    "tallies_file = openmc.Tallies()\n",
    "mgxs_lib.add_to_tallies_file(tallies_file, merge=True)\n",
    "tallies_file.export_to_xml()"
   ]
  },
  {
   "cell_type": "code",
   "execution_count": 20,
   "id": "73f3649f",
   "metadata": {},
   "outputs": [
    {
     "name": "stdout",
     "output_type": "stream",
     "text": [
      "                                %%%%%%%%%%%%%%%\n",
      "                           %%%%%%%%%%%%%%%%%%%%%%%%\n",
      "                        %%%%%%%%%%%%%%%%%%%%%%%%%%%%%%\n",
      "                      %%%%%%%%%%%%%%%%%%%%%%%%%%%%%%%%%%\n",
      "                    %%%%%%%%%%%%%%%%%%%%%%%%%%%%%%%%%%%%%%\n",
      "                   %%%%%%%%%%%%%%%%%%%%%%%%%%%%%%%%%%%%%%%%\n",
      "                                    %%%%%%%%%%%%%%%%%%%%%%%%\n",
      "                                     %%%%%%%%%%%%%%%%%%%%%%%%\n",
      "                 ###############      %%%%%%%%%%%%%%%%%%%%%%%%\n",
      "                ##################     %%%%%%%%%%%%%%%%%%%%%%%\n",
      "                ###################     %%%%%%%%%%%%%%%%%%%%%%%\n",
      "                ####################     %%%%%%%%%%%%%%%%%%%%%%\n",
      "                #####################     %%%%%%%%%%%%%%%%%%%%%\n",
      "                ######################     %%%%%%%%%%%%%%%%%%%%\n",
      "                #######################     %%%%%%%%%%%%%%%%%%\n",
      "                 #######################     %%%%%%%%%%%%%%%%%\n",
      "                 ######################     %%%%%%%%%%%%%%%%%\n",
      "                  ####################     %%%%%%%%%%%%%%%%%\n",
      "                    #################     %%%%%%%%%%%%%%%%%\n",
      "                     ###############     %%%%%%%%%%%%%%%%\n",
      "                       ############     %%%%%%%%%%%%%%%\n",
      "                          ########     %%%%%%%%%%%%%%\n",
      "                                      %%%%%%%%%%%\n",
      "\n",
      "                   | The OpenMC Monte Carlo Code\n",
      "         Copyright | 2011-2021 MIT and OpenMC contributors\n",
      "           License | https://docs.openmc.org/en/latest/license.html\n",
      "           Version | 0.13.0-dev\n",
      "          Git SHA1 | d20b8f7440f92e323f15fcb1e9c9d639c2458d2e\n",
      "         Date/Time | 2023-01-25 09:37:35\n",
      "    OpenMP Threads | 8\n",
      "\n",
      " Reading settings XML file...\n",
      " Reading cross sections XML file...\n",
      " WARNING: Cross section library /home/bforget/linux/data/endfb71_hdf5/CS20.h5\n",
      "          does not exist.\n",
      " WARNING: Cross section library /home/bforget/linux/data/endfb71_hdf5/1V.h5 does\n",
      "          not exist.\n",
      " Reading materials XML file...\n",
      " Reading geometry XML file...\n",
      " Reading U234 from /home/bforget/linux/data/endfb71_hdf5/U234.h5\n",
      " Reading U235 from /home/bforget/linux/data/endfb71_hdf5/U235.h5\n",
      " Reading U238 from /home/bforget/linux/data/endfb71_hdf5/U238.h5\n",
      " Reading U236 from /home/bforget/linux/data/endfb71_hdf5/U236.h5\n",
      " Reading O16 from /home/bforget/linux/data/endfb71_hdf5/O16.h5\n",
      " Reading O17 from /home/bforget/linux/data/endfb71_hdf5/O17.h5\n",
      " Reading Zr90 from /home/bforget/linux/data/endfb71_hdf5/Zr90.h5\n",
      " Reading Zr91 from /home/bforget/linux/data/endfb71_hdf5/Zr91.h5\n",
      " Reading Zr92 from /home/bforget/linux/data/endfb71_hdf5/Zr92.h5\n",
      " Reading Zr94 from /home/bforget/linux/data/endfb71_hdf5/Zr94.h5\n",
      " Reading Zr96 from /home/bforget/linux/data/endfb71_hdf5/Zr96.h5\n",
      " Reading H1 from /home/bforget/linux/data/endfb71_hdf5/H1.h5\n",
      " Reading H2 from /home/bforget/linux/data/endfb71_hdf5/H2.h5\n",
      " Reading B10 from /home/bforget/linux/data/endfb71_hdf5/B10.h5\n",
      " Reading B11 from /home/bforget/linux/data/endfb71_hdf5/B11.h5\n",
      " Minimum neutron data temperature: 294.0 K\n",
      " Maximum neutron data temperature: 294.0 K\n",
      " Reading tallies XML file...\n",
      " Preparing distributed cell instances...\n",
      " Writing summary.h5 file...\n",
      " Maximum neutron transport energy: 20000000.0 eV for U235\n",
      " Initializing source particles...\n",
      "\n",
      " ====================>     K EIGENVALUE SIMULATION     <====================\n",
      "\n",
      "  Bat./Gen.      k            Average k\n",
      "  =========   ========   ====================\n",
      "        1/1    1.15081\n",
      "        2/1    1.12953\n",
      "        3/1    1.14960\n",
      "        4/1    1.14902\n",
      "        5/1    1.16855\n",
      "        6/1    1.17807\n",
      "        7/1    1.18414\n",
      "        8/1    1.14676\n",
      "        9/1    1.19178\n",
      "       10/1    1.15620\n",
      "       11/1    1.16362\n",
      "       12/1    1.15677\n",
      "       13/1    1.15965\n",
      "       14/1    1.15694\n",
      "       15/1    1.15983\n",
      "       16/1    1.15376\n",
      "       17/1    1.15240\n",
      "       18/1    1.15694\n",
      "       19/1    1.15596\n",
      "       20/1    1.16369\n",
      "       21/1    1.15199\n",
      "       22/1    1.18265\n",
      "       23/1    1.15432\n",
      "       24/1    1.17299\n",
      "       25/1    1.16487\n",
      "       26/1    1.14086\n",
      "       27/1    1.15881\n",
      "       28/1    1.17451\n",
      "       29/1    1.20226\n",
      "       30/1    1.16608\n",
      "       31/1    1.15292\n",
      "       32/1    1.17145\n",
      "       33/1    1.15673\n",
      "       34/1    1.17582\n",
      "       35/1    1.18798\n",
      "       36/1    1.18925\n",
      "       37/1    1.17465\n",
      "       38/1    1.18229\n",
      "       39/1    1.16135\n",
      "       40/1    1.16666\n",
      "       41/1    1.15837\n",
      "       42/1    1.18969\n",
      "       43/1    1.17483\n",
      "       44/1    1.15137\n",
      "       45/1    1.13123\n",
      "       46/1    1.16254\n",
      "       47/1    1.14767\n",
      "       48/1    1.13983\n",
      "       49/1    1.17485\n",
      "       50/1    1.16926\n",
      "       51/1    1.17356\n",
      "       52/1    1.16893    1.17124 +/- 0.00231\n",
      "       53/1    1.16065    1.16771 +/- 0.00377\n",
      "       54/1    1.14423    1.16184 +/- 0.00645\n",
      "       55/1    1.18348    1.16617 +/- 0.00661\n",
      "       56/1    1.16203    1.16548 +/- 0.00544\n",
      "       57/1    1.15138    1.16347 +/- 0.00502\n",
      "       58/1    1.15214    1.16205 +/- 0.00457\n",
      "       59/1    1.16497    1.16237 +/- 0.00404\n",
      "       60/1    1.15118    1.16125 +/- 0.00379\n",
      "       61/1    1.15044    1.16027 +/- 0.00356\n",
      "       62/1    1.18718    1.16251 +/- 0.00395\n",
      "       63/1    1.17905    1.16379 +/- 0.00385\n",
      "       64/1    1.16878    1.16414 +/- 0.00358\n",
      "       65/1    1.20166    1.16664 +/- 0.00417\n",
      "       66/1    1.15586    1.16597 +/- 0.00396\n",
      "       67/1    1.17534    1.16652 +/- 0.00376\n",
      "       68/1    1.16464    1.16642 +/- 0.00354\n",
      "       69/1    1.14623    1.16535 +/- 0.00352\n",
      "       70/1    1.15600    1.16489 +/- 0.00337\n",
      "       71/1    1.16971    1.16512 +/- 0.00321\n",
      "       72/1    1.16088    1.16492 +/- 0.00307\n",
      "       73/1    1.15841    1.16464 +/- 0.00295\n",
      "       74/1    1.15087    1.16407 +/- 0.00288\n",
      "       75/1    1.16024    1.16391 +/- 0.00277\n",
      "       76/1    1.16739    1.16405 +/- 0.00266\n",
      "       77/1    1.18114    1.16468 +/- 0.00264\n",
      "       78/1    1.14969    1.16414 +/- 0.00260\n",
      "       79/1    1.14335    1.16343 +/- 0.00261\n",
      "       80/1    1.15445    1.16313 +/- 0.00254\n",
      "       81/1    1.14933    1.16268 +/- 0.00249\n",
      "       82/1    1.14845    1.16224 +/- 0.00245\n",
      "       83/1    1.13337    1.16136 +/- 0.00253\n",
      "       84/1    1.17335    1.16172 +/- 0.00248\n",
      "       85/1    1.16419    1.16179 +/- 0.00241\n",
      "       86/1    1.17006    1.16202 +/- 0.00236\n",
      "       87/1    1.15144    1.16173 +/- 0.00231\n",
      "       88/1    1.15002    1.16142 +/- 0.00227\n",
      "       89/1    1.17644    1.16181 +/- 0.00224\n",
      "       90/1    1.14708    1.16144 +/- 0.00222\n",
      "       91/1    1.16534    1.16153 +/- 0.00216\n",
      "       92/1    1.15456    1.16137 +/- 0.00212\n",
      "       93/1    1.17126    1.16160 +/- 0.00208\n",
      "       94/1    1.16883    1.16176 +/- 0.00204\n",
      "       95/1    1.16531    1.16184 +/- 0.00200\n",
      "       96/1    1.14134    1.16140 +/- 0.00200\n",
      "       97/1    1.16920    1.16156 +/- 0.00197\n",
      "       98/1    1.15317    1.16139 +/- 0.00193\n",
      "       99/1    1.16482    1.16146 +/- 0.00189\n",
      "      100/1    1.13008    1.16083 +/- 0.00196\n",
      "      101/1    1.16994    1.16101 +/- 0.00193\n",
      "      102/1    1.19096    1.16158 +/- 0.00198\n",
      "      103/1    1.16199    1.16159 +/- 0.00194\n",
      "      104/1    1.16326    1.16162 +/- 0.00190\n",
      "      105/1    1.15323    1.16147 +/- 0.00187\n",
      "      106/1    1.16099    1.16146 +/- 0.00184\n",
      "      107/1    1.17088    1.16163 +/- 0.00182\n",
      "      108/1    1.15902    1.16158 +/- 0.00179\n",
      "      109/1    1.14382    1.16128 +/- 0.00178\n",
      "      110/1    1.18507    1.16168 +/- 0.00179\n",
      "      111/1    1.14939    1.16148 +/- 0.00178\n",
      "      112/1    1.16652    1.16156 +/- 0.00175\n",
      "      113/1    1.15590    1.16147 +/- 0.00172\n",
      "      114/1    1.19681    1.16202 +/- 0.00178\n",
      "      115/1    1.17039    1.16215 +/- 0.00176\n",
      "      116/1    1.16575    1.16220 +/- 0.00174\n",
      "      117/1    1.17127    1.16234 +/- 0.00171\n",
      "      118/1    1.18634    1.16269 +/- 0.00173\n",
      "      119/1    1.18002    1.16294 +/- 0.00172\n",
      "      120/1    1.18827    1.16330 +/- 0.00173\n",
      "      121/1    1.12913    1.16282 +/- 0.00177\n",
      "      122/1    1.16552    1.16286 +/- 0.00175\n",
      "      123/1    1.16497    1.16289 +/- 0.00173\n",
      "      124/1    1.17143    1.16300 +/- 0.00171\n",
      "      125/1    1.15106    1.16285 +/- 0.00169\n",
      "      126/1    1.15873    1.16279 +/- 0.00167\n",
      "      127/1    1.16624    1.16284 +/- 0.00165\n",
      "      128/1    1.18828    1.16316 +/- 0.00166\n",
      "      129/1    1.15318    1.16304 +/- 0.00164\n"
     ]
    },
    {
     "name": "stdout",
     "output_type": "stream",
     "text": [
      "      130/1    1.14031    1.16275 +/- 0.00165\n",
      "      131/1    1.16018    1.16272 +/- 0.00163\n",
      "      132/1    1.16714    1.16277 +/- 0.00161\n",
      "      133/1    1.14953    1.16261 +/- 0.00160\n",
      "      134/1    1.15505    1.16252 +/- 0.00158\n",
      "      135/1    1.13676    1.16222 +/- 0.00159\n",
      "      136/1    1.15559    1.16214 +/- 0.00157\n",
      "      137/1    1.15208    1.16203 +/- 0.00156\n",
      "      138/1    1.16475    1.16206 +/- 0.00154\n",
      "      139/1    1.16861    1.16213 +/- 0.00153\n",
      "      140/1    1.17706    1.16230 +/- 0.00152\n",
      "      141/1    1.17663    1.16246 +/- 0.00151\n",
      "      142/1    1.16413    1.16247 +/- 0.00149\n",
      "      143/1    1.17550    1.16261 +/- 0.00148\n",
      "      144/1    1.19676    1.16298 +/- 0.00151\n",
      "      145/1    1.16079    1.16295 +/- 0.00150\n",
      "      146/1    1.15543    1.16288 +/- 0.00148\n",
      "      147/1    1.17271    1.16298 +/- 0.00147\n",
      "      148/1    1.16613    1.16301 +/- 0.00146\n",
      "      149/1    1.18980    1.16328 +/- 0.00147\n",
      "      150/1    1.18598    1.16351 +/- 0.00147\n",
      "      151/1    1.14829    1.16336 +/- 0.00146\n",
      "      152/1    1.13506    1.16308 +/- 0.00147\n",
      "      153/1    1.17309    1.16318 +/- 0.00146\n",
      "      154/1    1.19112    1.16345 +/- 0.00147\n",
      "      155/1    1.14659    1.16328 +/- 0.00147\n",
      "      156/1    1.17340    1.16338 +/- 0.00146\n",
      "      157/1    1.16328    1.16338 +/- 0.00144\n",
      "      158/1    1.18222    1.16355 +/- 0.00144\n",
      "      159/1    1.14682    1.16340 +/- 0.00144\n",
      "      160/1    1.18159    1.16357 +/- 0.00143\n",
      "      161/1    1.14380    1.16339 +/- 0.00143\n",
      "      162/1    1.16405    1.16339 +/- 0.00142\n",
      "      163/1    1.13894    1.16318 +/- 0.00142\n",
      "      164/1    1.18463    1.16337 +/- 0.00142\n",
      "      165/1    1.16169    1.16335 +/- 0.00141\n",
      "      166/1    1.16246    1.16334 +/- 0.00140\n",
      "      167/1    1.18952    1.16357 +/- 0.00140\n",
      "      168/1    1.16943    1.16362 +/- 0.00139\n",
      "      169/1    1.16590    1.16364 +/- 0.00138\n",
      "      170/1    1.16325    1.16363 +/- 0.00137\n",
      "      171/1    1.15193    1.16354 +/- 0.00136\n",
      "      172/1    1.18915    1.16375 +/- 0.00137\n",
      "      173/1    1.16978    1.16379 +/- 0.00136\n",
      "      174/1    1.14329    1.16363 +/- 0.00136\n",
      "      175/1    1.15439    1.16356 +/- 0.00135\n",
      "      176/1    1.15983    1.16353 +/- 0.00134\n",
      "      177/1    1.16130    1.16351 +/- 0.00133\n",
      "      178/1    1.14669    1.16338 +/- 0.00132\n",
      "      179/1    1.16516    1.16339 +/- 0.00131\n",
      "      180/1    1.13917    1.16320 +/- 0.00131\n",
      "      181/1    1.15911    1.16317 +/- 0.00131\n",
      "      182/1    1.15578    1.16312 +/- 0.00130\n",
      "      183/1    1.14780    1.16300 +/- 0.00129\n",
      "      184/1    1.13768    1.16281 +/- 0.00130\n",
      "      185/1    1.16837    1.16285 +/- 0.00129\n",
      "      186/1    1.15556    1.16280 +/- 0.00128\n",
      "      187/1    1.17479    1.16289 +/- 0.00127\n",
      "      188/1    1.16746    1.16292 +/- 0.00126\n",
      "      189/1    1.18126    1.16305 +/- 0.00126\n",
      "      190/1    1.15293    1.16298 +/- 0.00125\n",
      "      191/1    1.15671    1.16294 +/- 0.00125\n",
      "      192/1    1.16857    1.16298 +/- 0.00124\n",
      "      193/1    1.17091    1.16303 +/- 0.00123\n",
      "      194/1    1.16700    1.16306 +/- 0.00122\n",
      "      195/1    1.14963    1.16297 +/- 0.00122\n",
      "      196/1    1.16057    1.16295 +/- 0.00121\n",
      "      197/1    1.16909    1.16299 +/- 0.00120\n",
      "      198/1    1.17183    1.16305 +/- 0.00119\n",
      "      199/1    1.16400    1.16306 +/- 0.00119\n",
      "      200/1    1.16819    1.16309 +/- 0.00118\n",
      " Creating state point statepoint.200.h5...\n",
      "\n",
      " =======================>     TIMING STATISTICS     <=======================\n",
      "\n",
      " Total time for initialization     = 1.0109e+00 seconds\n",
      "   Reading cross sections          = 8.7852e-01 seconds\n",
      " Total time in simulation          = 1.0231e+02 seconds\n",
      "   Time in transport only          = 9.1325e+01 seconds\n",
      "   Time in inactive batches        = 1.2065e+01 seconds\n",
      "   Time in active batches          = 9.0242e+01 seconds\n",
      "   Time synchronizing fission bank = 2.2362e-01 seconds\n",
      "     Sampling source sites         = 2.0776e-01 seconds\n",
      "     SEND/RECV source sites        = 1.5111e-02 seconds\n",
      "   Time accumulating tallies       = 1.0618e+01 seconds\n",
      "   Time writing statepoints        = 4.1084e-02 seconds\n",
      " Total time for finalization       = 6.3086e-03 seconds\n",
      " Total time elapsed                = 1.0335e+02 seconds\n",
      " Calculation Rate (inactive)       = 41441.7 particles/second\n",
      " Calculation Rate (active)         = 16622.0 particles/second\n",
      "\n",
      " ============================>     RESULTS     <============================\n",
      "\n",
      " k-effective (Collision)     = 1.16278 +/- 0.00099\n",
      " k-effective (Track-length)  = 1.16309 +/- 0.00118\n",
      " k-effective (Absorption)    = 1.16426 +/- 0.00081\n",
      " Combined k-effective        = 1.16373 +/- 0.00068\n",
      " Leakage Fraction            = 0.00000 +/- 0.00000\n",
      "\n"
     ]
    }
   ],
   "source": [
    "# Run OpenMC\n",
    "openmc.run()"
   ]
  },
  {
   "cell_type": "code",
   "execution_count": 21,
   "id": "8b8360ef",
   "metadata": {},
   "outputs": [],
   "source": [
    "# Move the statepoint File\n",
    "ce_spfile = './statepoint_ce.h5'\n",
    "os.rename('statepoint.{}.h5'.format(batches), ce_spfile)\n",
    "# Move the Summary file\n",
    "ce_sumfile = './summary_ce.h5'\n",
    "os.rename('summary.h5', ce_sumfile)"
   ]
  },
  {
   "cell_type": "code",
   "execution_count": 22,
   "id": "abe7dc70",
   "metadata": {},
   "outputs": [],
   "source": [
    "# Load the statepoint file\n",
    "sp = openmc.StatePoint(ce_spfile, autolink=False)\n",
    "\n",
    "# Load the summary file in its new location\n",
    "su = openmc.Summary(ce_sumfile)\n",
    "sp.link_with_summary(su)"
   ]
  },
  {
   "cell_type": "markdown",
   "id": "22258477",
   "metadata": {},
   "source": [
    "From the tallies of the continuous energy MC simulation, we now generate a MGXS library for the root universe."
   ]
  },
  {
   "cell_type": "code",
   "execution_count": 23,
   "id": "9b0545ff",
   "metadata": {},
   "outputs": [],
   "source": [
    "# Initialize MGXS Library with OpenMC statepoint data\n",
    "mgxs_lib.load_from_statepoint(sp)"
   ]
  },
  {
   "cell_type": "code",
   "execution_count": 24,
   "id": "08502118",
   "metadata": {},
   "outputs": [],
   "source": [
    "# Create a MGXS File which can then be written to disk\n",
    "mgxs_file = mgxs_lib.create_mg_library(xs_type='macro', xsdata_names=['root'])\n",
    "\n",
    "# Write the file to disk using the default filename of \"mgxs.h5\"\n",
    "mgxs_file.export_to_hdf5()"
   ]
  },
  {
   "cell_type": "markdown",
   "id": "2d5d2c87",
   "metadata": {},
   "source": [
    "We now create a new material that will use the MGXS library."
   ]
  },
  {
   "cell_type": "code",
   "execution_count": 25,
   "id": "42c27b92",
   "metadata": {},
   "outputs": [
    {
     "name": "stderr",
     "output_type": "stream",
     "text": [
      "/home/bforget/.local/lib/python3.8/site-packages/openmc/mixin.py:68: IDWarning: Another Material instance already exists with id=1.\n",
      "  warn(msg, IDWarning)\n"
     ]
    }
   ],
   "source": [
    "# Re-define our materials to use the multi-group macroscopic data\n",
    "# instead of the continuous-energy data.\n",
    "\n",
    "root_mg = openmc.Material(name='homogenized', material_id=1)\n",
    "root_mg.add_macroscopic('root')\n",
    "\n",
    "# Finally, instantiate our Materials object\n",
    "materials_file = openmc.Materials([root_mg])\n",
    "\n",
    "# Set the location of the cross sections file\n",
    "materials_file.cross_sections = 'mgxs.h5'\n",
    "\n",
    "# Export to \"materials.xml\"\n",
    "materials_file.export_to_xml()"
   ]
  },
  {
   "cell_type": "markdown",
   "id": "0d44e717",
   "metadata": {},
   "source": [
    "We turn on multigroup mode in the settings file."
   ]
  },
  {
   "cell_type": "code",
   "execution_count": 26,
   "id": "681136b1",
   "metadata": {},
   "outputs": [],
   "source": [
    "# Set the energy mode\n",
    "settings_file.energy_mode = 'multi-group'\n",
    "\n",
    "# Export to \"settings.xml\"\n",
    "settings_file.export_to_xml()"
   ]
  },
  {
   "cell_type": "code",
   "execution_count": 27,
   "id": "c164ae22",
   "metadata": {},
   "outputs": [],
   "source": [
    "!rm geometry.xml\n",
    "!rm tallies.xml"
   ]
  },
  {
   "cell_type": "markdown",
   "id": "54ee2006",
   "metadata": {},
   "source": [
    "And then we create an homogenized version of the pin cell that will be assigned the homogenized 10 group MGXS material."
   ]
  },
  {
   "cell_type": "code",
   "execution_count": 28,
   "id": "3db5d197",
   "metadata": {},
   "outputs": [],
   "source": [
    "# Create boundary planes to surround the geometry\n",
    "min_x = openmc.XPlane(x0=-0.63, boundary_type='reflective')\n",
    "max_x = openmc.XPlane(x0=+0.63, boundary_type='reflective')\n",
    "min_y = openmc.YPlane(y0=-0.63, boundary_type='reflective')\n",
    "max_y = openmc.YPlane(y0=+0.63, boundary_type='reflective')\n",
    "min_z = openmc.ZPlane(z0=-10., boundary_type='reflective')\n",
    "max_z = openmc.ZPlane(z0=+10., boundary_type='reflective')"
   ]
  },
  {
   "cell_type": "code",
   "execution_count": 29,
   "id": "a819173e",
   "metadata": {},
   "outputs": [],
   "source": [
    "# Create root Cell\n",
    "root_cell = openmc.Cell(name='root cell')\n",
    "root_cell.fill = root_mg\n",
    "\n",
    "# Add boundary planes\n",
    "root_cell.region = +min_x & -max_x & +min_y & -max_y & +min_z & -max_z"
   ]
  },
  {
   "cell_type": "code",
   "execution_count": 30,
   "id": "2516f183",
   "metadata": {},
   "outputs": [
    {
     "name": "stderr",
     "output_type": "stream",
     "text": [
      "/home/bforget/.local/lib/python3.8/site-packages/openmc/mixin.py:68: IDWarning: Another UniverseBase instance already exists with id=0.\n",
      "  warn(msg, IDWarning)\n"
     ]
    }
   ],
   "source": [
    "# Create root Universe\n",
    "root_universe = openmc.Universe(name='root universe', universe_id=0)\n",
    "root_universe.add_cell(root_cell)"
   ]
  },
  {
   "cell_type": "code",
   "execution_count": 31,
   "id": "76ce0f02",
   "metadata": {},
   "outputs": [
    {
     "data": {
      "text/plain": [
       "<matplotlib.image.AxesImage at 0x7f2a80daf910>"
      ]
     },
     "execution_count": 31,
     "metadata": {},
     "output_type": "execute_result"
    },
    {
     "data": {
      "image/png": "[encoded data removed]",
      "text/plain": [
       "<Figure size 432x288 with 1 Axes>"
      ]
     },
     "metadata": {
      "needs_background": "light"
     },
     "output_type": "display_data"
    }
   ],
   "source": [
    "root_universe.plot(origin=(0., 0., 0.), width=(1.26, 1.26), pixels=(100, 100), color_by='material')"
   ]
  },
  {
   "cell_type": "code",
   "execution_count": 32,
   "id": "2913e3f9",
   "metadata": {},
   "outputs": [],
   "source": [
    "# Create Geometry and set root universe\n",
    "geometry = openmc.Geometry(root_universe)\n",
    "\n",
    "# Export to \"geometry.xml\"\n",
    "geometry.export_to_xml()"
   ]
  },
  {
   "cell_type": "code",
   "execution_count": 33,
   "id": "f03001c0",
   "metadata": {},
   "outputs": [
    {
     "name": "stdout",
     "output_type": "stream",
     "text": [
      "                                %%%%%%%%%%%%%%%\n",
      "                           %%%%%%%%%%%%%%%%%%%%%%%%\n",
      "                        %%%%%%%%%%%%%%%%%%%%%%%%%%%%%%\n",
      "                      %%%%%%%%%%%%%%%%%%%%%%%%%%%%%%%%%%\n",
      "                    %%%%%%%%%%%%%%%%%%%%%%%%%%%%%%%%%%%%%%\n",
      "                   %%%%%%%%%%%%%%%%%%%%%%%%%%%%%%%%%%%%%%%%\n",
      "                                    %%%%%%%%%%%%%%%%%%%%%%%%\n",
      "                                     %%%%%%%%%%%%%%%%%%%%%%%%\n",
      "                 ###############      %%%%%%%%%%%%%%%%%%%%%%%%\n",
      "                ##################     %%%%%%%%%%%%%%%%%%%%%%%\n",
      "                ###################     %%%%%%%%%%%%%%%%%%%%%%%\n",
      "                ####################     %%%%%%%%%%%%%%%%%%%%%%\n",
      "                #####################     %%%%%%%%%%%%%%%%%%%%%\n",
      "                ######################     %%%%%%%%%%%%%%%%%%%%\n",
      "                #######################     %%%%%%%%%%%%%%%%%%\n",
      "                 #######################     %%%%%%%%%%%%%%%%%\n",
      "                 ######################     %%%%%%%%%%%%%%%%%\n",
      "                  ####################     %%%%%%%%%%%%%%%%%\n",
      "                    #################     %%%%%%%%%%%%%%%%%\n",
      "                     ###############     %%%%%%%%%%%%%%%%\n",
      "                       ############     %%%%%%%%%%%%%%%\n",
      "                          ########     %%%%%%%%%%%%%%\n",
      "                                      %%%%%%%%%%%\n",
      "\n",
      "                   | The OpenMC Monte Carlo Code\n",
      "         Copyright | 2011-2021 MIT and OpenMC contributors\n",
      "           License | https://docs.openmc.org/en/latest/license.html\n",
      "           Version | 0.13.0-dev\n",
      "          Git SHA1 | d20b8f7440f92e323f15fcb1e9c9d639c2458d2e\n",
      "         Date/Time | 2023-01-25 09:39:34\n",
      "    OpenMP Threads | 8\n",
      "\n",
      " Reading settings XML file...\n",
      " Reading cross sections HDF5 file...\n",
      " Reading materials XML file...\n",
      " Reading geometry XML file...\n",
      " Loading cross section data...\n",
      " Loading root data...\n",
      " Preparing distributed cell instances...\n",
      " Writing summary.h5 file...\n",
      " Initializing source particles...\n",
      "\n",
      " ====================>     K EIGENVALUE SIMULATION     <====================\n",
      "\n",
      "  Bat./Gen.      k            Average k\n",
      "  =========   ========   ====================\n",
      "        1/1    1.17063\n",
      "        2/1    1.16541\n",
      "        3/1    1.15043\n",
      "        4/1    1.16701\n",
      "        5/1    1.15460\n",
      "        6/1    1.15665\n",
      "        7/1    1.15297\n",
      "        8/1    1.16755\n",
      "        9/1    1.16921\n",
      "       10/1    1.15340\n",
      "       11/1    1.15375\n",
      "       12/1    1.16347\n",
      "       13/1    1.15693\n",
      "       14/1    1.18569\n",
      "       15/1    1.17077\n",
      "       16/1    1.14444\n",
      "       17/1    1.15660\n",
      "       18/1    1.15465\n",
      "       19/1    1.16831\n",
      "       20/1    1.16319\n",
      "       21/1    1.17308\n",
      "       22/1    1.15764\n",
      "       23/1    1.16650\n",
      "       24/1    1.16091\n",
      "       25/1    1.15164\n",
      "       26/1    1.15258\n",
      "       27/1    1.16397\n",
      "       28/1    1.15566\n",
      "       29/1    1.17543\n",
      "       30/1    1.17902\n",
      "       31/1    1.15919\n",
      "       32/1    1.15979\n",
      "       33/1    1.18704\n",
      "       34/1    1.16860\n",
      "       35/1    1.17453\n",
      "       36/1    1.18678\n",
      "       37/1    1.16977\n",
      "       38/1    1.16657\n",
      "       39/1    1.17389\n",
      "       40/1    1.16549\n",
      "       41/1    1.17837\n",
      "       42/1    1.17669\n",
      "       43/1    1.18121\n",
      "       44/1    1.13417\n",
      "       45/1    1.17099\n",
      "       46/1    1.16929\n",
      "       47/1    1.19582\n",
      "       48/1    1.17658\n",
      "       49/1    1.15349\n",
      "       50/1    1.16794\n",
      "       51/1    1.15639\n",
      "       52/1    1.15864    1.15751 +/- 0.00112\n",
      "       53/1    1.16795    1.16099 +/- 0.00354\n",
      "       54/1    1.16113    1.16103 +/- 0.00250\n",
      "       55/1    1.17780    1.16438 +/- 0.00387\n",
      "       56/1    1.15268    1.16243 +/- 0.00372\n",
      "       57/1    1.14568    1.16004 +/- 0.00395\n",
      "       58/1    1.17464    1.16186 +/- 0.00388\n",
      "       59/1    1.15623    1.16124 +/- 0.00348\n",
      "       60/1    1.16652    1.16177 +/- 0.00315\n",
      "       61/1    1.13458    1.15930 +/- 0.00377\n",
      "       62/1    1.15340    1.15880 +/- 0.00348\n",
      "       63/1    1.17629    1.16015 +/- 0.00347\n",
      "       64/1    1.17295    1.16106 +/- 0.00334\n",
      "       65/1    1.17788    1.16218 +/- 0.00331\n",
      "       66/1    1.16585    1.16241 +/- 0.00310\n",
      "       67/1    1.15414    1.16193 +/- 0.00295\n",
      "       68/1    1.17650    1.16274 +/- 0.00290\n",
      "       69/1    1.17012    1.16312 +/- 0.00277\n",
      "       70/1    1.18803    1.16437 +/- 0.00291\n",
      "       71/1    1.17584    1.16492 +/- 0.00282\n",
      "       72/1    1.14550    1.16403 +/- 0.00283\n",
      "       73/1    1.17710    1.16460 +/- 0.00276\n",
      "       74/1    1.16201    1.16449 +/- 0.00265\n",
      "       75/1    1.16877    1.16467 +/- 0.00255\n",
      "       76/1    1.14375    1.16386 +/- 0.00257\n",
      "       77/1    1.16594    1.16394 +/- 0.00248\n",
      "       78/1    1.15859    1.16375 +/- 0.00240\n",
      "       79/1    1.15264    1.16336 +/- 0.00234\n",
      "       80/1    1.13934    1.16256 +/- 0.00240\n",
      "       81/1    1.14749    1.16208 +/- 0.00237\n",
      "       82/1    1.15270    1.16178 +/- 0.00232\n",
      "       83/1    1.15678    1.16163 +/- 0.00225\n",
      "       84/1    1.17121    1.16191 +/- 0.00220\n",
      "       85/1    1.16153    1.16190 +/- 0.00214\n",
      "       86/1    1.16435    1.16197 +/- 0.00208\n",
      "       87/1    1.17908    1.16243 +/- 0.00207\n",
      "       88/1    1.15296    1.16218 +/- 0.00203\n",
      "       89/1    1.16350    1.16222 +/- 0.00198\n",
      "       90/1    1.12569    1.16131 +/- 0.00214\n",
      "       91/1    1.15851    1.16124 +/- 0.00208\n",
      "       92/1    1.17707    1.16161 +/- 0.00207\n",
      "       93/1    1.16819    1.16177 +/- 0.00203\n",
      "       94/1    1.16652    1.16188 +/- 0.00198\n",
      "       95/1    1.15849    1.16180 +/- 0.00194\n",
      "       96/1    1.17769    1.16215 +/- 0.00193\n",
      "       97/1    1.16810    1.16227 +/- 0.00189\n",
      "       98/1    1.15827    1.16219 +/- 0.00185\n",
      "       99/1    1.16497    1.16225 +/- 0.00182\n",
      "      100/1    1.16281    1.16226 +/- 0.00178\n",
      "      101/1    1.17062    1.16242 +/- 0.00175\n",
      "      102/1    1.15887    1.16235 +/- 0.00172\n",
      "      103/1    1.16234    1.16235 +/- 0.00169\n",
      "      104/1    1.14994    1.16212 +/- 0.00167\n",
      "      105/1    1.17294    1.16232 +/- 0.00165\n",
      "      106/1    1.16087    1.16229 +/- 0.00162\n",
      "      107/1    1.17399    1.16250 +/- 0.00161\n",
      "      108/1    1.18061    1.16281 +/- 0.00161\n",
      "      109/1    1.16478    1.16284 +/- 0.00158\n",
      "      110/1    1.16599    1.16290 +/- 0.00156\n",
      "      111/1    1.15915    1.16284 +/- 0.00153\n",
      "      112/1    1.16242    1.16283 +/- 0.00151\n",
      "      113/1    1.16711    1.16290 +/- 0.00148\n",
      "      114/1    1.17041    1.16301 +/- 0.00147\n",
      "      115/1    1.17846    1.16325 +/- 0.00146\n",
      "      116/1    1.17945    1.16350 +/- 0.00146\n",
      "      117/1    1.16970    1.16359 +/- 0.00144\n",
      "      118/1    1.16165    1.16356 +/- 0.00142\n",
      "      119/1    1.17548    1.16373 +/- 0.00141\n",
      "      120/1    1.17034    1.16383 +/- 0.00139\n",
      "      121/1    1.17152    1.16394 +/- 0.00138\n",
      "      122/1    1.16589    1.16396 +/- 0.00136\n",
      "      123/1    1.15583    1.16385 +/- 0.00134\n",
      "      124/1    1.17017    1.16394 +/- 0.00133\n",
      "      125/1    1.15915    1.16387 +/- 0.00131\n",
      "      126/1    1.15111    1.16371 +/- 0.00131\n",
      "      127/1    1.15337    1.16357 +/- 0.00130\n",
      "      128/1    1.14739    1.16336 +/- 0.00130\n",
      "      129/1    1.13595    1.16302 +/- 0.00133\n",
      "      130/1    1.14922    1.16284 +/- 0.00132\n",
      "      131/1    1.14797    1.16266 +/- 0.00132\n",
      "      132/1    1.15517    1.16257 +/- 0.00130\n",
      "      133/1    1.16401    1.16259 +/- 0.00129\n",
      "      134/1    1.14383    1.16236 +/- 0.00129\n",
      "      135/1    1.15948    1.16233 +/- 0.00128\n",
      "      136/1    1.18360    1.16258 +/- 0.00129\n",
      "      137/1    1.17894    1.16277 +/- 0.00129\n",
      "      138/1    1.14867    1.16260 +/- 0.00128\n",
      "      139/1    1.16479    1.16263 +/- 0.00127\n",
      "      140/1    1.15844    1.16258 +/- 0.00125\n",
      "      141/1    1.16639    1.16262 +/- 0.00124\n",
      "      142/1    1.15652    1.16256 +/- 0.00123\n",
      "      143/1    1.18755    1.16283 +/- 0.00124\n",
      "      144/1    1.14924    1.16268 +/- 0.00124\n",
      "      145/1    1.14803    1.16253 +/- 0.00124\n",
      "      146/1    1.18503    1.16276 +/- 0.00125\n",
      "      147/1    1.17084    1.16285 +/- 0.00124\n",
      "      148/1    1.15624    1.16278 +/- 0.00122\n",
      "      149/1    1.17014    1.16285 +/- 0.00121\n",
      "      150/1    1.18156    1.16304 +/- 0.00122\n",
      "      151/1    1.16133    1.16302 +/- 0.00120\n",
      "      152/1    1.16930    1.16308 +/- 0.00119\n",
      "      153/1    1.15964    1.16305 +/- 0.00118\n",
      "      154/1    1.15052    1.16293 +/- 0.00118\n",
      "      155/1    1.13790    1.16269 +/- 0.00119\n",
      "      156/1    1.15154    1.16259 +/- 0.00118\n",
      "      157/1    1.16826    1.16264 +/- 0.00117\n",
      "      158/1    1.13651    1.16240 +/- 0.00119\n"
     ]
    },
    {
     "name": "stdout",
     "output_type": "stream",
     "text": [
      "      159/1    1.16900    1.16246 +/- 0.00118\n",
      "      160/1    1.16996    1.16253 +/- 0.00117\n",
      "      161/1    1.17837    1.16267 +/- 0.00117\n",
      "      162/1    1.16899    1.16273 +/- 0.00116\n",
      "      163/1    1.18203    1.16290 +/- 0.00116\n",
      "      164/1    1.15180    1.16280 +/- 0.00116\n",
      "      165/1    1.18133    1.16296 +/- 0.00116\n",
      "      166/1    1.20949    1.16336 +/- 0.00121\n",
      "      167/1    1.14589    1.16321 +/- 0.00121\n",
      "      168/1    1.16402    1.16322 +/- 0.00120\n",
      "      169/1    1.17620    1.16333 +/- 0.00120\n",
      "      170/1    1.15707    1.16328 +/- 0.00119\n",
      "      171/1    1.17401    1.16336 +/- 0.00118\n",
      "      172/1    1.17995    1.16350 +/- 0.00118\n",
      "      173/1    1.14526    1.16335 +/- 0.00118\n",
      "      174/1    1.18154    1.16350 +/- 0.00118\n",
      "      175/1    1.14736    1.16337 +/- 0.00118\n",
      "      176/1    1.15733    1.16332 +/- 0.00117\n",
      "      177/1    1.16424    1.16333 +/- 0.00116\n",
      "      178/1    1.16634    1.16335 +/- 0.00115\n",
      "      179/1    1.17335    1.16343 +/- 0.00114\n",
      "      180/1    1.17540    1.16352 +/- 0.00114\n",
      "      181/1    1.16497    1.16353 +/- 0.00113\n",
      "      182/1    1.15572    1.16347 +/- 0.00112\n",
      "      183/1    1.14444    1.16333 +/- 0.00112\n",
      "      184/1    1.14419    1.16319 +/- 0.00113\n",
      "      185/1    1.16740    1.16322 +/- 0.00112\n",
      "      186/1    1.17160    1.16328 +/- 0.00111\n",
      "      187/1    1.15617    1.16323 +/- 0.00110\n",
      "      188/1    1.14428    1.16309 +/- 0.00110\n",
      "      189/1    1.13757    1.16291 +/- 0.00111\n",
      "      190/1    1.21019    1.16325 +/- 0.00115\n",
      "      191/1    1.18120    1.16337 +/- 0.00115\n",
      "      192/1    1.15540    1.16332 +/- 0.00115\n",
      "      193/1    1.15868    1.16329 +/- 0.00114\n",
      "      194/1    1.16271    1.16328 +/- 0.00113\n",
      "      195/1    1.14497    1.16315 +/- 0.00113\n",
      "      196/1    1.14866    1.16306 +/- 0.00113\n",
      "      197/1    1.17437    1.16313 +/- 0.00112\n",
      "      198/1    1.16406    1.16314 +/- 0.00111\n",
      "      199/1    1.15832    1.16311 +/- 0.00111\n",
      "      200/1    1.15314    1.16304 +/- 0.00110\n",
      " Creating state point statepoint.200.h5...\n",
      "\n",
      " =======================>     TIMING STATISTICS     <=======================\n",
      "\n",
      " Total time for initialization     = 4.1154e-02 seconds\n",
      "   Reading cross sections          = 7.0520e-03 seconds\n",
      " Total time in simulation          = 2.0361e+01 seconds\n",
      "   Time in transport only          = 1.9955e+01 seconds\n",
      "   Time in inactive batches        = 4.1470e+00 seconds\n",
      "   Time in active batches          = 1.6214e+01 seconds\n",
      "   Time synchronizing fission bank = 2.4945e-01 seconds\n",
      "     Sampling source sites         = 2.3313e-01 seconds\n",
      "     SEND/RECV source sites        = 1.5151e-02 seconds\n",
      "   Time accumulating tallies       = 2.2930e-04 seconds\n",
      "   Time writing statepoints        = 4.2855e-02 seconds\n",
      " Total time for finalization       = 2.9000e-06 seconds\n",
      " Total time elapsed                = 2.0417e+01 seconds\n",
      " Calculation Rate (inactive)       = 120568.0 particles/second\n",
      " Calculation Rate (active)         = 92515.5 particles/second\n",
      "\n",
      " ============================>     RESULTS     <============================\n",
      "\n",
      " k-effective (Collision)     = 1.16313 +/- 0.00108\n",
      " k-effective (Track-length)  = 1.16304 +/- 0.00110\n",
      " k-effective (Absorption)    = 1.16358 +/- 0.00041\n",
      " Combined k-effective        = 1.16361 +/- 0.00041\n",
      " Leakage Fraction            = 0.00000 +/- 0.00000\n",
      "\n"
     ]
    }
   ],
   "source": [
    "# Run the Multi-Group OpenMC Simulation\n",
    "openmc.run()"
   ]
  },
  {
   "cell_type": "code",
   "execution_count": 34,
   "id": "9c8b39c2",
   "metadata": {},
   "outputs": [],
   "source": [
    "# Move the StatePoint File\n",
    "mg_spfile = './statepoint_mg.h5'\n",
    "os.rename('statepoint.' + str(batches) + '.h5', mg_spfile)\n",
    "# Move the Summary file\n",
    "mg_sumfile = './summary_mg.h5'\n",
    "os.rename('summary.h5', mg_sumfile)\n",
    "\n",
    "# Rename and then load the last statepoint file and keff value\n",
    "mgsp = openmc.StatePoint(mg_spfile, autolink=False)\n",
    "\n",
    "# Load the summary file in its new location\n",
    "mgsu = openmc.Summary(mg_sumfile)\n",
    "mgsp.link_with_summary(mgsu)\n",
    "\n",
    "# Get keff\n",
    "mg_keff = mgsp.k_combined"
   ]
  },
  {
   "cell_type": "code",
   "execution_count": 35,
   "id": "6208ac45",
   "metadata": {},
   "outputs": [],
   "source": [
    "ce_keff = sp.k_combined"
   ]
  },
  {
   "cell_type": "code",
   "execution_count": 36,
   "id": "a6147094",
   "metadata": {},
   "outputs": [
    {
     "name": "stdout",
     "output_type": "stream",
     "text": [
      "Continuous-Energy keff = 1.163729+/-0.000683\n",
      "Multi-Group keff = 1.163606+/-0.000407\n",
      "difference [pcm]: 12.3\n"
     ]
    }
   ],
   "source": [
    "bias = 1.0E5 * (ce_keff - mg_keff)\n",
    "\n",
    "print('Continuous-Energy keff = {0:1.6f}'.format(ce_keff))\n",
    "print('Multi-Group keff = {0:1.6f}'.format(mg_keff))\n",
    "print('difference [pcm]: {0:1.1f}'.format(bias.nominal_value))"
   ]
  },
  {
   "cell_type": "markdown",
   "id": "d9411dfa",
   "metadata": {},
   "source": [
    "When we fully homogenize the system and generate MGXS, they will exactly reproduce (or within statistics when using MC) the perfect balance between neutron production and neutron sinks.  This is true regardless of the selected group structure!"
   ]
  },
  {
   "cell_type": "code",
   "execution_count": null,
   "id": "81ec7310",
   "metadata": {},
   "outputs": [],
   "source": []
  }
 ],
 "metadata": {
  "kernelspec": {
   "display_name": "Python 3 (ipykernel)",
   "language": "python",
   "name": "python3"
  },
  "language_info": {
   "codemirror_mode": {
    "name": "ipython",
    "version": 3
   },
   "file_extension": ".py",
   "mimetype": "text/x-python",
   "name": "python",
   "nbconvert_exporter": "python",
   "pygments_lexer": "ipython3",
   "version": "3.9.10"
  }
 },
 "nbformat": 4,
 "nbformat_minor": 5
}
