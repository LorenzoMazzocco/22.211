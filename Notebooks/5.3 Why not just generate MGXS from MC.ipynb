{
 "cells": [
  {
   "cell_type": "markdown",
   "metadata": {},
   "source": [
    "# Assembly MGXS"
   ]
  },
  {
   "cell_type": "markdown",
   "metadata": {},
   "source": [
    "This notebook creates a 3x3 assembly with one position with no fuel.  MGXS are tallied over 10 groups."
   ]
  },
  {
   "cell_type": "code",
   "execution_count": 1,
   "metadata": {},
   "outputs": [
    {
     "name": "stdout",
     "output_type": "stream",
     "text": [
      "The history saving thread hit an unexpected error (DatabaseError('database disk image is malformed')).History will not be written to the database.\n"
     ]
    }
   ],
   "source": [
    "%matplotlib inline\n",
    "\n",
    "import numpy as np\n",
    "from uncertainties import ufloat\n",
    "\n",
    "import openmc"
   ]
  },
  {
   "cell_type": "code",
   "execution_count": 2,
   "metadata": {},
   "outputs": [],
   "source": [
    "uo2 = openmc.Material(name='fuel')\n",
    "uo2.add_element('U', 1, enrichment=3.2)\n",
    "uo2.add_element('O', 2)\n",
    "uo2.set_density('g/cc', 10.341)"
   ]
  },
  {
   "cell_type": "code",
   "execution_count": 3,
   "metadata": {},
   "outputs": [
    {
     "name": "stderr",
     "output_type": "stream",
     "text": [
      "/home/bforget/.local/lib/python3.8/site-packages/openmc/data/data.py:335: UserWarning: Results are not valid for temperatures above saturation (above the boiling point).\n",
      "  warn(\"Results are not valid for temperatures above saturation \"\n"
     ]
    }
   ],
   "source": [
    "water = openmc.model.borated_water(boron_ppm=400, temperature=600)"
   ]
  },
  {
   "cell_type": "code",
   "execution_count": 4,
   "metadata": {},
   "outputs": [],
   "source": [
    "materials = openmc.Materials([uo2, water])"
   ]
  },
  {
   "cell_type": "code",
   "execution_count": 5,
   "metadata": {},
   "outputs": [],
   "source": [
    "materials.export_to_xml()"
   ]
  },
  {
   "cell_type": "code",
   "execution_count": 6,
   "metadata": {},
   "outputs": [],
   "source": [
    "#fuel pin dimensions, 0.4 cm sqaure of fuel in 1.2 cm square moderator\n",
    "pin_radius = 0.4\n",
    "pitch = 1.2"
   ]
  },
  {
   "cell_type": "markdown",
   "metadata": {},
   "source": [
    "To simplify the problem, clad and the gap were omitted."
   ]
  },
  {
   "cell_type": "code",
   "execution_count": 7,
   "metadata": {},
   "outputs": [],
   "source": [
    "# square fuel in square box, vacuum boundaries were use on the outside for calculating CPs\n",
    "pin = openmc.ZCylinder(x0=0.0, y0=0.0, r=pin_radius)\n",
    "xy_box = openmc.model.rectangular_prism(3*pitch, 3*pitch,\n",
    "        boundary_type='reflective')\n",
    "z0 = openmc.ZPlane(z0=-10, boundary_type='reflective')\n",
    "z1 = openmc.ZPlane(z0=10, boundary_type='reflective')"
   ]
  },
  {
   "cell_type": "code",
   "execution_count": 8,
   "metadata": {},
   "outputs": [],
   "source": [
    "fuel = openmc.Cell(cell_id=1, name='fuel', fill=uo2)\n",
    "fuel.region = -pin\n",
    "mod = openmc.Cell(cell_id=2, name='moderator', fill=water)\n",
    "mod.region = +pin\n",
    "fuel_univ = openmc.Universe(cells=(fuel, mod))"
   ]
  },
  {
   "cell_type": "code",
   "execution_count": 9,
   "metadata": {},
   "outputs": [],
   "source": [
    "mod = openmc.Cell(cell_id=3, name='guide', fill=water)\n",
    "guide_univ = openmc.Universe(cells=(mod, ))"
   ]
  },
  {
   "cell_type": "code",
   "execution_count": 10,
   "metadata": {},
   "outputs": [],
   "source": [
    "# Build lattice with 8 fuel pins and 1 center empty guide tube\n",
    "lat = openmc.RectLattice()\n",
    "lat.pitch = [pitch, pitch]\n",
    "lat.lower_left = [-1.5*pitch, -1.5*pitch]\n",
    "lat.universes = [[fuel_univ, fuel_univ, fuel_univ],\n",
    "                 [fuel_univ, fuel_univ, fuel_univ],\n",
    "                 [fuel_univ, fuel_univ, guide_univ]]"
   ]
  },
  {
   "cell_type": "code",
   "execution_count": 11,
   "metadata": {},
   "outputs": [],
   "source": [
    "root_cell = openmc.Cell(fill=lat)\n",
    "root_cell.region = xy_box & +z0 & -z1\n",
    "root = openmc.Universe(cells=(root_cell, ))\n",
    "geometry = openmc.Geometry(root)\n",
    "geometry.export_to_xml()"
   ]
  },
  {
   "cell_type": "markdown",
   "metadata": {},
   "source": [
    "The lattice function numbers from the lower left corner (position 0,0) to the top right (position 2,2).  The bottom right corner has no fuel and is filled with water (position 0,2).\n",
    "\n",
    "Unique pins:\n",
    "- Top left corner (position 2,0)\n",
    "- Middle (position 1,1)\n",
    "\n",
    "Symmetric pins:\n",
    "- Position (0,0) with (2,2)\n",
    "- Position (0,1) with (1,2)\n",
    "- Position (1,0) with (2,1)"
   ]
  },
  {
   "cell_type": "code",
   "execution_count": 12,
   "metadata": {},
   "outputs": [
    {
     "data": {
      "text/plain": [
       "<matplotlib.image.AxesImage at 0x7f66ac3cadc0>"
      ]
     },
     "execution_count": 12,
     "metadata": {},
     "output_type": "execute_result"
    },
    {
     "data": {
      "image/png": "[encoded data removed]",
      "text/plain": [
       "<Figure size 432x288 with 1 Axes>"
      ]
     },
     "metadata": {
      "needs_background": "light"
     },
     "output_type": "display_data"
    }
   ],
   "source": [
    "root.plot(width=(3.1*pitch, 3.1*pitch), color_by='material')"
   ]
  },
  {
   "cell_type": "code",
   "execution_count": 13,
   "metadata": {},
   "outputs": [
    {
     "data": {
      "text/plain": [
       "RectLattice\n",
       "\tID             =\t3\n",
       "\tName           =\t\n",
       "\tShape          =\t(3, 3)\n",
       "\tLower Left     =\t[-1.7999999999999998, -1.7999999999999998]\n",
       "\tPitch          =\t[1.2, 1.2]\n",
       "\tOuter          =\tNone\n",
       "\tUniverses      \n",
       "1 1 1 \n",
       "1 1 1 \n",
       "1 1 2 "
      ]
     },
     "execution_count": 13,
     "metadata": {},
     "output_type": "execute_result"
    }
   ],
   "source": [
    "lat"
   ]
  },
  {
   "cell_type": "markdown",
   "metadata": {},
   "source": [
    "The tallies are over 10 groups with the 6.67 eV in group 5 (group 1 being fast) and the other two main resonances in group 4."
   ]
  },
  {
   "cell_type": "code",
   "execution_count": 14,
   "metadata": {},
   "outputs": [
    {
     "name": "stderr",
     "output_type": "stream",
     "text": [
      "/home/bforget/.local/lib/python3.8/site-packages/openmc/mixin.py:68: IDWarning: Another Filter instance already exists with id=1.\n",
      "  warn(msg, IDWarning)\n",
      "/home/bforget/.local/lib/python3.8/site-packages/openmc/mixin.py:68: IDWarning: Another Filter instance already exists with id=2.\n",
      "  warn(msg, IDWarning)\n",
      "/home/bforget/.local/lib/python3.8/site-packages/openmc/mixin.py:68: IDWarning: Another Filter instance already exists with id=8.\n",
      "  warn(msg, IDWarning)\n",
      "/home/bforget/.local/lib/python3.8/site-packages/openmc/mixin.py:68: IDWarning: Another Filter instance already exists with id=7.\n",
      "  warn(msg, IDWarning)\n",
      "/home/bforget/.local/lib/python3.8/site-packages/openmc/mixin.py:68: IDWarning: Another Filter instance already exists with id=6.\n",
      "  warn(msg, IDWarning)\n",
      "/home/bforget/.local/lib/python3.8/site-packages/openmc/mixin.py:68: IDWarning: Another Filter instance already exists with id=15.\n",
      "  warn(msg, IDWarning)\n"
     ]
    }
   ],
   "source": [
    "groups = openmc.mgxs.EnergyGroups((0.0, 0.058, 0.14, 0.28, 0.625, 4.0, 10.0, 40.0, 5530.0,\n",
    "                                   0.821e6, 20.0e6))\n",
    "\n",
    "# Instantiate an MGXS library.\n",
    "mgxs_lib = openmc.mgxs.Library(geometry)\n",
    "mgxs_lib.energy_groups = groups\n",
    "\n",
    "# Don't apply any anisotropic scattering corrections.\n",
    "mgxs_lib.correction = None\n",
    "\n",
    "# Set the desired MGXS data.\n",
    "# TODO: what data is needed?\n",
    "mgxs_lib.mgxs_types = ('total', 'absorption', 'chi')\n",
    "\n",
    "# Define the domain and build the library.\n",
    "mgxs_lib.domain_type = 'distribcell'\n",
    "mgxs_lib.by_nuclide = True\n",
    "mgxs_lib.domains = geometry.get_all_material_cells().values()\n",
    "mgxs_lib.build_library()\n",
    "\n",
    "# Add the tallies.\n",
    "tallies = openmc.Tallies()\n",
    "mgxs_lib.add_to_tallies_file(tallies)\n",
    "\n",
    "tallies.export_to_xml()"
   ]
  },
  {
   "cell_type": "code",
   "execution_count": 15,
   "metadata": {},
   "outputs": [],
   "source": [
    "settings = openmc.Settings()\n",
    "\n",
    "settings.batches = 100\n",
    "settings.inactive = 50\n",
    "settings.particles = 100000\n",
    "\n",
    "# only_fissionable performs a rejection sampling and only accepts source neutrons in material with fission xs\n",
    "space = openmc.stats.Box((-1.5*pitch, -1.5*pitch, 0),\n",
    "     (1.5*pitch, 1.5*pitch, 0), only_fissionable=True)\n",
    "settings.source = openmc.Source(space=space)\n",
    "\n",
    "settings.export_to_xml()"
   ]
  },
  {
   "cell_type": "code",
   "execution_count": 16,
   "metadata": {},
   "outputs": [
    {
     "name": "stdout",
     "output_type": "stream",
     "text": [
      "                                %%%%%%%%%%%%%%%\n",
      "                           %%%%%%%%%%%%%%%%%%%%%%%%\n",
      "                        %%%%%%%%%%%%%%%%%%%%%%%%%%%%%%\n",
      "                      %%%%%%%%%%%%%%%%%%%%%%%%%%%%%%%%%%\n",
      "                    %%%%%%%%%%%%%%%%%%%%%%%%%%%%%%%%%%%%%%\n",
      "                   %%%%%%%%%%%%%%%%%%%%%%%%%%%%%%%%%%%%%%%%\n",
      "                                    %%%%%%%%%%%%%%%%%%%%%%%%\n",
      "                                     %%%%%%%%%%%%%%%%%%%%%%%%\n",
      "                 ###############      %%%%%%%%%%%%%%%%%%%%%%%%\n",
      "                ##################     %%%%%%%%%%%%%%%%%%%%%%%\n",
      "                ###################     %%%%%%%%%%%%%%%%%%%%%%%\n",
      "                ####################     %%%%%%%%%%%%%%%%%%%%%%\n",
      "                #####################     %%%%%%%%%%%%%%%%%%%%%\n",
      "                ######################     %%%%%%%%%%%%%%%%%%%%\n",
      "                #######################     %%%%%%%%%%%%%%%%%%\n",
      "                 #######################     %%%%%%%%%%%%%%%%%\n",
      "                 ######################     %%%%%%%%%%%%%%%%%\n",
      "                  ####################     %%%%%%%%%%%%%%%%%\n",
      "                    #################     %%%%%%%%%%%%%%%%%\n",
      "                     ###############     %%%%%%%%%%%%%%%%\n",
      "                       ############     %%%%%%%%%%%%%%%\n",
      "                          ########     %%%%%%%%%%%%%%\n",
      "                                      %%%%%%%%%%%\n",
      "\n",
      "                   | The OpenMC Monte Carlo Code\n",
      "         Copyright | 2011-2021 MIT and OpenMC contributors\n",
      "           License | https://docs.openmc.org/en/latest/license.html\n",
      "           Version | 0.13.0-dev\n",
      "          Git SHA1 | d20b8f7440f92e323f15fcb1e9c9d639c2458d2e\n",
      "         Date/Time | 2023-01-16 13:20:39\n",
      "    OpenMP Threads | 8\n",
      "\n",
      " Reading settings XML file...\n",
      " Reading cross sections XML file...\n",
      " WARNING: Cross section library /home/bforget/linux/data/endfb71_hdf5/CS20.h5\n",
      "          does not exist.\n",
      " WARNING: Cross section library /home/bforget/linux/data/endfb71_hdf5/1V.h5 does\n",
      "          not exist.\n",
      " Reading materials XML file...\n",
      " Reading geometry XML file...\n",
      " Reading U234 from /home/bforget/linux/data/endfb71_hdf5/U234.h5\n",
      " Reading U235 from /home/bforget/linux/data/endfb71_hdf5/U235.h5\n",
      " Reading U238 from /home/bforget/linux/data/endfb71_hdf5/U238.h5\n",
      " Reading U236 from /home/bforget/linux/data/endfb71_hdf5/U236.h5\n",
      " Reading O16 from /home/bforget/linux/data/endfb71_hdf5/O16.h5\n",
      " Reading O17 from /home/bforget/linux/data/endfb71_hdf5/O17.h5\n",
      " Reading H1 from /home/bforget/linux/data/endfb71_hdf5/H1.h5\n",
      " Reading H2 from /home/bforget/linux/data/endfb71_hdf5/H2.h5\n",
      " Reading B10 from /home/bforget/linux/data/endfb71_hdf5/B10.h5\n",
      " Reading B11 from /home/bforget/linux/data/endfb71_hdf5/B11.h5\n",
      " Reading c_H_in_H2O from /home/bforget/linux/data/endfb71_hdf5/c_H_in_H2O.h5\n",
      " Minimum neutron data temperature: 294.0 K\n",
      " Maximum neutron data temperature: 600.0 K\n",
      " Reading tallies XML file...\n",
      " Preparing distributed cell instances...\n",
      " Writing summary.h5 file...\n",
      " Maximum neutron transport energy: 20000000.0 eV for U235\n",
      " Initializing source particles...\n",
      "\n",
      " ====================>     K EIGENVALUE SIMULATION     <====================\n",
      "\n",
      "  Bat./Gen.      k            Average k\n",
      "  =========   ========   ====================\n",
      "        1/1    1.31104\n",
      "        2/1    1.31779\n",
      "        3/1    1.31266\n",
      "        4/1    1.31889\n",
      "        5/1    1.30398\n",
      "        6/1    1.30178\n",
      "        7/1    1.31601\n",
      "        8/1    1.31386\n",
      "        9/1    1.30961\n",
      "       10/1    1.31574\n",
      "       11/1    1.30721\n",
      "       12/1    1.30418\n",
      "       13/1    1.31460\n",
      "       14/1    1.30755\n",
      "       15/1    1.32385\n",
      "       16/1    1.31321\n",
      "       17/1    1.31768\n",
      "       18/1    1.30718\n",
      "       19/1    1.31290\n",
      "       20/1    1.31109\n",
      "       21/1    1.31925\n",
      "       22/1    1.31744\n",
      "       23/1    1.31452\n",
      "       24/1    1.31762\n",
      "       25/1    1.31124\n",
      "       26/1    1.31652\n",
      "       27/1    1.31257\n",
      "       28/1    1.30825\n",
      "       29/1    1.31001\n",
      "       30/1    1.30754\n",
      "       31/1    1.31042\n",
      "       32/1    1.31613\n",
      "       33/1    1.30944\n",
      "       34/1    1.31637\n",
      "       35/1    1.31959\n",
      "       36/1    1.31468\n",
      "       37/1    1.30900\n",
      "       38/1    1.31860\n",
      "       39/1    1.31216\n",
      "       40/1    1.32047\n",
      "       41/1    1.31320\n",
      "       42/1    1.30425\n",
      "       43/1    1.32244\n",
      "       44/1    1.30971\n",
      "       45/1    1.31147\n",
      "       46/1    1.30748\n",
      "       47/1    1.31165\n",
      "       48/1    1.31487\n",
      "       49/1    1.31247\n",
      "       50/1    1.30679\n",
      "       51/1    1.31763\n",
      "       52/1    1.30486    1.31124 +/- 0.00639\n",
      "       53/1    1.30806    1.31018 +/- 0.00384\n",
      "       54/1    1.30922    1.30994 +/- 0.00272\n",
      "       55/1    1.30901    1.30975 +/- 0.00212\n",
      "       56/1    1.30866    1.30957 +/- 0.00174\n",
      "       57/1    1.30329    1.30867 +/- 0.00172\n",
      "       58/1    1.32094    1.31021 +/- 0.00214\n",
      "       59/1    1.31003    1.31019 +/- 0.00189\n",
      "       60/1    1.32230    1.31140 +/- 0.00208\n",
      "       61/1    1.31699    1.31191 +/- 0.00195\n",
      "       62/1    1.31576    1.31223 +/- 0.00181\n",
      "       63/1    1.31105    1.31214 +/- 0.00166\n",
      "       64/1    1.31107    1.31206 +/- 0.00154\n",
      "       65/1    1.31834    1.31248 +/- 0.00149\n",
      "       66/1    1.31357    1.31255 +/- 0.00140\n",
      "       67/1    1.31077    1.31244 +/- 0.00132\n",
      "       68/1    1.30676    1.31213 +/- 0.00128\n",
      "       69/1    1.30798    1.31191 +/- 0.00123\n",
      "       70/1    1.32146    1.31239 +/- 0.00126\n",
      "       71/1    1.30625    1.31209 +/- 0.00124\n",
      "       72/1    1.31677    1.31231 +/- 0.00120\n",
      "       73/1    1.31267    1.31232 +/- 0.00115\n",
      "       74/1    1.32101    1.31268 +/- 0.00115\n",
      "       75/1    1.31214    1.31266 +/- 0.00111\n",
      "       76/1    1.31619    1.31280 +/- 0.00107\n",
      "       77/1    1.32331    1.31319 +/- 0.00110\n",
      "       78/1    1.31296    1.31318 +/- 0.00106\n",
      "       79/1    1.32105    1.31345 +/- 0.00106\n",
      "       80/1    1.30992    1.31333 +/- 0.00103\n",
      "       81/1    1.30814    1.31317 +/- 0.00101\n",
      "       82/1    1.31130    1.31311 +/- 0.00098\n",
      "       83/1    1.30935    1.31299 +/- 0.00096\n",
      "       84/1    1.31341    1.31301 +/- 0.00093\n",
      "       85/1    1.31188    1.31297 +/- 0.00090\n",
      "       86/1    1.31313    1.31298 +/- 0.00088\n",
      "       87/1    1.32200    1.31322 +/- 0.00089\n",
      "       88/1    1.31029    1.31314 +/- 0.00087\n",
      "       89/1    1.30366    1.31290 +/- 0.00088\n",
      "       90/1    1.31212    1.31288 +/- 0.00086\n",
      "       91/1    1.32157    1.31309 +/- 0.00086\n",
      "       92/1    1.31392    1.31311 +/- 0.00084\n",
      "       93/1    1.31048    1.31305 +/- 0.00082\n",
      "       94/1    1.31056    1.31300 +/- 0.00081\n",
      "       95/1    1.30966    1.31292 +/- 0.00079\n",
      "       96/1    1.30700    1.31279 +/- 0.00079\n",
      "       97/1    1.31813    1.31291 +/- 0.00078\n",
      "       98/1    1.31398    1.31293 +/- 0.00076\n",
      "       99/1    1.31092    1.31289 +/- 0.00075\n",
      "      100/1    1.31437    1.31292 +/- 0.00073\n",
      " Creating state point statepoint.100.h5...\n",
      "\n",
      " =======================>     TIMING STATISTICS     <=======================\n",
      "\n",
      " Total time for initialization     = 3.5982e+00 seconds\n",
      "   Reading cross sections          = 4.3205e-01 seconds\n",
      " Total time in simulation          = 4.0911e+02 seconds\n",
      "   Time in transport only          = 4.0374e+02 seconds\n",
      "   Time in inactive batches        = 1.5585e+02 seconds\n",
      "   Time in active batches          = 2.5327e+02 seconds\n",
      "   Time synchronizing fission bank = 1.2670e+00 seconds\n",
      "     Sampling source sites         = 1.1426e+00 seconds\n",
      "     SEND/RECV source sites        = 1.2359e-01 seconds\n",
      "   Time accumulating tallies       = 3.6093e+00 seconds\n",
      "   Time writing statepoints        = 5.1283e-02 seconds\n",
      " Total time for finalization       = 1.4333e-02 seconds\n",
      " Total time elapsed                = 4.1280e+02 seconds\n",
      " Calculation Rate (inactive)       = 32083.1 particles/second\n",
      " Calculation Rate (active)         = 19742.1 particles/second\n",
      "\n",
      " ============================>     RESULTS     <============================\n",
      "\n",
      " k-effective (Collision)     = 1.31346 +/- 0.00054\n",
      " k-effective (Track-length)  = 1.31292 +/- 0.00073\n",
      " k-effective (Absorption)    = 1.31233 +/- 0.00045\n",
      " Combined k-effective        = 1.31268 +/- 0.00038\n",
      " Leakage Fraction            = 0.00000 +/- 0.00000\n",
      "\n"
     ]
    }
   ],
   "source": [
    "openmc.run()"
   ]
  },
  {
   "cell_type": "code",
   "execution_count": 17,
   "metadata": {},
   "outputs": [],
   "source": [
    "# Load the statepoint and the MGXS results.\n",
    "sp = openmc.StatePoint('statepoint.100.h5')\n",
    "mgxs_lib.load_from_statepoint(sp)"
   ]
  },
  {
   "cell_type": "code",
   "execution_count": 18,
   "metadata": {},
   "outputs": [],
   "source": [
    "# Pick out the fuel and moderator domains.\n",
    "fuel = mgxs_lib.domains[0]\n",
    "moderator = mgxs_lib.domains[1]\n",
    "center = mgxs_lib.domains[2]\n",
    "assert fuel.name == 'fuel'\n",
    "assert moderator.name == 'moderator'\n",
    "assert center.name == 'guide'"
   ]
  },
  {
   "cell_type": "code",
   "execution_count": 31,
   "metadata": {},
   "outputs": [],
   "source": [
    "fuel_abs_table = mgxs_lib.get_mgxs(fuel, 'absorption').get_pandas_dataframe()"
   ]
  },
  {
   "cell_type": "code",
   "execution_count": 44,
   "metadata": {},
   "outputs": [
    {
     "name": "stdout",
     "output_type": "stream",
     "text": [
      "   level 1      level 2       level 3      distribcell group in nuclide  \\\n",
      "      univ cell     lat          univ cell                                \n",
      "        id   id      id  x  y      id   id                                \n",
      "56       4    4       3  0  0       1    1           0        1    U238   \n",
      "50       4    4       3  0  0       1    1           0        2    U238   \n",
      "44       4    4       3  0  0       1    1           0        3    U238   \n",
      "38       4    4       3  0  0       1    1           0        4    U238   \n",
      "32       4    4       3  0  0       1    1           0        5    U238   \n",
      "26       4    4       3  0  0       1    1           0        6    U238   \n",
      "20       4    4       3  0  0       1    1           0        7    U238   \n",
      "14       4    4       3  0  0       1    1           0        8    U238   \n",
      "8        4    4       3  0  0       1    1           0        9    U238   \n",
      "2        4    4       3  0  0       1    1           0       10    U238   \n",
      "\n",
      "        mean std. dev.  \n",
      "                        \n",
      "                        \n",
      "56  0.009781  0.000012  \n",
      "50  0.005361  0.000007  \n",
      "44  0.029603  0.000090  \n",
      "38  0.093413  0.000540  \n",
      "32  0.160905  0.000947  \n",
      "26  0.011413  0.000035  \n",
      "20  0.015914  0.000063  \n",
      "14  0.022375  0.000066  \n",
      "8   0.031707  0.000088  \n",
      "2   0.054891  0.000176  \n",
      "    level 1      level 2       level 3      distribcell group in nuclide  \\\n",
      "       univ cell     lat          univ cell                                \n",
      "         id   id      id  x  y      id   id                                \n",
      "116       4    4       3  1  0       1    1           1        1    U238   \n",
      "110       4    4       3  1  0       1    1           1        2    U238   \n",
      "104       4    4       3  1  0       1    1           1        3    U238   \n",
      "98        4    4       3  1  0       1    1           1        4    U238   \n",
      "92        4    4       3  1  0       1    1           1        5    U238   \n",
      "86        4    4       3  1  0       1    1           1        6    U238   \n",
      "80        4    4       3  1  0       1    1           1        7    U238   \n",
      "74        4    4       3  1  0       1    1           1        8    U238   \n",
      "68        4    4       3  1  0       1    1           1        9    U238   \n",
      "62        4    4       3  1  0       1    1           1       10    U238   \n",
      "\n",
      "         mean std. dev.  \n",
      "                         \n",
      "                         \n",
      "116  0.009788  0.000011  \n",
      "110  0.005397  0.000006  \n",
      "104  0.030605  0.000089  \n",
      "98   0.097031  0.000452  \n",
      "92   0.171641  0.001032  \n",
      "86   0.011416  0.000028  \n",
      "80   0.015922  0.000044  \n",
      "74   0.022387  0.000053  \n",
      "68   0.031741  0.000068  \n",
      "62   0.055010  0.000174  \n",
      "    level 1      level 2       level 3      distribcell group in nuclide  \\\n",
      "       univ cell     lat          univ cell                                \n",
      "         id   id      id  x  y      id   id                                \n",
      "176       4    4       3  0  1       1    1           2        1    U238   \n",
      "170       4    4       3  0  1       1    1           2        2    U238   \n",
      "164       4    4       3  0  1       1    1           2        3    U238   \n",
      "158       4    4       3  0  1       1    1           2        4    U238   \n",
      "152       4    4       3  0  1       1    1           2        5    U238   \n",
      "146       4    4       3  0  1       1    1           2        6    U238   \n",
      "140       4    4       3  0  1       1    1           2        7    U238   \n",
      "134       4    4       3  0  1       1    1           2        8    U238   \n",
      "128       4    4       3  0  1       1    1           2        9    U238   \n",
      "122       4    4       3  0  1       1    1           2       10    U238   \n",
      "\n",
      "         mean std. dev.  \n",
      "                         \n",
      "                         \n",
      "176  0.009779  0.000013  \n",
      "170  0.005360  0.000006  \n",
      "164  0.029450  0.000093  \n",
      "158  0.093213  0.000452  \n",
      "152  0.161303  0.001027  \n",
      "146  0.011415  0.000029  \n",
      "140  0.015905  0.000050  \n",
      "134  0.022366  0.000063  \n",
      "128  0.031695  0.000073  \n",
      "122  0.054921  0.000176  \n",
      "    level 1      level 2       level 3      distribcell group in nuclide  \\\n",
      "       univ cell     lat          univ cell                                \n",
      "         id   id      id  x  y      id   id                                \n",
      "236       4    4       3  1  1       1    1           3        1    U238   \n",
      "230       4    4       3  1  1       1    1           3        2    U238   \n",
      "224       4    4       3  1  1       1    1           3        3    U238   \n",
      "218       4    4       3  1  1       1    1           3        4    U238   \n",
      "212       4    4       3  1  1       1    1           3        5    U238   \n",
      "206       4    4       3  1  1       1    1           3        6    U238   \n",
      "200       4    4       3  1  1       1    1           3        7    U238   \n",
      "194       4    4       3  1  1       1    1           3        8    U238   \n",
      "188       4    4       3  1  1       1    1           3        9    U238   \n",
      "182       4    4       3  1  1       1    1           3       10    U238   \n",
      "\n",
      "         mean std. dev.  \n",
      "                         \n",
      "                         \n",
      "236  0.009782  0.000013  \n",
      "230  0.005371  0.000008  \n",
      "224  0.029734  0.000094  \n",
      "218  0.095485  0.000480  \n",
      "212  0.166538  0.001016  \n",
      "206  0.011412  0.000030  \n",
      "200  0.015918  0.000042  \n",
      "194  0.022372  0.000054  \n",
      "188  0.031711  0.000075  \n",
      "182  0.054914  0.000173  \n",
      "    level 1      level 2       level 3      distribcell group in nuclide  \\\n",
      "       univ cell     lat          univ cell                                \n",
      "         id   id      id  x  y      id   id                                \n",
      "296       4    4       3  2  1       1    1           4        1    U238   \n",
      "290       4    4       3  2  1       1    1           4        2    U238   \n",
      "284       4    4       3  2  1       1    1           4        3    U238   \n",
      "278       4    4       3  2  1       1    1           4        4    U238   \n",
      "272       4    4       3  2  1       1    1           4        5    U238   \n",
      "266       4    4       3  2  1       1    1           4        6    U238   \n",
      "260       4    4       3  2  1       1    1           4        7    U238   \n",
      "254       4    4       3  2  1       1    1           4        8    U238   \n",
      "248       4    4       3  2  1       1    1           4        9    U238   \n",
      "242       4    4       3  2  1       1    1           4       10    U238   \n",
      "\n",
      "         mean std. dev.  \n",
      "                         \n",
      "                         \n",
      "296  0.009794  0.000012  \n",
      "290  0.005394  0.000007  \n",
      "284  0.030435  0.000103  \n",
      "278  0.097075  0.000472  \n",
      "272  0.171411  0.001002  \n",
      "266  0.011414  0.000031  \n",
      "260  0.015926  0.000049  \n",
      "254  0.022384  0.000065  \n",
      "248  0.031735  0.000081  \n",
      "242  0.055103  0.000168  \n",
      "    level 1      level 2       level 3      distribcell group in nuclide  \\\n",
      "       univ cell     lat          univ cell                                \n",
      "         id   id      id  x  y      id   id                                \n",
      "356       4    4       3  0  2       1    1           5        1    U238   \n",
      "350       4    4       3  0  2       1    1           5        2    U238   \n",
      "344       4    4       3  0  2       1    1           5        3    U238   \n",
      "338       4    4       3  0  2       1    1           5        4    U238   \n",
      "332       4    4       3  0  2       1    1           5        5    U238   \n",
      "326       4    4       3  0  2       1    1           5        6    U238   \n",
      "320       4    4       3  0  2       1    1           5        7    U238   \n",
      "314       4    4       3  0  2       1    1           5        8    U238   \n",
      "308       4    4       3  0  2       1    1           5        9    U238   \n",
      "302       4    4       3  0  2       1    1           5       10    U238   \n",
      "\n",
      "         mean std. dev.  \n",
      "                         \n",
      "                         \n",
      "356  0.009781  0.000013  \n",
      "350  0.005353  0.000006  \n",
      "344  0.029294  0.000094  \n",
      "338  0.093150  0.000579  \n",
      "332  0.159429  0.000762  \n",
      "326  0.011413  0.000030  \n",
      "320  0.015904  0.000047  \n",
      "314  0.022371  0.000068  \n",
      "308  0.031693  0.000071  \n",
      "302  0.054889  0.000171  \n",
      "    level 1      level 2       level 3      distribcell group in nuclide  \\\n",
      "       univ cell     lat          univ cell                                \n",
      "         id   id      id  x  y      id   id                                \n",
      "416       4    4       3  1  2       1    1           6        1    U238   \n",
      "410       4    4       3  1  2       1    1           6        2    U238   \n",
      "404       4    4       3  1  2       1    1           6        3    U238   \n",
      "398       4    4       3  1  2       1    1           6        4    U238   \n",
      "392       4    4       3  1  2       1    1           6        5    U238   \n",
      "386       4    4       3  1  2       1    1           6        6    U238   \n",
      "380       4    4       3  1  2       1    1           6        7    U238   \n",
      "374       4    4       3  1  2       1    1           6        8    U238   \n",
      "368       4    4       3  1  2       1    1           6        9    U238   \n",
      "362       4    4       3  1  2       1    1           6       10    U238   \n",
      "\n",
      "         mean std. dev.  \n",
      "                         \n",
      "                         \n",
      "416  0.009788  0.000012  \n",
      "410  0.005360  0.000007  \n",
      "404  0.029441  0.000102  \n",
      "398  0.092468  0.000504  \n",
      "392  0.161302  0.001055  \n",
      "386  0.011412  0.000026  \n",
      "380  0.015917  0.000057  \n",
      "374  0.022366  0.000065  \n",
      "368  0.031699  0.000087  \n",
      "362  0.054862  0.000169  \n",
      "    level 1      level 2       level 3      distribcell group in nuclide  \\\n",
      "       univ cell     lat          univ cell                                \n",
      "         id   id      id  x  y      id   id                                \n",
      "476       4    4       3  2  2       1    1           7        1    U238   \n",
      "470       4    4       3  2  2       1    1           7        2    U238   \n",
      "464       4    4       3  2  2       1    1           7        3    U238   \n",
      "458       4    4       3  2  2       1    1           7        4    U238   \n",
      "452       4    4       3  2  2       1    1           7        5    U238   \n",
      "446       4    4       3  2  2       1    1           7        6    U238   \n",
      "440       4    4       3  2  2       1    1           7        7    U238   \n",
      "434       4    4       3  2  2       1    1           7        8    U238   \n",
      "428       4    4       3  2  2       1    1           7        9    U238   \n",
      "422       4    4       3  2  2       1    1           7       10    U238   \n",
      "\n",
      "         mean std. dev.  \n",
      "                         \n",
      "                         \n",
      "476  0.009786  0.000013  \n",
      "470  0.005361  0.000008  \n",
      "464  0.029337  0.000096  \n",
      "458  0.093388  0.000522  \n",
      "452  0.160982  0.000844  \n",
      "446  0.011417  0.000034  \n",
      "440  0.015911  0.000060  \n",
      "434  0.022372  0.000067  \n",
      "428  0.031716  0.000073  \n",
      "422  0.054850  0.000191  \n"
     ]
    }
   ],
   "source": [
    "print(fuel_abs_table.iloc[2:60:6])\n",
    "print(fuel_abs_table.iloc[62:120:6])\n",
    "print(fuel_abs_table.iloc[122:180:6])\n",
    "print(fuel_abs_table.iloc[182:240:6])\n",
    "print(fuel_abs_table.iloc[242:300:6])\n",
    "print(fuel_abs_table.iloc[302:360:6])\n",
    "print(fuel_abs_table.iloc[362:420:6])\n",
    "print(fuel_abs_table.iloc[422:480:6])\n"
   ]
  },
  {
   "cell_type": "markdown",
   "metadata": {},
   "source": [
    "<!-- Unique pins:\n",
    "- Top left corner (position 0,2): 0.211\n",
    "- Middle (position 1,1): 0.218\n",
    "\n",
    "Symmetric pins:\n",
    "- Position (0,0) with (2,2): 0.213 and 0.213\n",
    "- Position (0,1) with (1,2): 0.213 and 0.213\n",
    "- Position (1,0) with (2,1): 0.224 and 0.224 -->\n",
    "\n",
    "The top left pin (0,2) is surrounded by fuel pin and sees less neutrons from the moderator since it is shielded by the other pins in the lattice.  The pins in (1,0) and (2,1) see the most water.\n",
    "\n",
    "0,0 0.093413\n",
    "0,0 0.160905\n",
    "\n",
    "1,0 0.097031\n",
    "1,0 0.171641\n",
    "\n",
    "0,1 0.093213\n",
    "0,1 0.161303\n",
    "\n",
    "1,1 0.095485\n",
    "1,1 0.166538\n",
    "\n",
    "2,1 0.097075\n",
    "2,1 0.171411\n",
    "\n",
    "0,2 0.093150\n",
    "0,2 0.159429\n",
    "\n",
    "1,2 0.092468\n",
    "1,2 0.161302\n",
    "\n",
    "2,2 0.093388\n",
    "2,2 0.160982\n",
    "\n",
    "0.172 and 0.159 (7% difference)\n",
    "0.097 and 0.093 (4% difference)\n"
   ]
  },
  {
   "cell_type": "markdown",
   "metadata": {},
   "source": [
    "Another thing we notice is that variations are only noticeable in the groups in the resolved resonance range.  There is very little change (not statistically significant) in the fast groups or thermal groups."
   ]
  },
  {
   "cell_type": "markdown",
   "metadata": {},
   "source": [
    "## Why this matters?"
   ]
  },
  {
   "cell_type": "markdown",
   "metadata": {},
   "source": [
    "Running Monte Carlo to generate cross-sections is very costly, and more importantly, if we run Monte Carlo on the full geometry, then there is no need to generate MGXS since we already know the answer (flux, power, ...).\n",
    "\n",
    "The goal is thus to run a small problem and use the cross-sections in the larger problem.\n",
    "\n",
    "For the small problem above, we could think of it as using a fully reflected pin cell model to generate the data for the small assembly.  However, if we run a single pin cell and try using in this 3x3, the cross-sections in the resonance region can be off by as much as ~7%.  How can we generate MGXS to be used in the larger problem?  We need a way to differentiate the pins by their local environment.  (The pin cell results will produce results very similar to the pin in the upper left corner since it is surrounded by fuel.)"
   ]
  },
  {
   "cell_type": "code",
   "execution_count": null,
   "metadata": {},
   "outputs": [],
   "source": []
  },
  {
   "cell_type": "code",
   "execution_count": null,
   "metadata": {},
   "outputs": [],
   "source": []
  }
 ],
 "metadata": {
  "kernelspec": {
   "display_name": "Python 3 (ipykernel)",
   "language": "python",
   "name": "python3"
  },
  "language_info": {
   "codemirror_mode": {
    "name": "ipython",
    "version": 3
   },
   "file_extension": ".py",
   "mimetype": "text/x-python",
   "name": "python",
   "nbconvert_exporter": "python",
   "pygments_lexer": "ipython3",
   "version": "3.9.10"
  }
 },
 "nbformat": 4,
 "nbformat_minor": 2
}
