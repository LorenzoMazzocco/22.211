{
 "cells": [
  {
   "cell_type": "markdown",
   "metadata": {},
   "source": [
    "# Monte Carlo Basics"
   ]
  },
  {
   "cell_type": "markdown",
   "metadata": {},
   "source": [
    "This notebook introduces a brief review of statistics and some Monte Carlo sampling basics."
   ]
  },
  {
   "cell_type": "code",
   "execution_count": 2,
   "metadata": {},
   "outputs": [],
   "source": [
    "import numpy as np\n",
    "%matplotlib inline\n",
    "import matplotlib.pyplot as plt"
   ]
  },
  {
   "cell_type": "markdown",
   "metadata": {},
   "source": [
    "## Variance"
   ]
  },
  {
   "cell_type": "markdown",
   "metadata": {},
   "source": [
    "This example samples the binomial distribution many times and calculates the mean and variance.  You can think of this example as a coin flip with one side having a value of 1 and the other a value of 0, and the number of coins (10 in example below) are summed together.  This process has an analytical solution that we can compare to and illustrate sample mean and sample variance."
   ]
  },
  {
   "cell_type": "code",
   "execution_count": 5,
   "metadata": {},
   "outputs": [],
   "source": [
    "n, p = 10, .5  # number of trials, probability of each trial\n",
    "n_batches = 30\n",
    "s = np.random.binomial(n, p, n_batches)"
   ]
  },
  {
   "cell_type": "markdown",
   "metadata": {},
   "source": [
    "This is the sample space of the 30 trials."
   ]
  },
  {
   "cell_type": "code",
   "execution_count": 6,
   "metadata": {},
   "outputs": [
    {
     "data": {
      "text/plain": [
       "array([4, 5, 3, 5, 6, 5, 6, 4, 5, 4, 7, 3, 3, 7, 7, 8, 4, 4, 4, 5, 4, 2,\n",
       "       4, 6, 4, 2, 6, 5, 6, 7])"
      ]
     },
     "execution_count": 6,
     "metadata": {},
     "output_type": "execute_result"
    }
   ],
   "source": [
    "s"
   ]
  },
  {
   "cell_type": "markdown",
   "metadata": {},
   "source": [
    "We can see here that the sample mean doesn't match the true mean exactly.  If however we increased the number of batches, we will converge towards to the true mean (law of large numbers)."
   ]
  },
  {
   "cell_type": "code",
   "execution_count": 7,
   "metadata": {},
   "outputs": [
    {
     "name": "stdout",
     "output_type": "stream",
     "text": [
      "4.833333333333333\n",
      "5.0\n"
     ]
    }
   ],
   "source": [
    "sample_mean = np.mean(s)\n",
    "true_mean = n*p\n",
    "print(sample_mean)\n",
    "print(true_mean)"
   ]
  },
  {
   "cell_type": "markdown",
   "metadata": {},
   "source": [
    "Same can be said about the variance of the population which will converge to the true variance as we increase the number of samples."
   ]
  },
  {
   "cell_type": "code",
   "execution_count": 8,
   "metadata": {},
   "outputs": [
    {
     "name": "stdout",
     "output_type": "stream",
     "text": [
      "2.2722222222222226\n",
      "2.5\n"
     ]
    }
   ],
   "source": [
    "sample_variance = np.var(s)\n",
    "true_variance = n*p*(1-p)\n",
    "print(sample_variance)\n",
    "print(true_variance)"
   ]
  },
  {
   "cell_type": "markdown",
   "metadata": {},
   "source": [
    "We can also calculate the variance of mean (instead of the population) or the standard deviation of the mean which allows us to calculate confidence intervals of the mean."
   ]
  },
  {
   "cell_type": "code",
   "execution_count": 9,
   "metadata": {},
   "outputs": [
    {
     "name": "stdout",
     "output_type": "stream",
     "text": [
      "0.07835249042145595\n",
      "0.2799151486101743\n"
     ]
    }
   ],
   "source": [
    "variance_mean = np.var(s)/(n_batches-1)\n",
    "print(variance_mean)\n",
    "print(np.sqrt(variance_mean))"
   ]
  },
  {
   "cell_type": "markdown",
   "metadata": {},
   "source": [
    "## Random Number"
   ]
  },
  {
   "cell_type": "markdown",
   "metadata": {},
   "source": [
    "Monte Carlo methods rely on random numbers to sample from distributions, however true random numbers are not entirely desirable since they make it impossible to debug code.  It should also be noted that a number is not random, but the sequence of numbers is random."
   ]
  },
  {
   "cell_type": "code",
   "execution_count": 1,
   "metadata": {},
   "outputs": [
    {
     "name": "stdout",
     "output_type": "stream",
     "text": [
      "The history saving thread hit an unexpected error (DatabaseError('database disk image is malformed')).History will not be written to the database.\n"
     ]
    },
    {
     "ename": "NameError",
     "evalue": "name 'np' is not defined",
     "output_type": "error",
     "traceback": [
      "\u001b[0;31m---------------------------------------------------------------------------\u001b[0m",
      "\u001b[0;31mNameError\u001b[0m                                 Traceback (most recent call last)",
      "\u001b[0;32m/tmp/ipykernel_94/1626634268.py\u001b[0m in \u001b[0;36m<module>\u001b[0;34m\u001b[0m\n\u001b[0;32m----> 1\u001b[0;31m \u001b[0mnp\u001b[0m\u001b[0;34m.\u001b[0m\u001b[0mrandom\u001b[0m\u001b[0;34m.\u001b[0m\u001b[0mrand\u001b[0m\u001b[0;34m(\u001b[0m\u001b[0;34m)\u001b[0m\u001b[0;34m\u001b[0m\u001b[0;34m\u001b[0m\u001b[0m\n\u001b[0m",
      "\u001b[0;31mNameError\u001b[0m: name 'np' is not defined"
     ]
    }
   ],
   "source": [
    "np.random.rand()"
   ]
  },
  {
   "cell_type": "code",
   "execution_count": 11,
   "metadata": {},
   "outputs": [
    {
     "data": {
      "text/plain": [
       "array([0.11501229, 0.69532152, 0.51102409, 0.62267739, 0.43785485,\n",
       "       0.07438605, 0.30244422, 0.66626349, 0.42030828, 0.45312965])"
      ]
     },
     "execution_count": 11,
     "metadata": {},
     "output_type": "execute_result"
    }
   ],
   "source": [
    "np.random.rand(10)"
   ]
  },
  {
   "cell_type": "markdown",
   "metadata": {},
   "source": [
    "We instead use pseudo-random number generators that create a sequence of numbers that can appear to be random.  This allows for a reproducible sequence when we set the seed (i.e. starting point)."
   ]
  },
  {
   "cell_type": "code",
   "execution_count": 12,
   "metadata": {},
   "outputs": [],
   "source": [
    "np.random.seed(2)"
   ]
  },
  {
   "cell_type": "code",
   "execution_count": 13,
   "metadata": {},
   "outputs": [
    {
     "name": "stdout",
     "output_type": "stream",
     "text": [
      "[0.4359949  0.02592623 0.54966248 0.43532239 0.4203678  0.33033482\n",
      " 0.20464863 0.61927097 0.29965467 0.26682728]\n"
     ]
    }
   ],
   "source": [
    "np.random.seed(2)\n",
    "print(np.random.rand(10))"
   ]
  },
  {
   "cell_type": "markdown",
   "metadata": {},
   "source": [
    "## Direct Sampling"
   ]
  },
  {
   "cell_type": "markdown",
   "metadata": {},
   "source": [
    "Direct sampling is the best way to sample a PDF and will be demonstrated here for the path sampling distribution."
   ]
  },
  {
   "cell_type": "code",
   "execution_count": 14,
   "metadata": {},
   "outputs": [
    {
     "name": "stdout",
     "output_type": "stream",
     "text": [
      "0.6666666666666666\n"
     ]
    }
   ],
   "source": [
    "Sigma_t = 1.5\n",
    "real_mean = 1 / Sigma_t\n",
    "print(real_mean)"
   ]
  },
  {
   "cell_type": "markdown",
   "metadata": {},
   "source": [
    "Once again, we will sample many trials (10000 in example below) and compute the sample space s from which we can evaluate the mean and the variance of the mean.  The sample mean matches well with the mean free path calculated analytically."
   ]
  },
  {
   "cell_type": "code",
   "execution_count": 16,
   "metadata": {},
   "outputs": [
    {
     "name": "stdout",
     "output_type": "stream",
     "text": [
      "0.6569427843187259\n",
      "4.29095845090634e-05\n",
      "0.006550540779894695\n"
     ]
    }
   ],
   "source": [
    "nt = 10000\n",
    "s = -np.log(np.random.rand(nt))/Sigma_t\n",
    "s_mean = np.mean(s)\n",
    "s_varmean = np.var(s)/(nt-1)\n",
    "print(s_mean)\n",
    "print(s_varmean)\n",
    "print(np.sqrt(s_varmean))"
   ]
  },
  {
   "cell_type": "markdown",
   "metadata": {},
   "source": [
    "If we plot the sample space, we see that the results reproduce the initial PDF."
   ]
  },
  {
   "cell_type": "code",
   "execution_count": 17,
   "metadata": {},
   "outputs": [
    {
     "data": {
      "text/plain": [
       "(array([3.178e+03, 2.207e+03, 1.415e+03, 9.730e+02, 7.030e+02, 4.860e+02,\n",
       "        3.540e+02, 2.150e+02, 1.520e+02, 9.200e+01, 6.700e+01, 5.300e+01,\n",
       "        4.000e+01, 2.000e+01, 1.500e+01, 7.000e+00, 7.000e+00, 7.000e+00,\n",
       "        4.000e+00, 1.000e+00]),\n",
       " array([0.  , 0.25, 0.5 , 0.75, 1.  , 1.25, 1.5 , 1.75, 2.  , 2.25, 2.5 ,\n",
       "        2.75, 3.  , 3.25, 3.5 , 3.75, 4.  , 4.25, 4.5 , 4.75, 5.  ]),\n",
       " <BarContainer object of 20 artists>)"
      ]
     },
     "execution_count": 17,
     "metadata": {},
     "output_type": "execute_result"
    },
    {
     "data": {
      "image/png": "[encoded data removed]",
      "text/plain": [
       "<Figure size 432x288 with 1 Axes>"
      ]
     },
     "metadata": {
      "needs_background": "light"
     },
     "output_type": "display_data"
    }
   ],
   "source": [
    "plt.hist(s,bins=[0, 0.25, 0.5, 0.75,1,1.25, 1.5, 1.75, 2.0,2.25, 2.5,2.75, 3.0, 3.25,3.5, 3.75, 4.0,4.25, 4.5, 4.75,5.0])"
   ]
  },
  {
   "cell_type": "markdown",
   "metadata": {},
   "source": [
    "## Rejection Sampling"
   ]
  },
  {
   "cell_type": "markdown",
   "metadata": {},
   "source": [
    "An alternative to direct sampling is called rejection sampling.  It is usually a last resort since it can get very costly.  We will demonstrate it's use on the path sampling with a small modification since we need to truncate the infinite tail of the distribution."
   ]
  },
  {
   "cell_type": "code",
   "execution_count": 42,
   "metadata": {},
   "outputs": [],
   "source": [
    "x = np.linspace(0,5,1000)\n",
    "p = Sigma_t * np.exp(-Sigma_t*x)"
   ]
  },
  {
   "cell_type": "code",
   "execution_count": 43,
   "metadata": {},
   "outputs": [
    {
     "data": {
      "text/plain": [
       "[<matplotlib.lines.Line2D at 0x7fc702c87080>]"
      ]
     },
     "execution_count": 43,
     "metadata": {},
     "output_type": "execute_result"
    },
    {
     "data": {
      "image/png": "[encoded data removed]",
      "text/plain": [
       "<Figure size 432x288 with 1 Axes>"
      ]
     },
     "metadata": {
      "needs_background": "light"
     },
     "output_type": "display_data"
    }
   ],
   "source": [
    "plt.axhline(y=Sigma_t)\n",
    "plt.axvline(x=5.0)\n",
    "plt.plot(x,p,'r')"
   ]
  },
  {
   "cell_type": "markdown",
   "metadata": {},
   "source": [
    "We will randomly sample an x and y value from the blue box from the above figure and determine if our sample falls below or above the red line.  If it falls below, we accept the sample."
   ]
  },
  {
   "cell_type": "code",
   "execution_count": 18,
   "metadata": {},
   "outputs": [],
   "source": [
    "x_rnd = np.random.rand(500)*5\n",
    "y_rnd = np.random.rand(500)*Sigma_t\n",
    "accept = np.zeros(500)\n"
   ]
  },
  {
   "cell_type": "code",
   "execution_count": 19,
   "metadata": {},
   "outputs": [],
   "source": [
    "for i in range(500):\n",
    "    #print(y_rnd[i],Sigma_t * np.exp(-Sigma_t*x_rnd[i]))\n",
    "    if y_rnd[i] < Sigma_t * np.exp(-Sigma_t*x_rnd[i]):\n",
    "        accept[i] = 1"
   ]
  },
  {
   "cell_type": "markdown",
   "metadata": {},
   "source": [
    "The number of accepted samples is proportional to the ratio of the areas (area under red curve to area of the blue box)."
   ]
  },
  {
   "cell_type": "code",
   "execution_count": 21,
   "metadata": {},
   "outputs": [
    {
     "name": "stdout",
     "output_type": "stream",
     "text": [
      "71.0\n"
     ]
    }
   ],
   "source": [
    "n_nz = np.sum(accept)\n",
    "print(n_nz)"
   ]
  },
  {
   "cell_type": "code",
   "execution_count": 22,
   "metadata": {},
   "outputs": [],
   "source": [
    "nz = np.nonzero(accept)[0]\n",
    "x_rs = np.zeros(int(n_nz))\n",
    "y_rs = np.zeros(int(n_nz))"
   ]
  },
  {
   "cell_type": "code",
   "execution_count": 23,
   "metadata": {},
   "outputs": [],
   "source": [
    "for i in range(int(n_nz)):\n",
    "    x_rs[i] = x_rnd[nz[i]]\n",
    "    y_rs[i] = Sigma_t * np.exp(-Sigma_t*x_rnd[nz[i]])"
   ]
  },
  {
   "cell_type": "markdown",
   "metadata": {},
   "source": [
    "If we plot the distribution of accepted samples, we can see the same path samplig PDF but many more trials would be needed to get a smooth distribution."
   ]
  },
  {
   "cell_type": "code",
   "execution_count": 25,
   "metadata": {},
   "outputs": [
    {
     "data": {
      "text/plain": [
       "(array([19., 23.,  8.,  4.,  4.,  2.,  2.,  3.,  3.,  0.,  1.,  0.,  1.,\n",
       "         0.,  0.,  0.,  1.,  0.,  0.,  0.]),\n",
       " array([0.  , 0.25, 0.5 , 0.75, 1.  , 1.25, 1.5 , 1.75, 2.  , 2.25, 2.5 ,\n",
       "        2.75, 3.  , 3.25, 3.5 , 3.75, 4.  , 4.25, 4.5 , 4.75, 5.  ]),\n",
       " <BarContainer object of 20 artists>)"
      ]
     },
     "execution_count": 25,
     "metadata": {},
     "output_type": "execute_result"
    },
    {
     "data": {
      "image/png": "[encoded data removed]",
      "text/plain": [
       "<Figure size 432x288 with 1 Axes>"
      ]
     },
     "metadata": {
      "needs_background": "light"
     },
     "output_type": "display_data"
    }
   ],
   "source": [
    "plt.hist(x_rs,bins=[0, 0.25, 0.5, 0.75,1,1.25, 1.5, 1.75, 2.0,2.25, 2.5,2.75, 3.0, 3.25,3.5, 3.75, 4.0,4.25, 4.5, 4.75,5.0])"
   ]
  },
  {
   "cell_type": "code",
   "execution_count": 26,
   "metadata": {},
   "outputs": [
    {
     "name": "stdout",
     "output_type": "stream",
     "text": [
      "0.7251798441808204\n"
     ]
    }
   ],
   "source": [
    "rs_mean = np.mean(x_rs)\n",
    "print(rs_mean)"
   ]
  },
  {
   "cell_type": "code",
   "execution_count": 28,
   "metadata": {},
   "outputs": [
    {
     "name": "stdout",
     "output_type": "stream",
     "text": [
      "0.008728084009059799\n",
      "0.09342421532482785\n"
     ]
    }
   ],
   "source": [
    "rs_varmean = np.var(x_rs)/int(n_nz)\n",
    "print(rs_varmean)\n",
    "print(np.sqrt(rs_varmean))"
   ]
  },
  {
   "cell_type": "code",
   "execution_count": null,
   "metadata": {},
   "outputs": [],
   "source": []
  }
 ],
 "metadata": {
  "kernelspec": {
   "display_name": "Python 3 (ipykernel)",
   "language": "python",
   "name": "python3"
  },
  "language_info": {
   "codemirror_mode": {
    "name": "ipython",
    "version": 3
   },
   "file_extension": ".py",
   "mimetype": "text/x-python",
   "name": "python",
   "nbconvert_exporter": "python",
   "pygments_lexer": "ipython3",
   "version": "3.8.10"
  }
 },
 "nbformat": 4,
 "nbformat_minor": 2
}
