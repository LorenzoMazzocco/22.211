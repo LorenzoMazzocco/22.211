{
 "cells": [
  {
   "cell_type": "markdown",
   "metadata": {},
   "source": [
    "# MC Slowing Down using OpenMC Data"
   ]
  },
  {
   "cell_type": "markdown",
   "metadata": {},
   "source": [
    "This noteboook provides a Monte Carlo slowing down process.  It does take a few shortcuts, so please use carefully."
   ]
  },
  {
   "cell_type": "code",
   "execution_count": 1,
   "metadata": {},
   "outputs": [],
   "source": [
    "%matplotlib inline\n",
    "\n",
    "import openmc\n",
    "import numpy as np\n",
    "import matplotlib.pyplot as plt\n",
    "import random\n",
    "import math"
   ]
  },
  {
   "cell_type": "markdown",
   "metadata": {},
   "source": [
    "Read the OpenMC U-238 data library, specifically the absorption and scattering cross-sections."
   ]
  },
  {
   "cell_type": "code",
   "execution_count": 2,
   "metadata": {},
   "outputs": [],
   "source": [
    "u238 = openmc.data.IncidentNeutron.from_hdf5('U238.h5')"
   ]
  },
  {
   "cell_type": "code",
   "execution_count": 3,
   "metadata": {},
   "outputs": [],
   "source": [
    "abso = u238[102]\n",
    "scat = u238[2]"
   ]
  },
  {
   "cell_type": "code",
   "execution_count": 4,
   "metadata": {},
   "outputs": [
    {
     "name": "stdout",
     "output_type": "stream",
     "text": [
      "0.7785467128027682\n"
     ]
    }
   ],
   "source": [
    "A_h = 1\n",
    "alpha_h = 0\n",
    "A_U = 238\n",
    "alpha_U = 237**2/239**2\n",
    "h_xs = 20   #Approximate 20 barns H-1 scattering cross-section\n",
    "I_xs = 6    #Approximate 6 barns O-16 scattering cross-section\n",
    "A_I = 16\n",
    "alpha_I = (A_I-1)**2/(A_I+1)**2\n",
    "print(alpha_I)"
   ]
  },
  {
   "cell_type": "code",
   "execution_count": 5,
   "metadata": {},
   "outputs": [],
   "source": [
    "energies = np.linspace(1,7000,1000000)  #this code only looks at the flux below 7000 eV\n",
    "delta_e = energies[1]-energies[0]"
   ]
  },
  {
   "cell_type": "code",
   "execution_count": 6,
   "metadata": {},
   "outputs": [
    {
     "data": {
      "text/plain": [
       "70.98307098307099"
      ]
     },
     "execution_count": 6,
     "metadata": {},
     "output_type": "execute_result"
    }
   ],
   "source": [
    "energies[9999]"
   ]
  },
  {
   "cell_type": "markdown",
   "metadata": {},
   "source": [
    "Here we define that our problem contains H-1 and U-238, we compute the $\\alpha$ values, assign the nuclide densities and then calculates the dilution cross section.  For calculating the IR parameter, we will assume that the hydrogen cross section is flat and exactly 20b, but we will use the real U-238 cross-section.  We will caculate effective resonance integrals over 3 groups encompassing the three low-energy resonances."
   ]
  },
  {
   "cell_type": "code",
   "execution_count": 7,
   "metadata": {},
   "outputs": [],
   "source": [
    "def MC_slowing_down(N_h,N_u,N_I,Estart,nps):\n",
    "    random.seed(a=2)\n",
    "    abs_counter = np.zeros(5)\n",
    "    flux_counter = np.zeros(len(energies))\n",
    "    total_flux = 0\n",
    "    for i in range(nps):\n",
    "        E = Estart\n",
    "        while (E>1.0):\n",
    "            #Calculate Sigma_t, the next two lines read the abs and scat xs of U-238 at energy E, \n",
    "            #linear interpolation is performed automatically between the nearest values in the library.\n",
    "            u238_abs = abso.xs['294K'](E)\n",
    "            u238_scat = scat.xs['294K'](E)\n",
    "            sigt_u238 = u238_abs + u238_scat\n",
    "            if E>6000.0:   #this code neglects absorption above 6000 eV\n",
    "                Sigma_t = N_h*h_xs + N_I*I_xs\n",
    "            else:\n",
    "                Sigma_t = N_h*h_xs + N_u*sigt_u238 + N_I*I_xs\n",
    "            if E<7000.0:  #flux is only tallied below 7000 eV\n",
    "                index = math.floor((E-1.0)/delta_e)\n",
    "                flux_counter[index] = flux_counter[index] + 1/Sigma_t\n",
    "            # Sample which nuclide we are colliding with\n",
    "            rng1 = random.random()\n",
    "            if rng1<(N_h*h_xs / Sigma_t):\n",
    "                Eprime = E*random.random()  #since H-1 has an alpha of 0, also assume H-1 is a pure scatterer\n",
    "            elif rng1<((N_h*h_xs+N_I*I_xs) / Sigma_t) and rng1>((N_h*h_xs) / Sigma_t) :\n",
    "                Eprime = (E-alpha_I*E)*random.random()+alpha_I*E   #assumes that nuclide I is a pure scatterer\n",
    "            else:\n",
    "                if random.random()<(u238_abs/sigt_u238):    #tally absorption rate over 5 groups using analog estimator\n",
    "                    if E>4.0 and E<10.0:\n",
    "                        abs_counter[0] = abs_counter[0] + 1\n",
    "                    elif E>10.0 and E<40.0:\n",
    "                        abs_counter[1] = abs_counter[1] + 1\n",
    "                    elif E>40.0 and E<5530.0:\n",
    "                        abs_counter[2] = abs_counter[2] + 1\n",
    "                    elif E>5530.0 and E<6000.0:\n",
    "                        abs_counter[3] = abs_counter[3] + 1\n",
    "                    elif E>6000.0 and E<7000.0:\n",
    "                        abs_counter[4] = abs_counter[4] + 1\n",
    "                    Eprime = 0.0\n",
    "                else:\n",
    "                    Eprime = (E-alpha_U*E)*random.random()+alpha_U*E\n",
    "            E = Eprime\n",
    "    #print(total_flux/nps)\n",
    "    #print(flux_counter,sum(flux_counter))\n",
    "    flux_counter = flux_counter/nps\n",
    "    flux_counter = flux_counter/sum(flux_counter)\n",
    "    return flux_counter"
   ]
  },
  {
   "cell_type": "code",
   "execution_count": 8,
   "metadata": {},
   "outputs": [],
   "source": [
    "N_u = 1 \n",
    "N_I = 0\n",
    "N_dil = np.array([0.05,0.5,1,5,10,100,200,500,1000,10000,100000])\n",
    "#N_dil = np.array([0.05,100.0,1000000.0])\n",
    "#N_dil = np.array([10000.0])\n",
    "res_int = np.zeros([5,len(N_dil)])\n",
    "flux_int = np.zeros([5,len(N_dil)])\n",
    "dilution = np.zeros(len(N_dil))\n",
    "for j in range(len(N_dil)):\n",
    "    dilution[j] = h_xs*N_dil[j]/N_u\n",
    "    tmp_flux = MC_slowing_down(N_dil[j],N_u,N_I,2000000,100000)\n",
    "    for i in range(len(energies)):\n",
    "        u238_abs = abso.xs['294K'](energies[i])\n",
    "        if energies[i] <10.0 and energies[i] >4.0:\n",
    "            res_int[0,j] = res_int[0,j] + delta_e*tmp_flux[i]*u238_abs    #this could be tallied directly in the MC code\n",
    "            flux_int[0,j] = flux_int[0,j] + delta_e*tmp_flux[i]           #doing it this way isn't the best since I am using\n",
    "        elif energies[i] <40.0 and energies[i]>10.0:                      #equal energy spacing instead of lethargy\n",
    "            res_int[1,j] = res_int[1,j] + delta_e*tmp_flux[i]*u238_abs    #it also requires a very fine mesh for the flux\n",
    "            flux_int[1,j] = flux_int[1,j] + delta_e*tmp_flux[i]           #when it would be easier to just tally directly\n",
    "        elif energies[i] <5530.0 and energies[i]>40.0:                    #in the Monte Carlo code over desired groups\n",
    "            res_int[2,j] = res_int[2,j] + delta_e*tmp_flux[i]*u238_abs\n",
    "            flux_int[2,j] = flux_int[2,j] + delta_e*tmp_flux[i]\n",
    "        elif energies[i] <6000.0 and energies[i]>5530.0:\n",
    "            res_int[3,j] = res_int[3,j] + delta_e*tmp_flux[i]*u238_abs\n",
    "            flux_int[3,j] = flux_int[3,j] + delta_e*tmp_flux[i]\n",
    "        elif energies[i] <7000.0 and energies[i]>6000.0:\n",
    "            res_int[4,j] = res_int[4,j] + delta_e*tmp_flux[i]*u238_abs\n",
    "            flux_int[4,j] = flux_int[4,j] + delta_e*tmp_flux[i]"
   ]
  },
  {
   "cell_type": "markdown",
   "metadata": {},
   "source": [
    "## Cross-Sections as a function of dilution"
   ]
  },
  {
   "cell_type": "code",
   "execution_count": 9,
   "metadata": {},
   "outputs": [
    {
     "data": {
      "text/plain": [
       "[<matplotlib.lines.Line2D at 0x7f40cf627c10>]"
      ]
     },
     "execution_count": 9,
     "metadata": {},
     "output_type": "execute_result"
    },
    {
     "data": {
      "image/png": "[encoded data removed]",
      "text/plain": [
       "<Figure size 432x288 with 1 Axes>"
      ]
     },
     "metadata": {
      "needs_background": "light"
     },
     "output_type": "display_data"
    }
   ],
   "source": [
    "plt.semilogx(dilution,res_int[0,:]/flux_int[0,:])\n",
    "plt.semilogx(dilution,res_int[1,:]/flux_int[1,:])\n",
    "plt.semilogx(dilution,res_int[2,:]/flux_int[2,:])"
   ]
  },
  {
   "cell_type": "markdown",
   "metadata": {},
   "source": [
    "## Resonance Integral as a function of dilution"
   ]
  },
  {
   "cell_type": "code",
   "execution_count": 10,
   "metadata": {},
   "outputs": [],
   "source": [
    "norm = np.log(7000/6000) / flux_int[4,-1]  #normalize flux to 1/E, probably not best way to normalize ..."
   ]
  },
  {
   "cell_type": "code",
   "execution_count": 11,
   "metadata": {},
   "outputs": [
    {
     "data": {
      "image/png": "[encoded data removed]",
      "text/plain": [
       "<Figure size 432x288 with 1 Axes>"
      ]
     },
     "metadata": {
      "needs_background": "light"
     },
     "output_type": "display_data"
    }
   ],
   "source": [
    "#plt.semilogx(dilution,res_int[0,:]*1/tmp_flux[0])\n",
    "#plt.semilogx(dilution,res_int[1,:]*1/tmp_flux[0])\n",
    "#plt.semilogx(dilution,res_int[2,:]*1/tmp_flux[0])\n",
    "plt.semilogx(dilution,res_int[0,:]*norm)\n",
    "plt.semilogx(dilution,res_int[1,:]*norm)\n",
    "plt.semilogx(dilution,res_int[2,:]*norm)\n",
    "\n",
    "RI_H1 = res_int[0,:]*norm\n",
    "RI_H2 = res_int[1,:]*norm\n",
    "RI_H3 = res_int[2,:]*norm\n",
    "dilution_H = dilution"
   ]
  },
  {
   "cell_type": "markdown",
   "metadata": {},
   "source": [
    "We can see that the microscopic cross-sections or RI vary significantly with the ratio of scatterer to resonant nuclide. We typically compute these curves/tables for H-1 for the absorption and scattering reactions at various temperatures."
   ]
  },
  {
   "cell_type": "markdown",
   "metadata": {},
   "source": [
    "What now remains is:\n",
    "- How do we lookup these homogeneous tables?\n",
    "- What happens when the scattering nuclide is not H1?"
   ]
  },
  {
   "cell_type": "markdown",
   "metadata": {},
   "source": [
    "## Other nuclides"
   ]
  },
  {
   "cell_type": "markdown",
   "metadata": {},
   "source": [
    "Let's assume the U-238 nucleus is mixed with O-16 instead of H-1."
   ]
  },
  {
   "cell_type": "code",
   "execution_count": 12,
   "metadata": {},
   "outputs": [],
   "source": [
    "N_u = 1 \n",
    "N_h = 0\n",
    "N_dil = np.array([10, 100, 1000,10000,100000,1000000])\n",
    "#N_dil = np.array([100.0])\n",
    "res_int = np.zeros([5,len(N_dil)])\n",
    "flux_int = np.zeros([5,len(N_dil)])\n",
    "dilution = np.zeros(len(N_dil))\n",
    "for j in range(len(N_dil)):\n",
    "    dilution[j] = I_xs*N_dil[j]/N_u\n",
    "    tmp_flux = MC_slowing_down(N_h,N_u,N_dil[j],10000.0,100000)\n",
    "    for i in range(len(energies)):\n",
    "        u238_abs = abso.xs['294K'](energies[i])\n",
    "        if energies[i] <10.0 and energies[i] >4.0:\n",
    "            res_int[0,j] = res_int[0,j] + delta_e*tmp_flux[i]*u238_abs\n",
    "            flux_int[0,j] = flux_int[0,j] + delta_e*tmp_flux[i]\n",
    "            #print(u238_abs, delta_e*tmp_flux[i]*u238_abs,delta_e*tmp_flux[i] )\n",
    "        elif energies[i] <40.0 and energies[i]>10.0:\n",
    "            res_int[1,j] = res_int[1,j] + delta_e*tmp_flux[i]*u238_abs\n",
    "            flux_int[1,j] = flux_int[1,j] + delta_e*tmp_flux[i]\n",
    "        elif energies[i] <5530.0 and energies[i]>40.0:\n",
    "            res_int[2,j] = res_int[2,j] + delta_e*tmp_flux[i]*u238_abs\n",
    "            flux_int[2,j] = flux_int[2,j] + delta_e*tmp_flux[i]\n",
    "        elif energies[i] <6000.0 and energies[i]>5530.0:\n",
    "            res_int[3,j] = res_int[3,j] + delta_e*tmp_flux[i]*u238_abs\n",
    "            flux_int[3,j] = flux_int[3,j] + delta_e*tmp_flux[i]\n",
    "        elif energies[i] <7000.0 and energies[i]>6000.0:\n",
    "            res_int[4,j] = res_int[4,j] + delta_e*tmp_flux[i]*u238_abs\n",
    "            flux_int[4,j] = flux_int[4,j] + delta_e*tmp_flux[i]"
   ]
  },
  {
   "cell_type": "code",
   "execution_count": 13,
   "metadata": {},
   "outputs": [
    {
     "data": {
      "text/plain": [
       "[<matplotlib.lines.Line2D at 0x7f40cd15a070>]"
      ]
     },
     "execution_count": 13,
     "metadata": {},
     "output_type": "execute_result"
    },
    {
     "data": {
      "image/png": "[encoded data removed]",
      "text/plain": [
       "<Figure size 432x288 with 1 Axes>"
      ]
     },
     "metadata": {
      "needs_background": "light"
     },
     "output_type": "display_data"
    }
   ],
   "source": [
    "plt.semilogx(dilution,res_int[0,:]/flux_int[0,:])\n",
    "plt.semilogx(dilution,res_int[1,:]/flux_int[1,:])\n",
    "plt.semilogx(dilution,res_int[2,:]/flux_int[2,:])"
   ]
  },
  {
   "cell_type": "code",
   "execution_count": 14,
   "metadata": {},
   "outputs": [
    {
     "data": {
      "image/png": "[encoded data removed]",
      "text/plain": [
       "<Figure size 432x288 with 1 Axes>"
      ]
     },
     "metadata": {
      "needs_background": "light"
     },
     "output_type": "display_data"
    }
   ],
   "source": [
    "norm = np.log(7000/6000) / flux_int[4,-1]  #normalize flux to 1/E, probably not best way to normalize ...\n",
    "plt.semilogx(dilution,res_int[0,:]*norm)\n",
    "plt.semilogx(dilution,res_int[1,:]*norm)\n",
    "plt.semilogx(dilution,res_int[2,:]*norm)\n",
    "\n",
    "RI_O1 = res_int[0,:]*norm\n",
    "RI_O2 = res_int[1,:]*norm\n",
    "RI_O3 = res_int[2,:]*norm\n",
    "dilution_O = dilution"
   ]
  },
  {
   "cell_type": "markdown",
   "metadata": {},
   "source": [
    "Since in this case O-16 is not as good a moderator as H-1, we have 2 choices:\n",
    "- Generate tables for each resonant nuclide as a function of all other nuclides\n",
    "- Generate tables only for H-1 and measure how effective each other nuclide is compared to H-1\n",
    "\n",
    "Clearly the first option would be incredibly costly, we thus use the intermediate resonance model.  This requires generating a table of factors that are energy dependent, dilution dependent and mass dependent."
   ]
  },
  {
   "cell_type": "markdown",
   "metadata": {},
   "source": [
    "If we compare the RI curve for H-1 and O-16, you see that the O-16 curve is essentially shifted.  Both curves have the same end points (because flux is normalized), but will differ in the transition.  If you use a scatterer with a larger mass, you will see a larger shift between the curves"
   ]
  },
  {
   "cell_type": "code",
   "execution_count": 28,
   "metadata": {},
   "outputs": [
    {
     "data": {
      "text/plain": [
       "[<matplotlib.lines.Line2D at 0x7f40cc98d8b0>]"
      ]
     },
     "execution_count": 28,
     "metadata": {},
     "output_type": "execute_result"
    },
    {
     "data": {
      "image/png": "[encoded data removed]",
      "text/plain": [
       "<Figure size 432x288 with 1 Axes>"
      ]
     },
     "metadata": {
      "needs_background": "light"
     },
     "output_type": "display_data"
    }
   ],
   "source": [
    "plt.semilogx(dilution_H,RI_H1)\n",
    "plt.semilogx(dilution_O,RI_O1)"
   ]
  },
  {
   "cell_type": "markdown",
   "metadata": {},
   "source": [
    "For LWRs, we typically do not compare 100% O-16 to 100% H-1 since there will always be a significant amount of H-1 in the system.  We typically do a comparison between a mixture of 1) 60b of H-1, 2) 30b of H-1 and 30b of O-16, and 3) 30b of H-1.  By comparing the RIs for these three cases, we can compute the IR correction factor."
   ]
  },
  {
   "cell_type": "markdown",
   "metadata": {},
   "source": [
    "## Resonance Interference"
   ]
  },
  {
   "cell_type": "markdown",
   "metadata": {},
   "source": [
    "Lets now assume a mixture of U238, H-1 and Hf-177.  As you may remember, Hf-177 also has a very large resonance in the 6-7eV range that will interfere with U-238."
   ]
  },
  {
   "cell_type": "code",
   "execution_count": 15,
   "metadata": {},
   "outputs": [
    {
     "name": "stdout",
     "output_type": "stream",
     "text": [
      "[54.3312535  27.01480209  4.53080787  0.92229349  0.83968623]\n"
     ]
    }
   ],
   "source": [
    "N_u = 1 \n",
    "N_I = 0\n",
    "N_H = 100\n",
    "res_int = np.zeros(5)\n",
    "flux_int = np.zeros(5)\n",
    "\n",
    "tmp_flux = MC_slowing_down(N_H,N_u,N_I,2000000,100000)\n",
    "for i in range(len(energies)):\n",
    "    u238_abs = abso.xs['294K'](energies[i])\n",
    "    if energies[i] <10.0 and energies[i] >4.0:\n",
    "        res_int[0] = res_int[0] + delta_e*tmp_flux[i]*u238_abs\n",
    "        flux_int[0] = flux_int[0] + delta_e*tmp_flux[i]\n",
    "    elif energies[i] <40.0 and energies[i]>10.0:\n",
    "        res_int[1] = res_int[1] + delta_e*tmp_flux[i]*u238_abs\n",
    "        flux_int[1] = flux_int[1] + delta_e*tmp_flux[i]\n",
    "    elif energies[i] <5530.0 and energies[i]>40.0:\n",
    "        res_int[2] = res_int[2] + delta_e*tmp_flux[i]*u238_abs\n",
    "        flux_int[2] = flux_int[2] + delta_e*tmp_flux[i]\n",
    "    elif energies[i] <6000.0 and energies[i]>5530.0:\n",
    "        res_int[3] = res_int[3] + delta_e*tmp_flux[i]*u238_abs\n",
    "        flux_int[3] = flux_int[3] + delta_e*tmp_flux[i]\n",
    "    elif energies[i] <7000.0 and energies[i]>6000.0:\n",
    "        res_int[4] = res_int[4] + delta_e*tmp_flux[i]*u238_abs\n",
    "        flux_int[4] = flux_int[4] + delta_e*tmp_flux[i]\n",
    "        \n",
    "print(res_int/flux_int)"
   ]
  },
  {
   "cell_type": "code",
   "execution_count": 16,
   "metadata": {},
   "outputs": [],
   "source": [
    "hf177 = openmc.data.IncidentNeutron.from_hdf5('Hf177.h5')"
   ]
  },
  {
   "cell_type": "code",
   "execution_count": 17,
   "metadata": {},
   "outputs": [],
   "source": [
    "abso_hf = hf177[102]\n",
    "scat_hf = hf177[2]"
   ]
  },
  {
   "cell_type": "code",
   "execution_count": 18,
   "metadata": {},
   "outputs": [
    {
     "data": {
      "text/plain": [
       "[<matplotlib.lines.Line2D at 0x7f40ccfef790>]"
      ]
     },
     "execution_count": 18,
     "metadata": {},
     "output_type": "execute_result"
    },
    {
     "data": {
      "image/png": "[encoded data removed]",
      "text/plain": [
       "<Figure size 432x288 with 1 Axes>"
      ]
     },
     "metadata": {
      "needs_background": "light"
     },
     "output_type": "display_data"
    }
   ],
   "source": [
    "plt.loglog(energies,abso.xs['294K'](energies))\n",
    "plt.loglog(energies,abso_hf.xs['294K'](energies))"
   ]
  },
  {
   "cell_type": "code",
   "execution_count": 19,
   "metadata": {},
   "outputs": [],
   "source": [
    "A_I = 177\n",
    "alpha_I = (A_I-1)**2/(A_I+1)**2"
   ]
  },
  {
   "cell_type": "code",
   "execution_count": 20,
   "metadata": {},
   "outputs": [],
   "source": [
    "def MC_slowing_down2(N_h,N_u,N_I,Estart,nps):\n",
    "    random.seed(a=2)\n",
    "    abs_counter = np.zeros(5)\n",
    "    flux_counter = np.zeros(len(energies))\n",
    "    total_flux = 0\n",
    "    for i in range(nps):\n",
    "        E = Estart\n",
    "        while (E>1.0):\n",
    "            #Calculate Sigma_t, the next two lines read the abs and scat xs of U-238 at energy E, \n",
    "            #linear interpolation is performed automatically between the nearest values in the library.\n",
    "            u238_abs = abso.xs['294K'](E)\n",
    "            u238_scat = scat.xs['294K'](E)\n",
    "            hf177_abs = abso_hf.xs['294K'](E)\n",
    "            hf177_scat = scat_hf.xs['294K'](E)            \n",
    "            sigt_u238 = u238_abs + u238_scat\n",
    "            sigt_hf177 = hf177_abs + hf177_scat\n",
    "            if E>6000.0:\n",
    "                Sigma_t = N_h*h_xs \n",
    "            else:\n",
    "                Sigma_t = N_h*h_xs + N_u*sigt_u238 + N_I*sigt_hf177\n",
    "            if E<7000.0:\n",
    "                index = math.floor((E-1.0)/delta_e)\n",
    "                flux_counter[index] = flux_counter[index] + 1/Sigma_t\n",
    "            # Sample which nuclide we are colliding with\n",
    "            rng1 = random.random()\n",
    "            if rng1<(N_h*h_xs / Sigma_t):\n",
    "                Eprime = E*random.random()\n",
    "            elif rng1<((N_h*h_xs+N_I*sigt_hf177) / Sigma_t) and rng1>((N_h*h_xs) / Sigma_t) :\n",
    "                if random.random()<(hf177_abs/sigt_hf177):\n",
    "                    Eprime = 0.0\n",
    "                else:\n",
    "                    Eprime = (E-alpha_I*E)*random.random()+alpha_I*E\n",
    "            else:\n",
    "                if random.random()<(u238_abs/sigt_u238):\n",
    "                    if E>4.0 and E<10.0:\n",
    "                        abs_counter[0] = abs_counter[0] + 1\n",
    "                    elif E>10.0 and E<40.0:\n",
    "                        abs_counter[1] = abs_counter[1] + 1\n",
    "                    elif E>40.0 and E<5530.0:\n",
    "                        abs_counter[2] = abs_counter[2] + 1\n",
    "                    elif E>5530.0 and E<6000.0:\n",
    "                        abs_counter[3] = abs_counter[3] + 1\n",
    "                    elif E>6000.0 and E<7000.0:\n",
    "                        abs_counter[4] = abs_counter[4] + 1\n",
    "                    Eprime = 0.0\n",
    "                else:\n",
    "                    Eprime = (E-alpha_U*E)*random.random()+alpha_U*E\n",
    "            E = Eprime\n",
    "    #print(total_flux/nps)\n",
    "    #print(flux_counter,sum(flux_counter))\n",
    "    flux_counter = flux_counter/nps\n",
    "    flux_counter = flux_counter/sum(flux_counter)\n",
    "    return flux_counter"
   ]
  },
  {
   "cell_type": "code",
   "execution_count": 21,
   "metadata": {},
   "outputs": [
    {
     "name": "stdout",
     "output_type": "stream",
     "text": [
      "0.0 [54.3312535  27.01480209  4.53080787  0.92229349  0.83968623]\n",
      "0.01 [54.12730656 26.90046635  4.57649733  0.92576995  0.83977361]\n",
      "0.05 [52.8523202  27.64121408  4.63011569  0.92157732  0.83089208]\n",
      "0.1 [49.95984451 27.29505091  4.64619501  0.9122759   0.82749873]\n",
      "0.2 [46.86105164 26.42504021  4.5923166   0.92238868  0.82650977]\n",
      "0.5 [41.50355274 26.68337333  4.60408045  0.91285742  0.81923503]\n",
      "1.0 [35.38308868 26.75689829  4.67829072  0.92344348  0.82156413]\n"
     ]
    }
   ],
   "source": [
    "N_u = 1 \n",
    "N_I = np.array([0.0, 0.01, 0.05, 0.1, 0.2, 0.5, 1.0])\n",
    "N_H = 100\n",
    "\n",
    "for j in range(len(N_I)):\n",
    "    res_int = np.zeros(5)\n",
    "    flux_int = np.zeros(5)\n",
    "    tmp_flux = MC_slowing_down2(N_H,N_u,N_I[j],2000000,100000)\n",
    "    for i in range(len(energies)):\n",
    "        u238_abs = abso.xs['294K'](energies[i])\n",
    "        if energies[i] <10.0 and energies[i] >4.0:\n",
    "            res_int[0] = res_int[0] + delta_e*tmp_flux[i]*u238_abs\n",
    "            flux_int[0] = flux_int[0] + delta_e*tmp_flux[i]\n",
    "        elif energies[i] <40.0 and energies[i]>10.0:\n",
    "            res_int[1] = res_int[1] + delta_e*tmp_flux[i]*u238_abs\n",
    "            flux_int[1] = flux_int[1] + delta_e*tmp_flux[i]\n",
    "        elif energies[i] <5530.0 and energies[i]>40.0:\n",
    "            res_int[2] = res_int[2] + delta_e*tmp_flux[i]*u238_abs\n",
    "            flux_int[2] = flux_int[2] + delta_e*tmp_flux[i]\n",
    "        elif energies[i] <6000.0 and energies[i]>5530.0:\n",
    "            res_int[3] = res_int[3] + delta_e*tmp_flux[i]*u238_abs\n",
    "            flux_int[3] = flux_int[3] + delta_e*tmp_flux[i]\n",
    "        elif energies[i] <7000.0 and energies[i]>6000.0:\n",
    "            res_int[4] = res_int[4] + delta_e*tmp_flux[i]*u238_abs\n",
    "            flux_int[4] = flux_int[4] + delta_e*tmp_flux[i]\n",
    "    print(N_I[j],res_int/flux_int)"
   ]
  },
  {
   "cell_type": "markdown",
   "metadata": {},
   "source": [
    "We can clearly see the impact of Hf-177 in the 6-10eV group cross-section and the negligible impact it has on the other groups.  So we could build a correction factor that captures the impact the necessary correction from having Hf-177 mixed with U-238.  Typically instead of doing this on a group-by-group and nuclide-by-nuclide basis, we do it as a function of burnup.\n",
    "\n",
    "For LWRs, we often build our tables with U-238 always present.  This way the resonnance interferences with U238 are always captured accurately.  This works for LWRs since U-238 is the largest component in fuel and remains fairly constant throughout the lifetime of the assembly."
   ]
  },
  {
   "cell_type": "code",
   "execution_count": null,
   "metadata": {},
   "outputs": [],
   "source": []
  }
 ],
 "metadata": {
  "kernelspec": {
   "display_name": "Python 3 (ipykernel)",
   "language": "python",
   "name": "python3"
  },
  "language_info": {
   "codemirror_mode": {
    "name": "ipython",
    "version": 3
   },
   "file_extension": ".py",
   "mimetype": "text/x-python",
   "name": "python",
   "nbconvert_exporter": "python",
   "pygments_lexer": "ipython3",
   "version": "3.9.10"
  }
 },
 "nbformat": 4,
 "nbformat_minor": 2
}
