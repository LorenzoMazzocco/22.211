{
 "cells": [
  {
   "cell_type": "markdown",
   "id": "31b102a9",
   "metadata": {},
   "source": [
    "# Need for Equivalence Factors"
   ]
  },
  {
   "cell_type": "markdown",
   "id": "f8afaec1",
   "metadata": {},
   "source": [
    "This notebook will once again run a pin cell homogeneous MC simulation, but instead will generate MGXS libraries by material."
   ]
  },
  {
   "cell_type": "code",
   "execution_count": 1,
   "id": "ba94e0cc",
   "metadata": {},
   "outputs": [],
   "source": [
    "import matplotlib.pyplot as plt\n",
    "import numpy as np\n",
    "import os\n",
    "\n",
    "import openmc\n",
    "\n",
    "%matplotlib inline"
   ]
  },
  {
   "cell_type": "code",
   "execution_count": 2,
   "id": "204a8911",
   "metadata": {},
   "outputs": [],
   "source": [
    "# 1.6% enriched fuel\n",
    "fuel = openmc.Material(name='1.6% Fuel')\n",
    "fuel.set_density('g/cm3', 10.31341)\n",
    "fuel.add_element('U', 1., enrichment=1.6)\n",
    "fuel.add_element('O', 2.)\n",
    "\n",
    "# zircaloy\n",
    "zircaloy = openmc.Material(name='Zircaloy')\n",
    "zircaloy.set_density('g/cm3', 6.55)\n",
    "zircaloy.add_element('Zr', 1.)\n",
    "\n",
    "# borated water\n",
    "water = openmc.Material(name='Borated Water')\n",
    "water.set_density('g/cm3', 0.740582)\n",
    "water.add_element('H', 4.9457e-2)\n",
    "water.add_element('O', 2.4732e-2)\n",
    "water.add_element('B', 8.0042e-6)"
   ]
  },
  {
   "cell_type": "code",
   "execution_count": 3,
   "id": "6e3e2d3b",
   "metadata": {},
   "outputs": [],
   "source": [
    "# Instantiate a Materials object\n",
    "materials_file = openmc.Materials((fuel, zircaloy, water))\n",
    "\n",
    "# Export to \"materials.xml\"\n",
    "materials_file.export_to_xml()"
   ]
  },
  {
   "cell_type": "code",
   "execution_count": 4,
   "id": "3dea4cf1",
   "metadata": {},
   "outputs": [],
   "source": [
    "# Create cylinders for the fuel and clad\n",
    "# The x0 and y0 parameters (0. and 0.) are the default values for an\n",
    "# openmc.ZCylinder object. We could therefore leave them out to no effect\n",
    "fuel_outer_radius = openmc.ZCylinder(x0=0.0, y0=0.0, r=0.39218)\n",
    "clad_outer_radius = openmc.ZCylinder(x0=0.0, y0=0.0, r=0.45720)\n",
    "\n",
    "# Create boundary planes to surround the geometry\n",
    "min_x = openmc.XPlane(x0=-0.63, boundary_type='reflective')\n",
    "max_x = openmc.XPlane(x0=+0.63, boundary_type='reflective')\n",
    "min_y = openmc.YPlane(y0=-0.63, boundary_type='reflective')\n",
    "max_y = openmc.YPlane(y0=+0.63, boundary_type='reflective')\n",
    "min_z = openmc.ZPlane(z0=-10., boundary_type='reflective')\n",
    "max_z = openmc.ZPlane(z0=+10., boundary_type='reflective')"
   ]
  },
  {
   "cell_type": "code",
   "execution_count": 5,
   "id": "e6a94587",
   "metadata": {},
   "outputs": [],
   "source": [
    "# Create a Universe to encapsulate a fuel pin\n",
    "fuel_pin_universe = openmc.Universe(name='1.6% Fuel Pin')\n",
    "\n",
    "# Create fuel Cell\n",
    "fuel_cell = openmc.Cell(name='1.6% Fuel')\n",
    "fuel_cell.fill = fuel\n",
    "fuel_cell.region = -fuel_outer_radius\n",
    "fuel_pin_universe.add_cell(fuel_cell)\n",
    "\n",
    "# Create a clad Cell\n",
    "clad_cell = openmc.Cell(name='1.6% Clad')\n",
    "clad_cell.fill = zircaloy\n",
    "clad_cell.region = +fuel_outer_radius & -clad_outer_radius\n",
    "fuel_pin_universe.add_cell(clad_cell)\n",
    "\n",
    "# Create a moderator Cell\n",
    "moderator_cell = openmc.Cell(name='1.6% Moderator')\n",
    "moderator_cell.fill = water\n",
    "moderator_cell.region = +clad_outer_radius\n",
    "fuel_pin_universe.add_cell(moderator_cell)"
   ]
  },
  {
   "cell_type": "code",
   "execution_count": 6,
   "id": "fcc9df02",
   "metadata": {},
   "outputs": [],
   "source": [
    "# Create root Cell\n",
    "root_cell = openmc.Cell(name='root cell')\n",
    "root_cell.fill = fuel_pin_universe\n",
    "\n",
    "# Add boundary planes\n",
    "root_cell.region = +min_x & -max_x & +min_y & -max_y & +min_z & -max_z\n",
    "\n",
    "# Create root Universe\n",
    "root_universe = openmc.Universe(name='root universe', universe_id=0)\n",
    "root_universe.add_cell(root_cell)"
   ]
  },
  {
   "cell_type": "code",
   "execution_count": 7,
   "id": "846da6ac",
   "metadata": {},
   "outputs": [
    {
     "data": {
      "text/plain": [
       "<matplotlib.image.AxesImage at 0x7fc10ae6cca0>"
      ]
     },
     "execution_count": 7,
     "metadata": {},
     "output_type": "execute_result"
    },
    {
     "data": {
      "image/png": "[encoded data removed]",
      "text/plain": [
       "<Figure size 432x288 with 1 Axes>"
      ]
     },
     "metadata": {
      "needs_background": "light"
     },
     "output_type": "display_data"
    }
   ],
   "source": [
    "root_universe.plot(origin=(0., 0., 0.), width=(1.26, 1.26), pixels=(100, 100), color_by='material')"
   ]
  },
  {
   "cell_type": "code",
   "execution_count": 8,
   "id": "0eb72163",
   "metadata": {},
   "outputs": [],
   "source": [
    "# Create Geometry and set root universe\n",
    "geometry = openmc.Geometry(root_universe)\n",
    "\n",
    "# Export to \"geometry.xml\"\n",
    "geometry.export_to_xml()"
   ]
  },
  {
   "cell_type": "code",
   "execution_count": 9,
   "id": "d5e12804",
   "metadata": {},
   "outputs": [],
   "source": [
    "# OpenMC simulation parameters\n",
    "batches = 200\n",
    "inactive = 50\n",
    "particles = 10000\n",
    "\n",
    "# Instantiate a Settings object\n",
    "settings_file = openmc.Settings()\n",
    "settings_file.batches = batches\n",
    "settings_file.inactive = inactive\n",
    "settings_file.particles = particles\n",
    "settings_file.run_mode = 'eigenvalue'\n",
    "\n",
    "# Create an initial uniform spatial source distribution over fissionable zones\n",
    "bounds = [-0.63, -0.63, -10, 0.63, 0.63, 10.]\n",
    "uniform_dist = openmc.stats.Box(bounds[:3], bounds[3:], only_fissionable=True)\n",
    "settings_file.source = openmc.Source(space=uniform_dist)\n",
    "\n",
    "# Export to \"settings.xml\"\n",
    "settings_file.export_to_xml()"
   ]
  },
  {
   "cell_type": "code",
   "execution_count": 10,
   "id": "5be7ba1f",
   "metadata": {},
   "outputs": [],
   "source": [
    "# Instantiate a 2-group EnergyGroups object\n",
    "groups = openmc.mgxs.EnergyGroups((0.0, 0.058, 0.14, 0.28, 0.625, 4.0, 10.0, 40.0, 5530.0,\n",
    "                                   0.821e6, 20.0e6))\n",
    "#groups = openmc.mgxs.EnergyGroups([0., 0.625, 20.0e6])"
   ]
  },
  {
   "cell_type": "code",
   "execution_count": 11,
   "id": "6fff795c",
   "metadata": {},
   "outputs": [],
   "source": [
    "# Initialize a 2-group MGXS Library for OpenMC\n",
    "mgxs_lib = openmc.mgxs.Library(geometry)\n",
    "mgxs_lib.energy_groups = groups"
   ]
  },
  {
   "cell_type": "code",
   "execution_count": 12,
   "id": "f25afb36",
   "metadata": {},
   "outputs": [],
   "source": [
    "# Specify multi-group cross section types to compute\n",
    "mgxs_lib.mgxs_types = ['total', 'absorption', 'nu-fission', 'fission',\n",
    "                       'nu-scatter matrix', 'multiplicity matrix', 'chi']"
   ]
  },
  {
   "cell_type": "code",
   "execution_count": 13,
   "id": "af69e5f9",
   "metadata": {},
   "outputs": [],
   "source": [
    "# Specify a \"cell\" domain type for the cross section tally filters\n",
    "mgxs_lib.domain_type = \"material\"\n",
    "\n",
    "# Specify the cell domains over which to compute multi-group cross sections\n",
    "mgxs_lib.domains = geometry.get_all_materials().values()"
   ]
  },
  {
   "cell_type": "code",
   "execution_count": 14,
   "id": "db777bba",
   "metadata": {},
   "outputs": [],
   "source": [
    "# Do not compute cross sections on a nuclide-by-nuclide basis\n",
    "mgxs_lib.by_nuclide = False"
   ]
  },
  {
   "cell_type": "code",
   "execution_count": 15,
   "id": "61af81f2",
   "metadata": {},
   "outputs": [
    {
     "name": "stderr",
     "output_type": "stream",
     "text": [
      "/home/bforget/.local/lib/python3.8/site-packages/openmc/mgxs/library.py:418: RuntimeWarning: The P0 correction will be ignored since the scattering order 3 is greater than zero\n",
      "  warn(msg, RuntimeWarning)\n"
     ]
    }
   ],
   "source": [
    "# Set the Legendre order to 3 for P3 scattering\n",
    "mgxs_lib.legendre_order = 3"
   ]
  },
  {
   "cell_type": "code",
   "execution_count": 16,
   "id": "53487592",
   "metadata": {},
   "outputs": [],
   "source": [
    "# Check the library - if no errors are raised, then the library is satisfactory.\n",
    "mgxs_lib.check_library_for_openmc_mgxs()"
   ]
  },
  {
   "cell_type": "code",
   "execution_count": 17,
   "id": "65a205c3",
   "metadata": {},
   "outputs": [],
   "source": [
    "# Construct all tallies needed for the multi-group cross section library\n",
    "mgxs_lib.build_library()"
   ]
  },
  {
   "cell_type": "code",
   "execution_count": 18,
   "id": "d3608d70",
   "metadata": {},
   "outputs": [],
   "source": [
    "# Create a \"tallies.xml\" file for the MGXS Library\n",
    "tallies_file = openmc.Tallies()\n",
    "mgxs_lib.add_to_tallies_file(tallies_file, merge=True)"
   ]
  },
  {
   "cell_type": "code",
   "execution_count": 19,
   "id": "8c0f6672",
   "metadata": {},
   "outputs": [
    {
     "name": "stderr",
     "output_type": "stream",
     "text": [
      "/home/bforget/.local/lib/python3.8/site-packages/openmc/mixin.py:68: IDWarning: Another Filter instance already exists with id=66.\n",
      "  warn(msg, IDWarning)\n",
      "/home/bforget/.local/lib/python3.8/site-packages/openmc/mixin.py:68: IDWarning: Another Filter instance already exists with id=2.\n",
      "  warn(msg, IDWarning)\n",
      "/home/bforget/.local/lib/python3.8/site-packages/openmc/mixin.py:68: IDWarning: Another Filter instance already exists with id=11.\n",
      "  warn(msg, IDWarning)\n"
     ]
    }
   ],
   "source": [
    "cell_filter = openmc.CellFilter([fuel_cell,clad_cell, moderator_cell])\n",
    "\n",
    "energy_filter = openmc.EnergyFilter([0.0, 0.058, 0.14, 0.28, 0.625, 4.0, 10.0, 40.0, 5530.0,\n",
    "                                   0.821e6, 20.0e6])\n",
    "\n",
    "tally = openmc.Tally(name='cell tally')\n",
    "tally.filters = [cell_filter, energy_filter]\n",
    "tally.scores = ['flux']\n",
    "\n",
    "# Add tally to collection\n",
    "tallies_file.append(tally, merge=True)\n",
    "\n",
    "# Export all tallies to a \"tallies.xml\" file\n",
    "tallies_file.export_to_xml()"
   ]
  },
  {
   "cell_type": "code",
   "execution_count": 20,
   "id": "73f3649f",
   "metadata": {},
   "outputs": [
    {
     "name": "stdout",
     "output_type": "stream",
     "text": [
      "                                %%%%%%%%%%%%%%%\n",
      "                           %%%%%%%%%%%%%%%%%%%%%%%%\n",
      "                        %%%%%%%%%%%%%%%%%%%%%%%%%%%%%%\n",
      "                      %%%%%%%%%%%%%%%%%%%%%%%%%%%%%%%%%%\n",
      "                    %%%%%%%%%%%%%%%%%%%%%%%%%%%%%%%%%%%%%%\n",
      "                   %%%%%%%%%%%%%%%%%%%%%%%%%%%%%%%%%%%%%%%%\n",
      "                                    %%%%%%%%%%%%%%%%%%%%%%%%\n",
      "                                     %%%%%%%%%%%%%%%%%%%%%%%%\n",
      "                 ###############      %%%%%%%%%%%%%%%%%%%%%%%%\n",
      "                ##################     %%%%%%%%%%%%%%%%%%%%%%%\n",
      "                ###################     %%%%%%%%%%%%%%%%%%%%%%%\n",
      "                ####################     %%%%%%%%%%%%%%%%%%%%%%\n",
      "                #####################     %%%%%%%%%%%%%%%%%%%%%\n",
      "                ######################     %%%%%%%%%%%%%%%%%%%%\n",
      "                #######################     %%%%%%%%%%%%%%%%%%\n",
      "                 #######################     %%%%%%%%%%%%%%%%%\n",
      "                 ######################     %%%%%%%%%%%%%%%%%\n",
      "                  ####################     %%%%%%%%%%%%%%%%%\n",
      "                    #################     %%%%%%%%%%%%%%%%%\n",
      "                     ###############     %%%%%%%%%%%%%%%%\n",
      "                       ############     %%%%%%%%%%%%%%%\n",
      "                          ########     %%%%%%%%%%%%%%\n",
      "                                      %%%%%%%%%%%\n",
      "\n",
      "                   | The OpenMC Monte Carlo Code\n",
      "         Copyright | 2011-2021 MIT and OpenMC contributors\n",
      "           License | https://docs.openmc.org/en/latest/license.html\n",
      "           Version | 0.13.0-dev\n",
      "          Git SHA1 | d20b8f7440f92e323f15fcb1e9c9d639c2458d2e\n",
      "         Date/Time | 2023-01-25 09:59:55\n",
      "    OpenMP Threads | 8\n",
      "\n",
      " Reading settings XML file...\n",
      " Reading cross sections XML file...\n",
      " WARNING: Cross section library /home/bforget/linux/data/endfb71_hdf5/CS20.h5\n",
      "          does not exist.\n",
      " WARNING: Cross section library /home/bforget/linux/data/endfb71_hdf5/1V.h5 does\n",
      "          not exist.\n",
      " Reading materials XML file...\n",
      " Reading geometry XML file...\n",
      " Reading U234 from /home/bforget/linux/data/endfb71_hdf5/U234.h5\n",
      " Reading U235 from /home/bforget/linux/data/endfb71_hdf5/U235.h5\n",
      " Reading U238 from /home/bforget/linux/data/endfb71_hdf5/U238.h5\n",
      " Reading U236 from /home/bforget/linux/data/endfb71_hdf5/U236.h5\n",
      " Reading O16 from /home/bforget/linux/data/endfb71_hdf5/O16.h5\n",
      " Reading O17 from /home/bforget/linux/data/endfb71_hdf5/O17.h5\n",
      " Reading Zr90 from /home/bforget/linux/data/endfb71_hdf5/Zr90.h5\n",
      " Reading Zr91 from /home/bforget/linux/data/endfb71_hdf5/Zr91.h5\n",
      " Reading Zr92 from /home/bforget/linux/data/endfb71_hdf5/Zr92.h5\n",
      " Reading Zr94 from /home/bforget/linux/data/endfb71_hdf5/Zr94.h5\n",
      " Reading Zr96 from /home/bforget/linux/data/endfb71_hdf5/Zr96.h5\n",
      " Reading H1 from /home/bforget/linux/data/endfb71_hdf5/H1.h5\n",
      " Reading H2 from /home/bforget/linux/data/endfb71_hdf5/H2.h5\n",
      " Reading B10 from /home/bforget/linux/data/endfb71_hdf5/B10.h5\n",
      " Reading B11 from /home/bforget/linux/data/endfb71_hdf5/B11.h5\n",
      " Minimum neutron data temperature: 294.0 K\n",
      " Maximum neutron data temperature: 294.0 K\n",
      " Reading tallies XML file...\n",
      " Preparing distributed cell instances...\n",
      " Writing summary.h5 file...\n",
      " Maximum neutron transport energy: 20000000.0 eV for U235\n",
      " Initializing source particles...\n",
      "\n",
      " ====================>     K EIGENVALUE SIMULATION     <====================\n",
      "\n",
      "  Bat./Gen.      k            Average k\n",
      "  =========   ========   ====================\n",
      "        1/1    1.15081\n",
      "        2/1    1.12953\n",
      "        3/1    1.14960\n",
      "        4/1    1.14902\n",
      "        5/1    1.16855\n",
      "        6/1    1.17807\n",
      "        7/1    1.18414\n",
      "        8/1    1.14676\n",
      "        9/1    1.19178\n",
      "       10/1    1.15620\n",
      "       11/1    1.16362\n",
      "       12/1    1.15677\n",
      "       13/1    1.15965\n",
      "       14/1    1.15694\n",
      "       15/1    1.15983\n",
      "       16/1    1.15376\n",
      "       17/1    1.15240\n",
      "       18/1    1.15694\n",
      "       19/1    1.15596\n",
      "       20/1    1.16369\n",
      "       21/1    1.15199\n",
      "       22/1    1.18265\n",
      "       23/1    1.15432\n",
      "       24/1    1.17299\n",
      "       25/1    1.16487\n",
      "       26/1    1.14086\n",
      "       27/1    1.15881\n",
      "       28/1    1.17451\n",
      "       29/1    1.20226\n",
      "       30/1    1.16608\n",
      "       31/1    1.15292\n",
      "       32/1    1.17145\n",
      "       33/1    1.15673\n",
      "       34/1    1.17582\n",
      "       35/1    1.18798\n",
      "       36/1    1.18925\n",
      "       37/1    1.17465\n",
      "       38/1    1.18229\n",
      "       39/1    1.16135\n",
      "       40/1    1.16666\n",
      "       41/1    1.15837\n",
      "       42/1    1.18969\n",
      "       43/1    1.17483\n",
      "       44/1    1.15137\n",
      "       45/1    1.13123\n",
      "       46/1    1.16254\n",
      "       47/1    1.14767\n",
      "       48/1    1.13983\n",
      "       49/1    1.17485\n",
      "       50/1    1.16926\n",
      "       51/1    1.17356\n",
      "       52/1    1.16893    1.17124 +/- 0.00231\n",
      "       53/1    1.16065    1.16771 +/- 0.00377\n",
      "       54/1    1.14423    1.16184 +/- 0.00645\n",
      "       55/1    1.18348    1.16617 +/- 0.00661\n",
      "       56/1    1.16203    1.16548 +/- 0.00544\n",
      "       57/1    1.15138    1.16347 +/- 0.00502\n",
      "       58/1    1.15214    1.16205 +/- 0.00457\n",
      "       59/1    1.16497    1.16237 +/- 0.00404\n",
      "       60/1    1.15118    1.16125 +/- 0.00379\n",
      "       61/1    1.15044    1.16027 +/- 0.00356\n",
      "       62/1    1.18718    1.16251 +/- 0.00395\n",
      "       63/1    1.17905    1.16379 +/- 0.00385\n",
      "       64/1    1.16878    1.16414 +/- 0.00358\n",
      "       65/1    1.20166    1.16664 +/- 0.00417\n",
      "       66/1    1.15586    1.16597 +/- 0.00396\n",
      "       67/1    1.17534    1.16652 +/- 0.00376\n",
      "       68/1    1.16464    1.16642 +/- 0.00354\n",
      "       69/1    1.14623    1.16535 +/- 0.00352\n",
      "       70/1    1.15600    1.16489 +/- 0.00337\n",
      "       71/1    1.16971    1.16512 +/- 0.00321\n",
      "       72/1    1.16088    1.16492 +/- 0.00307\n",
      "       73/1    1.15841    1.16464 +/- 0.00295\n",
      "       74/1    1.15087    1.16407 +/- 0.00288\n",
      "       75/1    1.16024    1.16391 +/- 0.00277\n",
      "       76/1    1.16739    1.16405 +/- 0.00266\n",
      "       77/1    1.18114    1.16468 +/- 0.00264\n",
      "       78/1    1.14969    1.16414 +/- 0.00260\n",
      "       79/1    1.14335    1.16343 +/- 0.00261\n",
      "       80/1    1.15445    1.16313 +/- 0.00254\n",
      "       81/1    1.14933    1.16268 +/- 0.00249\n",
      "       82/1    1.14845    1.16224 +/- 0.00245\n",
      "       83/1    1.13337    1.16136 +/- 0.00253\n",
      "       84/1    1.17335    1.16172 +/- 0.00248\n",
      "       85/1    1.16419    1.16179 +/- 0.00241\n",
      "       86/1    1.17006    1.16202 +/- 0.00236\n",
      "       87/1    1.15144    1.16173 +/- 0.00231\n",
      "       88/1    1.15002    1.16142 +/- 0.00227\n",
      "       89/1    1.17644    1.16181 +/- 0.00224\n",
      "       90/1    1.14708    1.16144 +/- 0.00222\n",
      "       91/1    1.16534    1.16153 +/- 0.00216\n",
      "       92/1    1.15456    1.16137 +/- 0.00212\n",
      "       93/1    1.17126    1.16160 +/- 0.00208\n",
      "       94/1    1.16883    1.16176 +/- 0.00204\n",
      "       95/1    1.16531    1.16184 +/- 0.00200\n",
      "       96/1    1.14134    1.16140 +/- 0.00200\n",
      "       97/1    1.16920    1.16156 +/- 0.00197\n",
      "       98/1    1.15317    1.16139 +/- 0.00193\n",
      "       99/1    1.16482    1.16146 +/- 0.00189\n",
      "      100/1    1.13008    1.16083 +/- 0.00196\n",
      "      101/1    1.16994    1.16101 +/- 0.00193\n",
      "      102/1    1.19096    1.16158 +/- 0.00198\n",
      "      103/1    1.16199    1.16159 +/- 0.00194\n",
      "      104/1    1.16326    1.16162 +/- 0.00190\n",
      "      105/1    1.15323    1.16147 +/- 0.00187\n",
      "      106/1    1.16099    1.16146 +/- 0.00184\n",
      "      107/1    1.17088    1.16163 +/- 0.00182\n",
      "      108/1    1.15902    1.16158 +/- 0.00179\n",
      "      109/1    1.14382    1.16128 +/- 0.00178\n",
      "      110/1    1.18507    1.16168 +/- 0.00179\n",
      "      111/1    1.14939    1.16148 +/- 0.00178\n",
      "      112/1    1.16652    1.16156 +/- 0.00175\n",
      "      113/1    1.15590    1.16147 +/- 0.00172\n",
      "      114/1    1.19681    1.16202 +/- 0.00178\n",
      "      115/1    1.17039    1.16215 +/- 0.00176\n",
      "      116/1    1.16575    1.16220 +/- 0.00174\n",
      "      117/1    1.17127    1.16234 +/- 0.00171\n",
      "      118/1    1.18634    1.16269 +/- 0.00173\n",
      "      119/1    1.18002    1.16294 +/- 0.00172\n",
      "      120/1    1.18827    1.16330 +/- 0.00173\n",
      "      121/1    1.12913    1.16282 +/- 0.00177\n",
      "      122/1    1.16552    1.16286 +/- 0.00175\n",
      "      123/1    1.16497    1.16289 +/- 0.00173\n",
      "      124/1    1.17143    1.16300 +/- 0.00171\n",
      "      125/1    1.15106    1.16285 +/- 0.00169\n",
      "      126/1    1.15873    1.16279 +/- 0.00167\n",
      "      127/1    1.16624    1.16284 +/- 0.00165\n",
      "      128/1    1.18828    1.16316 +/- 0.00166\n",
      "      129/1    1.15318    1.16304 +/- 0.00164\n"
     ]
    },
    {
     "name": "stdout",
     "output_type": "stream",
     "text": [
      "      130/1    1.14031    1.16275 +/- 0.00165\n",
      "      131/1    1.16018    1.16272 +/- 0.00163\n",
      "      132/1    1.16714    1.16277 +/- 0.00161\n",
      "      133/1    1.14953    1.16261 +/- 0.00160\n",
      "      134/1    1.15505    1.16252 +/- 0.00158\n",
      "      135/1    1.13676    1.16222 +/- 0.00159\n",
      "      136/1    1.15559    1.16214 +/- 0.00157\n",
      "      137/1    1.15208    1.16203 +/- 0.00156\n",
      "      138/1    1.16475    1.16206 +/- 0.00154\n",
      "      139/1    1.16861    1.16213 +/- 0.00153\n",
      "      140/1    1.17706    1.16230 +/- 0.00152\n",
      "      141/1    1.17663    1.16246 +/- 0.00151\n",
      "      142/1    1.16413    1.16247 +/- 0.00149\n",
      "      143/1    1.17550    1.16261 +/- 0.00148\n",
      "      144/1    1.19676    1.16298 +/- 0.00151\n",
      "      145/1    1.16079    1.16295 +/- 0.00150\n",
      "      146/1    1.15543    1.16288 +/- 0.00148\n",
      "      147/1    1.17271    1.16298 +/- 0.00147\n",
      "      148/1    1.16613    1.16301 +/- 0.00146\n",
      "      149/1    1.18980    1.16328 +/- 0.00147\n",
      "      150/1    1.18598    1.16351 +/- 0.00147\n",
      "      151/1    1.14829    1.16336 +/- 0.00146\n",
      "      152/1    1.13506    1.16308 +/- 0.00147\n",
      "      153/1    1.17309    1.16318 +/- 0.00146\n",
      "      154/1    1.19112    1.16345 +/- 0.00147\n",
      "      155/1    1.14659    1.16328 +/- 0.00147\n",
      "      156/1    1.17340    1.16338 +/- 0.00146\n",
      "      157/1    1.16328    1.16338 +/- 0.00144\n",
      "      158/1    1.18222    1.16355 +/- 0.00144\n",
      "      159/1    1.14682    1.16340 +/- 0.00144\n",
      "      160/1    1.18159    1.16357 +/- 0.00143\n",
      "      161/1    1.14380    1.16339 +/- 0.00143\n",
      "      162/1    1.16405    1.16339 +/- 0.00142\n",
      "      163/1    1.13894    1.16318 +/- 0.00142\n",
      "      164/1    1.18463    1.16337 +/- 0.00142\n",
      "      165/1    1.16169    1.16335 +/- 0.00141\n",
      "      166/1    1.16246    1.16334 +/- 0.00140\n",
      "      167/1    1.18952    1.16357 +/- 0.00140\n",
      "      168/1    1.16943    1.16362 +/- 0.00139\n",
      "      169/1    1.16590    1.16364 +/- 0.00138\n",
      "      170/1    1.16325    1.16363 +/- 0.00137\n",
      "      171/1    1.15193    1.16354 +/- 0.00136\n",
      "      172/1    1.18915    1.16375 +/- 0.00137\n",
      "      173/1    1.16978    1.16379 +/- 0.00136\n",
      "      174/1    1.14329    1.16363 +/- 0.00136\n",
      "      175/1    1.15439    1.16356 +/- 0.00135\n",
      "      176/1    1.15983    1.16353 +/- 0.00134\n",
      "      177/1    1.16130    1.16351 +/- 0.00133\n",
      "      178/1    1.14669    1.16338 +/- 0.00132\n",
      "      179/1    1.16516    1.16339 +/- 0.00131\n",
      "      180/1    1.13917    1.16320 +/- 0.00131\n",
      "      181/1    1.15911    1.16317 +/- 0.00131\n",
      "      182/1    1.15578    1.16312 +/- 0.00130\n",
      "      183/1    1.14780    1.16300 +/- 0.00129\n",
      "      184/1    1.13768    1.16281 +/- 0.00130\n",
      "      185/1    1.16837    1.16285 +/- 0.00129\n",
      "      186/1    1.15556    1.16280 +/- 0.00128\n",
      "      187/1    1.17479    1.16289 +/- 0.00127\n",
      "      188/1    1.16746    1.16292 +/- 0.00126\n",
      "      189/1    1.18126    1.16305 +/- 0.00126\n",
      "      190/1    1.15293    1.16298 +/- 0.00125\n",
      "      191/1    1.15671    1.16294 +/- 0.00125\n",
      "      192/1    1.16857    1.16298 +/- 0.00124\n",
      "      193/1    1.17091    1.16303 +/- 0.00123\n",
      "      194/1    1.16700    1.16306 +/- 0.00122\n",
      "      195/1    1.14963    1.16297 +/- 0.00122\n",
      "      196/1    1.16057    1.16295 +/- 0.00121\n",
      "      197/1    1.16909    1.16299 +/- 0.00120\n",
      "      198/1    1.17183    1.16305 +/- 0.00119\n",
      "      199/1    1.16400    1.16306 +/- 0.00119\n",
      "      200/1    1.16819    1.16309 +/- 0.00118\n",
      " Creating state point statepoint.200.h5...\n",
      "\n",
      " =======================>     TIMING STATISTICS     <=======================\n",
      "\n",
      " Total time for initialization     = 8.6659e-01 seconds\n",
      "   Reading cross sections          = 7.4239e-01 seconds\n",
      " Total time in simulation          = 1.2013e+02 seconds\n",
      "   Time in transport only          = 1.0301e+02 seconds\n",
      "   Time in inactive batches        = 1.3641e+01 seconds\n",
      "   Time in active batches          = 1.0649e+02 seconds\n",
      "   Time synchronizing fission bank = 2.5751e-01 seconds\n",
      "     Sampling source sites         = 2.2874e-01 seconds\n",
      "     SEND/RECV source sites        = 2.7955e-02 seconds\n",
      "   Time accumulating tallies       = 1.6704e+01 seconds\n",
      "   Time writing statepoints        = 5.6629e-02 seconds\n",
      " Total time for finalization       = 9.0331e-03 seconds\n",
      " Total time elapsed                = 1.2103e+02 seconds\n",
      " Calculation Rate (inactive)       = 36653.7 particles/second\n",
      " Calculation Rate (active)         = 14085.7 particles/second\n",
      "\n",
      " ============================>     RESULTS     <============================\n",
      "\n",
      " k-effective (Collision)     = 1.16278 +/- 0.00099\n",
      " k-effective (Track-length)  = 1.16309 +/- 0.00118\n",
      " k-effective (Absorption)    = 1.16426 +/- 0.00081\n",
      " Combined k-effective        = 1.16373 +/- 0.00068\n",
      " Leakage Fraction            = 0.00000 +/- 0.00000\n",
      "\n"
     ]
    }
   ],
   "source": [
    "# Run OpenMC\n",
    "openmc.run()"
   ]
  },
  {
   "cell_type": "code",
   "execution_count": 21,
   "id": "8b8360ef",
   "metadata": {},
   "outputs": [],
   "source": [
    "# Move the statepoint File\n",
    "ce_spfile = './statepoint_ce.h5'\n",
    "os.rename('statepoint.{}.h5'.format(batches), ce_spfile)\n",
    "# Move the Summary file\n",
    "ce_sumfile = './summary_ce.h5'\n",
    "os.rename('summary.h5', ce_sumfile)"
   ]
  },
  {
   "cell_type": "code",
   "execution_count": 22,
   "id": "abe7dc70",
   "metadata": {},
   "outputs": [],
   "source": [
    "# Load the statepoint file\n",
    "sp = openmc.StatePoint(ce_spfile, autolink=False)\n",
    "\n",
    "# Load the summary file in its new location\n",
    "su = openmc.Summary(ce_sumfile)\n",
    "sp.link_with_summary(su)"
   ]
  },
  {
   "cell_type": "markdown",
   "id": "7d0d3635",
   "metadata": {},
   "source": [
    "We generate a MGXS library for all three materials used in our fuel pin."
   ]
  },
  {
   "cell_type": "code",
   "execution_count": 23,
   "id": "9b0545ff",
   "metadata": {},
   "outputs": [],
   "source": [
    "# Initialize MGXS Library with OpenMC statepoint data\n",
    "mgxs_lib.load_from_statepoint(sp)"
   ]
  },
  {
   "cell_type": "code",
   "execution_count": 24,
   "id": "08502118",
   "metadata": {},
   "outputs": [],
   "source": [
    "# Create a MGXS File which can then be written to disk\n",
    "mgxs_file = mgxs_lib.create_mg_library(xs_type='macro', xsdata_names=['fuel', 'zircaloy', 'water'])\n",
    "\n",
    "# Write the file to disk using the default filename of \"mgxs.h5\"\n",
    "mgxs_file.export_to_hdf5()"
   ]
  },
  {
   "cell_type": "markdown",
   "id": "1a21f8c3",
   "metadata": {},
   "source": [
    "We assign the MGXS libraries to our materials.  In this case, the geometry doesn't change.  We are only doing energy condensation within each region."
   ]
  },
  {
   "cell_type": "code",
   "execution_count": 25,
   "id": "42c27b92",
   "metadata": {},
   "outputs": [
    {
     "name": "stderr",
     "output_type": "stream",
     "text": [
      "/home/bforget/.local/lib/python3.8/site-packages/openmc/mixin.py:68: IDWarning: Another Material instance already exists with id=1.\n",
      "  warn(msg, IDWarning)\n",
      "/home/bforget/.local/lib/python3.8/site-packages/openmc/mixin.py:68: IDWarning: Another Material instance already exists with id=2.\n",
      "  warn(msg, IDWarning)\n",
      "/home/bforget/.local/lib/python3.8/site-packages/openmc/mixin.py:68: IDWarning: Another Material instance already exists with id=3.\n",
      "  warn(msg, IDWarning)\n"
     ]
    }
   ],
   "source": [
    "# Re-define our materials to use the multi-group macroscopic data\n",
    "# instead of the continuous-energy data.\n",
    "\n",
    "# 1.6% enriched fuel UO2\n",
    "fuel_mg = openmc.Material(name='UO2', material_id=1)\n",
    "fuel_mg.add_macroscopic('fuel')\n",
    "\n",
    "# cladding\n",
    "zircaloy_mg = openmc.Material(name='Clad', material_id=2)\n",
    "zircaloy_mg.add_macroscopic('zircaloy')\n",
    "\n",
    "# moderator\n",
    "water_mg = openmc.Material(name='Water', material_id=3)\n",
    "water_mg.add_macroscopic('water')\n",
    "\n",
    "# Finally, instantiate our Materials object\n",
    "materials_file = openmc.Materials((fuel_mg, zircaloy_mg, water_mg))\n",
    "\n",
    "# Set the location of the cross sections file\n",
    "materials_file.cross_sections = 'mgxs.h5'\n",
    "\n",
    "# Export to \"materials.xml\"\n",
    "materials_file.export_to_xml()"
   ]
  },
  {
   "cell_type": "markdown",
   "id": "a6f96abe",
   "metadata": {},
   "source": [
    "We turn on multigroup mode."
   ]
  },
  {
   "cell_type": "code",
   "execution_count": 26,
   "id": "681136b1",
   "metadata": {},
   "outputs": [],
   "source": [
    "# Set the energy mode\n",
    "settings_file.energy_mode = 'multi-group'\n",
    "\n",
    "# Export to \"settings.xml\"\n",
    "settings_file.export_to_xml()"
   ]
  },
  {
   "cell_type": "code",
   "execution_count": 27,
   "id": "ee5ddc08",
   "metadata": {},
   "outputs": [
    {
     "data": {
      "image/png": "[encoded data removed]",
      "text/plain": [
       "<Figure size 432x288 with 1 Axes>"
      ]
     },
     "metadata": {
      "needs_background": "light"
     },
     "output_type": "display_data"
    },
    {
     "data": {
      "image/png": "[encoded data removed]",
      "text/plain": [
       "<Figure size 432x288 with 1 Axes>"
      ]
     },
     "metadata": {
      "needs_background": "light"
     },
     "output_type": "display_data"
    },
    {
     "data": {
      "image/png": "[encoded data removed]",
      "text/plain": [
       "<Figure size 432x288 with 1 Axes>"
      ]
     },
     "metadata": {
      "needs_background": "light"
     },
     "output_type": "display_data"
    }
   ],
   "source": [
    "# First lets plot the fuel data\n",
    "# We will first add the continuous-energy data\n",
    "fig = openmc.plot_xs(fuel, ['total'])\n",
    "\n",
    "# We will now add in the corresponding multi-group data and show the result\n",
    "openmc.plot_xs(fuel_mg, ['total'], plot_CE=False, mg_cross_sections='mgxs.h5', axis=fig.axes[0])\n",
    "fig.axes[0].legend().set_visible(False)\n",
    "plt.show()\n",
    "plt.close()\n",
    "\n",
    "# Then repeat for the zircaloy data\n",
    "fig = openmc.plot_xs(zircaloy, ['total'])\n",
    "openmc.plot_xs(zircaloy_mg, ['total'], plot_CE=False, mg_cross_sections='mgxs.h5', axis=fig.axes[0])\n",
    "fig.axes[0].legend().set_visible(False)\n",
    "plt.show()\n",
    "plt.close()\n",
    "\n",
    "# And finally repeat for the water data\n",
    "fig = openmc.plot_xs(water, ['total'])\n",
    "openmc.plot_xs(water_mg, ['total'], plot_CE=False, mg_cross_sections='mgxs.h5', axis=fig.axes[0])\n",
    "fig.axes[0].legend().set_visible(False)\n",
    "plt.show()\n",
    "plt.close()"
   ]
  },
  {
   "cell_type": "code",
   "execution_count": 28,
   "id": "03665dff",
   "metadata": {},
   "outputs": [],
   "source": [
    "# Create a \"tallies.xml\" file for the MGXS Library\n",
    "tallies_file = openmc.Tallies()\n",
    "\n",
    "cell_filter = openmc.CellFilter([fuel_cell,clad_cell, moderator_cell])\n",
    "energy_filter = openmc.EnergyFilter([0.0, 0.058, 0.14, 0.28, 0.625, 4.0, 10.0, 40.0, 5530.0,\n",
    "                                   0.821e6, 20.0e6])\n",
    "\n",
    "mg_tally = openmc.Tally(name='cell tally MG')\n",
    "mg_tally.filters = [cell_filter, energy_filter]\n",
    "mg_tally.scores = ['flux']\n",
    "\n",
    "tallies_file.append(mg_tally)\n",
    "\n",
    "# Export to \"tallies.xml\"\n",
    "tallies_file.export_to_xml()"
   ]
  },
  {
   "cell_type": "code",
   "execution_count": 29,
   "id": "f03001c0",
   "metadata": {},
   "outputs": [
    {
     "name": "stdout",
     "output_type": "stream",
     "text": [
      "                                %%%%%%%%%%%%%%%\n",
      "                           %%%%%%%%%%%%%%%%%%%%%%%%\n",
      "                        %%%%%%%%%%%%%%%%%%%%%%%%%%%%%%\n",
      "                      %%%%%%%%%%%%%%%%%%%%%%%%%%%%%%%%%%\n",
      "                    %%%%%%%%%%%%%%%%%%%%%%%%%%%%%%%%%%%%%%\n",
      "                   %%%%%%%%%%%%%%%%%%%%%%%%%%%%%%%%%%%%%%%%\n",
      "                                    %%%%%%%%%%%%%%%%%%%%%%%%\n",
      "                                     %%%%%%%%%%%%%%%%%%%%%%%%\n",
      "                 ###############      %%%%%%%%%%%%%%%%%%%%%%%%\n",
      "                ##################     %%%%%%%%%%%%%%%%%%%%%%%\n",
      "                ###################     %%%%%%%%%%%%%%%%%%%%%%%\n",
      "                ####################     %%%%%%%%%%%%%%%%%%%%%%\n",
      "                #####################     %%%%%%%%%%%%%%%%%%%%%\n",
      "                ######################     %%%%%%%%%%%%%%%%%%%%\n",
      "                #######################     %%%%%%%%%%%%%%%%%%\n",
      "                 #######################     %%%%%%%%%%%%%%%%%\n",
      "                 ######################     %%%%%%%%%%%%%%%%%\n",
      "                  ####################     %%%%%%%%%%%%%%%%%\n",
      "                    #################     %%%%%%%%%%%%%%%%%\n",
      "                     ###############     %%%%%%%%%%%%%%%%\n",
      "                       ############     %%%%%%%%%%%%%%%\n",
      "                          ########     %%%%%%%%%%%%%%\n",
      "                                      %%%%%%%%%%%\n",
      "\n",
      "                   | The OpenMC Monte Carlo Code\n",
      "         Copyright | 2011-2021 MIT and OpenMC contributors\n",
      "           License | https://docs.openmc.org/en/latest/license.html\n",
      "           Version | 0.13.0-dev\n",
      "          Git SHA1 | d20b8f7440f92e323f15fcb1e9c9d639c2458d2e\n",
      "         Date/Time | 2023-01-25 10:02:42\n",
      "    OpenMP Threads | 8\n",
      "\n",
      " Reading settings XML file...\n",
      " Reading cross sections HDF5 file...\n",
      " Reading materials XML file...\n",
      " Reading geometry XML file...\n",
      " Loading cross section data...\n",
      " Loading fuel data...\n",
      " Loading zircaloy data...\n",
      " Loading water data...\n",
      " Reading tallies XML file...\n",
      " Preparing distributed cell instances...\n",
      " Writing summary.h5 file...\n",
      " Initializing source particles...\n",
      "\n",
      " ====================>     K EIGENVALUE SIMULATION     <====================\n",
      "\n",
      "  Bat./Gen.      k            Average k\n",
      "  =========   ========   ====================\n",
      "        1/1    1.15274\n",
      "        2/1    1.18860\n",
      "        3/1    1.14396\n",
      "        4/1    1.17313\n",
      "        5/1    1.16668\n",
      "        6/1    1.12583\n",
      "        7/1    1.15343\n",
      "        8/1    1.14327\n",
      "        9/1    1.16907\n",
      "       10/1    1.15600\n",
      "       11/1    1.16708\n",
      "       12/1    1.17031\n",
      "       13/1    1.15193\n",
      "       14/1    1.16561\n",
      "       15/1    1.17536\n",
      "       16/1    1.15368\n",
      "       17/1    1.14957\n",
      "       18/1    1.16467\n",
      "       19/1    1.15115\n",
      "       20/1    1.14944\n",
      "       21/1    1.15259\n",
      "       22/1    1.19776\n",
      "       23/1    1.15657\n",
      "       24/1    1.16321\n",
      "       25/1    1.17905\n",
      "       26/1    1.15942\n",
      "       27/1    1.16257\n",
      "       28/1    1.12785\n",
      "       29/1    1.15762\n",
      "       30/1    1.16927\n",
      "       31/1    1.15361\n",
      "       32/1    1.18769\n",
      "       33/1    1.18161\n",
      "       34/1    1.14348\n",
      "       35/1    1.18560\n",
      "       36/1    1.16602\n",
      "       37/1    1.18186\n",
      "       38/1    1.16999\n",
      "       39/1    1.17434\n",
      "       40/1    1.17557\n",
      "       41/1    1.14518\n",
      "       42/1    1.19414\n",
      "       43/1    1.15687\n",
      "       44/1    1.17281\n",
      "       45/1    1.15751\n",
      "       46/1    1.14267\n",
      "       47/1    1.16045\n",
      "       48/1    1.18108\n",
      "       49/1    1.19887\n",
      "       50/1    1.14742\n",
      "       51/1    1.15793\n",
      "       52/1    1.16949    1.16371 +/- 0.00578\n",
      "       53/1    1.12974    1.15239 +/- 0.01181\n",
      "       54/1    1.17169    1.15721 +/- 0.00964\n",
      "       55/1    1.14791    1.15535 +/- 0.00770\n",
      "       56/1    1.14864    1.15423 +/- 0.00638\n",
      "       57/1    1.16372    1.15559 +/- 0.00556\n",
      "       58/1    1.16625    1.15692 +/- 0.00500\n",
      "       59/1    1.17968    1.15945 +/- 0.00508\n",
      "       60/1    1.16470    1.15998 +/- 0.00458\n",
      "       61/1    1.16425    1.16036 +/- 0.00416\n",
      "       62/1    1.17134    1.16128 +/- 0.00390\n",
      "       63/1    1.17689    1.16248 +/- 0.00379\n",
      "       64/1    1.14951    1.16155 +/- 0.00363\n",
      "       65/1    1.15582    1.16117 +/- 0.00340\n",
      "       66/1    1.15921    1.16105 +/- 0.00318\n",
      "       67/1    1.15992    1.16098 +/- 0.00299\n",
      "       68/1    1.18622    1.16238 +/- 0.00315\n",
      "       69/1    1.15580    1.16204 +/- 0.00300\n",
      "       70/1    1.15358    1.16161 +/- 0.00287\n",
      "       71/1    1.15891    1.16149 +/- 0.00274\n",
      "       72/1    1.14789    1.16087 +/- 0.00268\n",
      "       73/1    1.16974    1.16125 +/- 0.00259\n",
      "       74/1    1.15359    1.16093 +/- 0.00250\n",
      "       75/1    1.16318    1.16102 +/- 0.00240\n",
      "       76/1    1.17760    1.16166 +/- 0.00239\n",
      "       77/1    1.16982    1.16196 +/- 0.00232\n",
      "       78/1    1.15278    1.16164 +/- 0.00226\n",
      "       79/1    1.18861    1.16257 +/- 0.00237\n",
      "       80/1    1.14397    1.16195 +/- 0.00237\n",
      "       81/1    1.15866    1.16184 +/- 0.00230\n",
      "       82/1    1.14146    1.16120 +/- 0.00232\n",
      "       83/1    1.14895    1.16083 +/- 0.00227\n",
      "       84/1    1.16417    1.16093 +/- 0.00221\n",
      "       85/1    1.15687    1.16081 +/- 0.00215\n",
      "       86/1    1.16919    1.16105 +/- 0.00210\n",
      "       87/1    1.14043    1.16049 +/- 0.00212\n",
      "       88/1    1.14299    1.16003 +/- 0.00211\n",
      "       89/1    1.14778    1.15972 +/- 0.00208\n",
      "       90/1    1.16870    1.15994 +/- 0.00204\n",
      "       91/1    1.17459    1.16030 +/- 0.00202\n",
      "       92/1    1.14809    1.16001 +/- 0.00199\n",
      "       93/1    1.15162    1.15981 +/- 0.00196\n",
      "       94/1    1.17638    1.16019 +/- 0.00195\n",
      "       95/1    1.14457    1.15984 +/- 0.00194\n",
      "       96/1    1.15540    1.15974 +/- 0.00190\n",
      "       97/1    1.17712    1.16011 +/- 0.00189\n",
      "       98/1    1.15056    1.15992 +/- 0.00186\n",
      "       99/1    1.17219    1.16017 +/- 0.00184\n",
      "      100/1    1.15084    1.15998 +/- 0.00181\n",
      "      101/1    1.16493    1.16008 +/- 0.00178\n",
      "      102/1    1.18336    1.16052 +/- 0.00180\n",
      "      103/1    1.16481    1.16060 +/- 0.00177\n",
      "      104/1    1.17185    1.16081 +/- 0.00175\n",
      "      105/1    1.17191    1.16101 +/- 0.00173\n",
      "      106/1    1.16270    1.16104 +/- 0.00170\n",
      "      107/1    1.17965    1.16137 +/- 0.00170\n",
      "      108/1    1.13502    1.16092 +/- 0.00173\n",
      "      109/1    1.15524    1.16082 +/- 0.00170\n",
      "      110/1    1.17409    1.16104 +/- 0.00169\n",
      "      111/1    1.15264    1.16090 +/- 0.00167\n",
      "      112/1    1.16113    1.16091 +/- 0.00164\n",
      "      113/1    1.16300    1.16094 +/- 0.00161\n",
      "      114/1    1.19107    1.16141 +/- 0.00166\n",
      "      115/1    1.15305    1.16128 +/- 0.00164\n",
      "      116/1    1.14231    1.16100 +/- 0.00164\n",
      "      117/1    1.16735    1.16109 +/- 0.00162\n",
      "      118/1    1.16485    1.16115 +/- 0.00159\n",
      "      119/1    1.15310    1.16103 +/- 0.00157\n",
      "      120/1    1.15062    1.16088 +/- 0.00156\n",
      "      121/1    1.14718    1.16069 +/- 0.00155\n",
      "      122/1    1.16668    1.16077 +/- 0.00153\n",
      "      123/1    1.15841    1.16074 +/- 0.00151\n",
      "      124/1    1.18751    1.16110 +/- 0.00153\n",
      "      125/1    1.16767    1.16119 +/- 0.00151\n",
      "      126/1    1.15775    1.16114 +/- 0.00149\n",
      "      127/1    1.19160    1.16154 +/- 0.00153\n",
      "      128/1    1.17000    1.16165 +/- 0.00151\n",
      "      129/1    1.16744    1.16172 +/- 0.00149\n",
      "      130/1    1.17865    1.16193 +/- 0.00149\n",
      "      131/1    1.15158    1.16180 +/- 0.00148\n",
      "      132/1    1.13894    1.16153 +/- 0.00148\n",
      "      133/1    1.15289    1.16142 +/- 0.00147\n",
      "      134/1    1.15970    1.16140 +/- 0.00145\n",
      "      135/1    1.18317    1.16166 +/- 0.00146\n",
      "      136/1    1.15526    1.16158 +/- 0.00144\n",
      "      137/1    1.18410    1.16184 +/- 0.00145\n",
      "      138/1    1.16001    1.16182 +/- 0.00143\n",
      "      139/1    1.15917    1.16179 +/- 0.00142\n",
      "      140/1    1.16674    1.16185 +/- 0.00140\n",
      "      141/1    1.16126    1.16184 +/- 0.00139\n",
      "      142/1    1.17040    1.16193 +/- 0.00138\n",
      "      143/1    1.15695    1.16188 +/- 0.00136\n",
      "      144/1    1.16243    1.16188 +/- 0.00135\n",
      "      145/1    1.18287    1.16211 +/- 0.00135\n",
      "      146/1    1.15895    1.16207 +/- 0.00134\n",
      "      147/1    1.16973    1.16215 +/- 0.00133\n",
      "      148/1    1.14877    1.16202 +/- 0.00132\n",
      "      149/1    1.18186    1.16222 +/- 0.00132\n",
      "      150/1    1.16362    1.16223 +/- 0.00131\n",
      "      151/1    1.17095    1.16232 +/- 0.00130\n",
      "      152/1    1.16587    1.16235 +/- 0.00129\n",
      "      153/1    1.16437    1.16237 +/- 0.00127\n",
      "      154/1    1.12581    1.16202 +/- 0.00131\n",
      "      155/1    1.13760    1.16179 +/- 0.00132\n",
      "      156/1    1.15183    1.16169 +/- 0.00131\n"
     ]
    },
    {
     "name": "stdout",
     "output_type": "stream",
     "text": [
      "      157/1    1.15763    1.16165 +/- 0.00130\n",
      "      158/1    1.14042    1.16146 +/- 0.00130\n",
      "      159/1    1.18530    1.16168 +/- 0.00131\n",
      "      160/1    1.16673    1.16172 +/- 0.00129\n",
      "      161/1    1.14921    1.16161 +/- 0.00129\n",
      "      162/1    1.16685    1.16166 +/- 0.00128\n",
      "      163/1    1.17050    1.16173 +/- 0.00127\n",
      "      164/1    1.15136    1.16164 +/- 0.00126\n",
      "      165/1    1.16955    1.16171 +/- 0.00125\n",
      "      166/1    1.16829    1.16177 +/- 0.00124\n",
      "      167/1    1.15826    1.16174 +/- 0.00123\n",
      "      168/1    1.18660    1.16195 +/- 0.00124\n",
      "      169/1    1.16642    1.16199 +/- 0.00123\n",
      "      170/1    1.16452    1.16201 +/- 0.00122\n",
      "      171/1    1.16391    1.16202 +/- 0.00121\n",
      "      172/1    1.14892    1.16192 +/- 0.00120\n",
      "      173/1    1.15898    1.16189 +/- 0.00119\n",
      "      174/1    1.15517    1.16184 +/- 0.00119\n",
      "      175/1    1.16022    1.16183 +/- 0.00118\n",
      "      176/1    1.16849    1.16188 +/- 0.00117\n",
      "      177/1    1.16204    1.16188 +/- 0.00116\n",
      "      178/1    1.16572    1.16191 +/- 0.00115\n",
      "      179/1    1.16344    1.16192 +/- 0.00114\n",
      "      180/1    1.14581    1.16180 +/- 0.00114\n",
      "      181/1    1.19432    1.16205 +/- 0.00116\n",
      "      182/1    1.14130    1.16189 +/- 0.00116\n",
      "      183/1    1.17210    1.16197 +/- 0.00115\n",
      "      184/1    1.16324    1.16198 +/- 0.00114\n",
      "      185/1    1.16519    1.16200 +/- 0.00114\n",
      "      186/1    1.15890    1.16198 +/- 0.00113\n",
      "      187/1    1.16772    1.16202 +/- 0.00112\n",
      "      188/1    1.13501    1.16182 +/- 0.00113\n",
      "      189/1    1.16775    1.16187 +/- 0.00112\n",
      "      190/1    1.17416    1.16195 +/- 0.00112\n",
      "      191/1    1.16206    1.16195 +/- 0.00111\n",
      "      192/1    1.14933    1.16186 +/- 0.00111\n",
      "      193/1    1.14178    1.16172 +/- 0.00111\n",
      "      194/1    1.15861    1.16170 +/- 0.00110\n",
      "      195/1    1.17195    1.16177 +/- 0.00109\n",
      "      196/1    1.18819    1.16195 +/- 0.00110\n",
      "      197/1    1.16067    1.16195 +/- 0.00109\n",
      "      198/1    1.14981    1.16186 +/- 0.00109\n",
      "      199/1    1.15864    1.16184 +/- 0.00108\n",
      "      200/1    1.13453    1.16166 +/- 0.00109\n",
      " Creating state point statepoint.200.h5...\n",
      "\n",
      " =======================>     TIMING STATISTICS     <=======================\n",
      "\n",
      " Total time for initialization     = 5.1991e-02 seconds\n",
      "   Reading cross sections          = 6.7405e-03 seconds\n",
      " Total time in simulation          = 5.8166e+01 seconds\n",
      "   Time in transport only          = 5.5012e+01 seconds\n",
      "   Time in inactive batches        = 9.2312e+00 seconds\n",
      "   Time in active batches          = 4.8935e+01 seconds\n",
      "   Time synchronizing fission bank = 2.4938e-01 seconds\n",
      "     Sampling source sites         = 2.3023e-01 seconds\n",
      "     SEND/RECV source sites        = 1.8251e-02 seconds\n",
      "   Time accumulating tallies       = 2.6756e+00 seconds\n",
      "   Time writing statepoints        = 5.5633e-02 seconds\n",
      " Total time for finalization       = 1.5967e-02 seconds\n",
      " Total time elapsed                = 5.8246e+01 seconds\n",
      " Calculation Rate (inactive)       = 54164.0 particles/second\n",
      " Calculation Rate (active)         = 30653.1 particles/second\n",
      "\n",
      " ============================>     RESULTS     <============================\n",
      "\n",
      " k-effective (Collision)     = 1.16124 +/- 0.00087\n",
      " k-effective (Track-length)  = 1.16166 +/- 0.00109\n",
      " k-effective (Absorption)    = 1.16214 +/- 0.00053\n",
      " Combined k-effective        = 1.16196 +/- 0.00051\n",
      " Leakage Fraction            = 0.00000 +/- 0.00000\n",
      "\n"
     ]
    }
   ],
   "source": [
    "# Run the Multi-Group OpenMC Simulation\n",
    "openmc.run()"
   ]
  },
  {
   "cell_type": "code",
   "execution_count": 30,
   "id": "87cc5e8d",
   "metadata": {},
   "outputs": [],
   "source": [
    "# Move the StatePoint File\n",
    "mg_spfile = './statepoint_mg.h5'\n",
    "os.rename('statepoint.' + str(batches) + '.h5', mg_spfile)\n",
    "# Move the Summary file\n",
    "mg_sumfile = './summary_mg.h5'\n",
    "os.rename('summary.h5', mg_sumfile)\n",
    "\n",
    "# Rename and then load the last statepoint file and keff value\n",
    "mgsp = openmc.StatePoint(mg_spfile, autolink=False)\n",
    "\n",
    "# Load the summary file in its new location\n",
    "mgsu = openmc.Summary(mg_sumfile)\n",
    "mgsp.link_with_summary(mgsu)\n",
    "\n",
    "# Get keff\n",
    "mg_keff = mgsp.k_combined"
   ]
  },
  {
   "cell_type": "code",
   "execution_count": 31,
   "id": "48c3da92",
   "metadata": {},
   "outputs": [],
   "source": [
    "ce_keff = sp.k_combined"
   ]
  },
  {
   "cell_type": "code",
   "execution_count": 32,
   "id": "ed4a3a0f",
   "metadata": {},
   "outputs": [
    {
     "name": "stdout",
     "output_type": "stream",
     "text": [
      "Continuous-Energy keff = 1.163729+/-0.000683\n",
      "Multi-Group keff = 1.161964+/-0.000510\n",
      "bias [pcm]: 176.5\n"
     ]
    }
   ],
   "source": [
    "bias = 1.0E5 * (ce_keff - mg_keff)\n",
    "\n",
    "print('Continuous-Energy keff = {0:1.6f}'.format(ce_keff))\n",
    "print('Multi-Group keff = {0:1.6f}'.format(mg_keff))\n",
    "print('bias [pcm]: {0:1.1f}'.format(bias.nominal_value))"
   ]
  },
  {
   "cell_type": "markdown",
   "id": "3c6b8d28",
   "metadata": {},
   "source": [
    "So what happened here?\n",
    "\n",
    "When fully homogenizing the pin cell, we match the results exactly, but when only condensing in energy over each material, we now see statistically significant differences.\n",
    "\n",
    "MGXS are setup to preserve reaction rates in a cell, but they do not preserve the streaming of neutrons across cells.  So as long as we have some level of heterogenity in our system (homogenized assemblies, homogenized pins or energy condensation per material), we will not reproduce the balance between neutron production and losses because we cannot account for the proper transfer of neutrons between regions.\n",
    "\n",
    "How can we fix this? "
   ]
  },
  {
   "cell_type": "markdown",
   "id": "abf4feaf",
   "metadata": {},
   "source": [
    "# SPH"
   ]
  },
  {
   "cell_type": "markdown",
   "id": "11d774da",
   "metadata": {},
   "source": [
    "SPH factors is one way to fix this problem.  It is an iterative process that tries to adjust the cross-sections in order to force the scalar fluxes in each region to match that of the reference.  This way we enfore that the MGXS solution matches both the reacion rate and cell-to-cell transfer.\n",
    "\n",
    "There are other approaches out there that rely mainly on capturing the discontinuity that is created between the reference system and the homogenized/condensed system."
   ]
  },
  {
   "cell_type": "code",
   "execution_count": 33,
   "id": "aea15a64",
   "metadata": {},
   "outputs": [],
   "source": [
    "mg_flux_tally = mgsp.get_tally(name='cell tally MG')\n",
    "mg_flux = mg_flux_tally.get_values(scores=['flux'])"
   ]
  },
  {
   "cell_type": "code",
   "execution_count": 35,
   "id": "2b8c2bff",
   "metadata": {},
   "outputs": [],
   "source": [
    "ce_flux_tally = sp.get_tally(name='cell tally')\n",
    "ce_flux = ce_flux_tally.get_values(scores=['flux'])"
   ]
  },
  {
   "cell_type": "code",
   "execution_count": 36,
   "id": "873dd5ca",
   "metadata": {},
   "outputs": [],
   "source": [
    "sph_fuel = ce_flux[0:10]/mg_flux[0:10]"
   ]
  },
  {
   "cell_type": "code",
   "execution_count": 37,
   "id": "e6010e64",
   "metadata": {},
   "outputs": [],
   "source": [
    "sph_fuel_order = np.flipud(sph_fuel)"
   ]
  },
  {
   "cell_type": "markdown",
   "id": "04664f4d",
   "metadata": {},
   "source": [
    "You can create SPH factors for every cell, but to make convergence easier we most often focus only on getting the fuel pins correct. The largest corrections happen in the resolved resonance region where massive changes in cross-section occurs.  "
   ]
  },
  {
   "cell_type": "code",
   "execution_count": 38,
   "id": "45b1c0ea",
   "metadata": {},
   "outputs": [
    {
     "data": {
      "text/plain": [
       "array([[[1.0023621 ]],\n",
       "\n",
       "       [[1.00029917]],\n",
       "\n",
       "       [[0.99442896]],\n",
       "\n",
       "       [[0.98771061]],\n",
       "\n",
       "       [[0.98994396]],\n",
       "\n",
       "       [[1.00183581]],\n",
       "\n",
       "       [[1.00441098]],\n",
       "\n",
       "       [[1.00360926]],\n",
       "\n",
       "       [[1.00252298]],\n",
       "\n",
       "       [[1.00121515]]])"
      ]
     },
     "execution_count": 38,
     "metadata": {},
     "output_type": "execute_result"
    }
   ],
   "source": [
    "sph_fuel_order"
   ]
  },
  {
   "cell_type": "markdown",
   "id": "b58048cd",
   "metadata": {},
   "source": [
    "We now create a new MGXS library where each macro will be corrected by the SPH factor."
   ]
  },
  {
   "cell_type": "code",
   "execution_count": 39,
   "id": "df176a2f",
   "metadata": {},
   "outputs": [],
   "source": [
    "import copy"
   ]
  },
  {
   "cell_type": "code",
   "execution_count": 40,
   "id": "1b1b0bef",
   "metadata": {},
   "outputs": [],
   "source": [
    "sph_mgxs = copy.deepcopy(mgxs_file)"
   ]
  },
  {
   "cell_type": "code",
   "execution_count": 41,
   "id": "21f83683",
   "metadata": {},
   "outputs": [
    {
     "data": {
      "text/plain": [
       "array([0.01078517, 0.00621191, 0.03981136, 0.12710179, 0.20140004,\n",
       "       0.02882093, 0.06819209, 0.10591862, 0.15596204, 0.31962302])"
      ]
     },
     "execution_count": 41,
     "metadata": {},
     "output_type": "execute_result"
    }
   ],
   "source": [
    "mgxs_file.xsdatas[0].absorption[0]"
   ]
  },
  {
   "cell_type": "code",
   "execution_count": 42,
   "id": "17acfe09",
   "metadata": {},
   "outputs": [
    {
     "data": {
      "text/plain": [
       "[array([7.61323692e-01, 2.38474020e-01, 2.02288390e-04, 0.00000000e+00,\n",
       "        0.00000000e+00, 0.00000000e+00, 0.00000000e+00, 0.00000000e+00,\n",
       "        0.00000000e+00, 0.00000000e+00])]"
      ]
     },
     "execution_count": 42,
     "metadata": {},
     "output_type": "execute_result"
    }
   ],
   "source": [
    "mgxs_file.xsdatas[0].chi"
   ]
  },
  {
   "cell_type": "code",
   "execution_count": 43,
   "id": "c47f599e",
   "metadata": {},
   "outputs": [],
   "source": [
    "for i in range(10):\n",
    "    sph_mgxs.xsdatas[0].absorption[0][i] = sph_mgxs.xsdatas[0].absorption[0][i]*sph_fuel_order[i]\n",
    "    sph_mgxs.xsdatas[0].nu_fission[0][i] = sph_mgxs.xsdatas[0].nu_fission[0][i]*sph_fuel_order[i]\n",
    "    sph_mgxs.xsdatas[0].total[0][i] = sph_mgxs.xsdatas[0].total[0][i]*sph_fuel_order[i]\n",
    "    for j in range(10):\n",
    "        sph_mgxs.xsdatas[0].scatter_matrix[0][i,j,0] = sph_mgxs.xsdatas[0].scatter_matrix[0][i,j,0]*sph_fuel_order[i]"
   ]
  },
  {
   "cell_type": "code",
   "execution_count": 44,
   "id": "e6da5eee",
   "metadata": {},
   "outputs": [
    {
     "data": {
      "text/plain": [
       "array([0.01081065, 0.00621377, 0.03958956, 0.12553978, 0.19937476,\n",
       "       0.02887384, 0.06849288, 0.10630091, 0.15635553, 0.32001141])"
      ]
     },
     "execution_count": 44,
     "metadata": {},
     "output_type": "execute_result"
    }
   ],
   "source": [
    "sph_mgxs.xsdatas[0].absorption[0]"
   ]
  },
  {
   "cell_type": "code",
   "execution_count": 45,
   "id": "bfce6b92",
   "metadata": {},
   "outputs": [
    {
     "data": {
      "text/plain": [
       "0.3744761601781648"
      ]
     },
     "execution_count": 45,
     "metadata": {},
     "output_type": "execute_result"
    }
   ],
   "source": [
    "sph_mgxs.xsdatas[0].scatter_matrix[0][9,9,0]"
   ]
  },
  {
   "cell_type": "code",
   "execution_count": 46,
   "id": "81b0c442",
   "metadata": {},
   "outputs": [],
   "source": [
    "sph_mgxs.export_to_hdf5()"
   ]
  },
  {
   "cell_type": "code",
   "execution_count": 47,
   "id": "6f406a23",
   "metadata": {},
   "outputs": [
    {
     "name": "stderr",
     "output_type": "stream",
     "text": [
      "/home/bforget/.local/lib/python3.8/site-packages/openmc/mixin.py:68: IDWarning: Another Material instance already exists with id=1.\n",
      "  warn(msg, IDWarning)\n",
      "/home/bforget/.local/lib/python3.8/site-packages/openmc/mixin.py:68: IDWarning: Another Material instance already exists with id=2.\n",
      "  warn(msg, IDWarning)\n",
      "/home/bforget/.local/lib/python3.8/site-packages/openmc/mixin.py:68: IDWarning: Another Material instance already exists with id=3.\n",
      "  warn(msg, IDWarning)\n"
     ]
    }
   ],
   "source": [
    "# Re-define our materials to use the multi-group macroscopic data\n",
    "# instead of the continuous-energy data.\n",
    "\n",
    "# 1.6% enriched fuel UO2\n",
    "fuel_mg = openmc.Material(name='UO2', material_id=1)\n",
    "fuel_mg.add_macroscopic('fuel')\n",
    "\n",
    "# cladding\n",
    "zircaloy_mg = openmc.Material(name='Clad', material_id=2)\n",
    "zircaloy_mg.add_macroscopic('zircaloy')\n",
    "\n",
    "# moderator\n",
    "water_mg = openmc.Material(name='Water', material_id=3)\n",
    "water_mg.add_macroscopic('water')\n",
    "\n",
    "# Finally, instantiate our Materials object\n",
    "materials_file = openmc.Materials((fuel_mg, zircaloy_mg, water_mg))\n",
    "\n",
    "# Set the location of the cross sections file\n",
    "materials_file.cross_sections = 'mgxs.h5'\n",
    "\n",
    "# Export to \"materials.xml\"\n",
    "materials_file.export_to_xml()"
   ]
  },
  {
   "cell_type": "code",
   "execution_count": 48,
   "id": "d515401c",
   "metadata": {},
   "outputs": [
    {
     "name": "stdout",
     "output_type": "stream",
     "text": [
      "                                %%%%%%%%%%%%%%%\n",
      "                           %%%%%%%%%%%%%%%%%%%%%%%%\n",
      "                        %%%%%%%%%%%%%%%%%%%%%%%%%%%%%%\n",
      "                      %%%%%%%%%%%%%%%%%%%%%%%%%%%%%%%%%%\n",
      "                    %%%%%%%%%%%%%%%%%%%%%%%%%%%%%%%%%%%%%%\n",
      "                   %%%%%%%%%%%%%%%%%%%%%%%%%%%%%%%%%%%%%%%%\n",
      "                                    %%%%%%%%%%%%%%%%%%%%%%%%\n",
      "                                     %%%%%%%%%%%%%%%%%%%%%%%%\n",
      "                 ###############      %%%%%%%%%%%%%%%%%%%%%%%%\n",
      "                ##################     %%%%%%%%%%%%%%%%%%%%%%%\n",
      "                ###################     %%%%%%%%%%%%%%%%%%%%%%%\n",
      "                ####################     %%%%%%%%%%%%%%%%%%%%%%\n",
      "                #####################     %%%%%%%%%%%%%%%%%%%%%\n",
      "                ######################     %%%%%%%%%%%%%%%%%%%%\n",
      "                #######################     %%%%%%%%%%%%%%%%%%\n",
      "                 #######################     %%%%%%%%%%%%%%%%%\n",
      "                 ######################     %%%%%%%%%%%%%%%%%\n",
      "                  ####################     %%%%%%%%%%%%%%%%%\n",
      "                    #################     %%%%%%%%%%%%%%%%%\n",
      "                     ###############     %%%%%%%%%%%%%%%%\n",
      "                       ############     %%%%%%%%%%%%%%%\n",
      "                          ########     %%%%%%%%%%%%%%\n",
      "                                      %%%%%%%%%%%\n",
      "\n",
      "                   | The OpenMC Monte Carlo Code\n",
      "         Copyright | 2011-2021 MIT and OpenMC contributors\n",
      "           License | https://docs.openmc.org/en/latest/license.html\n",
      "           Version | 0.13.0-dev\n",
      "          Git SHA1 | d20b8f7440f92e323f15fcb1e9c9d639c2458d2e\n",
      "         Date/Time | 2023-01-25 10:15:14\n",
      "    OpenMP Threads | 8\n",
      "\n",
      " Reading settings XML file...\n",
      " Reading cross sections HDF5 file...\n",
      " Reading materials XML file...\n",
      " Reading geometry XML file...\n",
      " Loading cross section data...\n",
      " Loading fuel data...\n",
      " Loading zircaloy data...\n",
      " Loading water data...\n",
      " Reading tallies XML file...\n",
      " Preparing distributed cell instances...\n",
      " Writing summary.h5 file...\n",
      " Initializing source particles...\n",
      "\n",
      " ====================>     K EIGENVALUE SIMULATION     <====================\n",
      "\n",
      "  Bat./Gen.      k            Average k\n",
      "  =========   ========   ====================\n",
      "        1/1    1.16001\n",
      "        2/1    1.15877\n",
      "        3/1    1.18260\n",
      "        4/1    1.15992\n",
      "        5/1    1.15064\n",
      "        6/1    1.18345\n",
      "        7/1    1.18022\n",
      "        8/1    1.16691\n",
      "        9/1    1.17493\n",
      "       10/1    1.18929\n",
      "       11/1    1.16321\n",
      "       12/1    1.17680\n",
      "       13/1    1.18300\n",
      "       14/1    1.16390\n",
      "       15/1    1.13912\n",
      "       16/1    1.14929\n",
      "       17/1    1.18864\n",
      "       18/1    1.18048\n",
      "       19/1    1.16209\n",
      "       20/1    1.16065\n",
      "       21/1    1.16041\n",
      "       22/1    1.18457\n",
      "       23/1    1.16409\n",
      "       24/1    1.16114\n",
      "       25/1    1.16846\n",
      "       26/1    1.18093\n",
      "       27/1    1.14908\n",
      "       28/1    1.14956\n",
      "       29/1    1.15453\n",
      "       30/1    1.17575\n",
      "       31/1    1.14396\n",
      "       32/1    1.17618\n",
      "       33/1    1.16599\n",
      "       34/1    1.13694\n",
      "       35/1    1.16866\n",
      "       36/1    1.15848\n",
      "       37/1    1.16924\n",
      "       38/1    1.15907\n",
      "       39/1    1.16392\n",
      "       40/1    1.16334\n",
      "       41/1    1.16731\n",
      "       42/1    1.16829\n",
      "       43/1    1.16177\n",
      "       44/1    1.15354\n",
      "       45/1    1.14305\n",
      "       46/1    1.15233\n",
      "       47/1    1.14068\n",
      "       48/1    1.15554\n",
      "       49/1    1.17936\n",
      "       50/1    1.15107\n",
      "       51/1    1.14766\n",
      "       52/1    1.16337    1.15551 +/- 0.00785\n",
      "       53/1    1.14135    1.15079 +/- 0.00655\n",
      "       54/1    1.15796    1.15258 +/- 0.00496\n",
      "       55/1    1.16337    1.15474 +/- 0.00441\n",
      "       56/1    1.16145    1.15586 +/- 0.00377\n",
      "       57/1    1.16698    1.15745 +/- 0.00356\n",
      "       58/1    1.12613    1.15353 +/- 0.00498\n",
      "       59/1    1.17412    1.15582 +/- 0.00495\n",
      "       60/1    1.14099    1.15434 +/- 0.00467\n",
      "       61/1    1.15718    1.15459 +/- 0.00423\n",
      "       62/1    1.16456    1.15542 +/- 0.00395\n",
      "       63/1    1.19006    1.15809 +/- 0.00451\n",
      "       64/1    1.16645    1.15869 +/- 0.00422\n",
      "       65/1    1.16104    1.15884 +/- 0.00393\n",
      "       66/1    1.18925    1.16074 +/- 0.00414\n",
      "       67/1    1.14883    1.16004 +/- 0.00395\n",
      "       68/1    1.18146    1.16123 +/- 0.00391\n",
      "       69/1    1.15528    1.16092 +/- 0.00371\n",
      "       70/1    1.18131    1.16194 +/- 0.00366\n",
      "       71/1    1.14740    1.16125 +/- 0.00355\n",
      "       72/1    1.13167    1.15990 +/- 0.00365\n",
      "       73/1    1.15653    1.15976 +/- 0.00349\n",
      "       74/1    1.17042    1.16020 +/- 0.00337\n",
      "       75/1    1.19799    1.16171 +/- 0.00357\n",
      "       76/1    1.15982    1.16164 +/- 0.00343\n",
      "       77/1    1.15594    1.16143 +/- 0.00330\n",
      "       78/1    1.15014    1.16103 +/- 0.00321\n",
      "       79/1    1.16123    1.16103 +/- 0.00310\n",
      "       80/1    1.14434    1.16048 +/- 0.00304\n",
      "       81/1    1.16964    1.16077 +/- 0.00296\n",
      "       82/1    1.16072    1.16077 +/- 0.00286\n",
      "       83/1    1.17708    1.16126 +/- 0.00282\n",
      "       84/1    1.15887    1.16119 +/- 0.00274\n",
      "       85/1    1.17318    1.16154 +/- 0.00268\n",
      "       86/1    1.15410    1.16133 +/- 0.00261\n",
      "       87/1    1.14700    1.16094 +/- 0.00257\n",
      "       88/1    1.17269    1.16125 +/- 0.00252\n",
      "       89/1    1.14572    1.16085 +/- 0.00249\n",
      "       90/1    1.15793    1.16078 +/- 0.00242\n",
      "       91/1    1.16815    1.16096 +/- 0.00237\n",
      "       92/1    1.15268    1.16076 +/- 0.00232\n",
      "       93/1    1.15896    1.16072 +/- 0.00227\n",
      "       94/1    1.15548    1.16060 +/- 0.00222\n",
      "       95/1    1.14932    1.16035 +/- 0.00218\n",
      "       96/1    1.18405    1.16087 +/- 0.00220\n",
      "       97/1    1.15065    1.16065 +/- 0.00216\n",
      "       98/1    1.16988    1.16084 +/- 0.00212\n",
      "       99/1    1.15953    1.16081 +/- 0.00208\n",
      "      100/1    1.16880    1.16097 +/- 0.00205\n",
      "      101/1    1.14931    1.16074 +/- 0.00202\n",
      "      102/1    1.16044    1.16074 +/- 0.00198\n",
      "      103/1    1.16071    1.16074 +/- 0.00194\n",
      "      104/1    1.16102    1.16074 +/- 0.00190\n",
      "      105/1    1.16833    1.16088 +/- 0.00187\n",
      "      106/1    1.13606    1.16044 +/- 0.00189\n",
      "      107/1    1.15467    1.16034 +/- 0.00186\n",
      "      108/1    1.16010    1.16033 +/- 0.00183\n",
      "      109/1    1.17875    1.16065 +/- 0.00183\n",
      "      110/1    1.15037    1.16047 +/- 0.00180\n",
      "      111/1    1.17183    1.16066 +/- 0.00178\n",
      "      112/1    1.18180    1.16100 +/- 0.00179\n",
      "      113/1    1.17323    1.16120 +/- 0.00177\n",
      "      114/1    1.18105    1.16151 +/- 0.00177\n",
      "      115/1    1.16750    1.16160 +/- 0.00174\n",
      "      116/1    1.16785    1.16169 +/- 0.00172\n",
      "      117/1    1.15808    1.16164 +/- 0.00169\n",
      "      118/1    1.13244    1.16121 +/- 0.00172\n",
      "      119/1    1.16519    1.16127 +/- 0.00170\n",
      "      120/1    1.16555    1.16133 +/- 0.00168\n",
      "      121/1    1.15051    1.16118 +/- 0.00166\n",
      "      122/1    1.18707    1.16154 +/- 0.00168\n",
      "      123/1    1.17677    1.16174 +/- 0.00167\n",
      "      124/1    1.16122    1.16174 +/- 0.00164\n",
      "      125/1    1.15633    1.16166 +/- 0.00162\n",
      "      126/1    1.15279    1.16155 +/- 0.00161\n",
      "      127/1    1.14531    1.16134 +/- 0.00160\n",
      "      128/1    1.16109    1.16133 +/- 0.00158\n",
      "      129/1    1.16490    1.16138 +/- 0.00156\n",
      "      130/1    1.16204    1.16139 +/- 0.00154\n",
      "      131/1    1.17719    1.16158 +/- 0.00153\n",
      "      132/1    1.16378    1.16161 +/- 0.00151\n",
      "      133/1    1.14015    1.16135 +/- 0.00152\n",
      "      134/1    1.14845    1.16120 +/- 0.00151\n",
      "      135/1    1.14503    1.16101 +/- 0.00150\n",
      "      136/1    1.17529    1.16117 +/- 0.00149\n",
      "      137/1    1.16072    1.16117 +/- 0.00148\n",
      "      138/1    1.17687    1.16135 +/- 0.00147\n",
      "      139/1    1.16919    1.16143 +/- 0.00146\n",
      "      140/1    1.15293    1.16134 +/- 0.00144\n",
      "      141/1    1.15748    1.16130 +/- 0.00143\n",
      "      142/1    1.18065    1.16151 +/- 0.00143\n",
      "      143/1    1.17907    1.16170 +/- 0.00142\n",
      "      144/1    1.15410    1.16162 +/- 0.00141\n",
      "      145/1    1.15206    1.16152 +/- 0.00140\n",
      "      146/1    1.16119    1.16151 +/- 0.00139\n",
      "      147/1    1.15587    1.16145 +/- 0.00137\n",
      "      148/1    1.17027    1.16154 +/- 0.00136\n",
      "      149/1    1.19990    1.16193 +/- 0.00140\n",
      "      150/1    1.16226    1.16193 +/- 0.00139\n",
      "      151/1    1.13581    1.16168 +/- 0.00140\n",
      "      152/1    1.16845    1.16174 +/- 0.00139\n",
      "      153/1    1.15608    1.16169 +/- 0.00137\n",
      "      154/1    1.14788    1.16155 +/- 0.00137\n",
      "      155/1    1.17645    1.16170 +/- 0.00136\n",
      "      156/1    1.18245    1.16189 +/- 0.00136\n"
     ]
    },
    {
     "name": "stdout",
     "output_type": "stream",
     "text": [
      "      157/1    1.17426    1.16201 +/- 0.00135\n",
      "      158/1    1.17311    1.16211 +/- 0.00135\n",
      "      159/1    1.17143    1.16220 +/- 0.00134\n",
      "      160/1    1.17125    1.16228 +/- 0.00133\n",
      "      161/1    1.17921    1.16243 +/- 0.00132\n",
      "      162/1    1.17066    1.16250 +/- 0.00131\n",
      "      163/1    1.17189    1.16259 +/- 0.00130\n",
      "      164/1    1.15913    1.16256 +/- 0.00129\n",
      "      165/1    1.16866    1.16261 +/- 0.00128\n",
      "      166/1    1.15092    1.16251 +/- 0.00128\n",
      "      167/1    1.17890    1.16265 +/- 0.00127\n",
      "      168/1    1.16559    1.16267 +/- 0.00126\n",
      "      169/1    1.15362    1.16260 +/- 0.00125\n",
      "      170/1    1.15575    1.16254 +/- 0.00124\n",
      "      171/1    1.16199    1.16254 +/- 0.00123\n",
      "      172/1    1.16792    1.16258 +/- 0.00123\n",
      "      173/1    1.15989    1.16256 +/- 0.00122\n",
      "      174/1    1.18542    1.16274 +/- 0.00122\n",
      "      175/1    1.16062    1.16273 +/- 0.00121\n",
      "      176/1    1.14964    1.16262 +/- 0.00120\n",
      "      177/1    1.14155    1.16246 +/- 0.00121\n",
      "      178/1    1.17674    1.16257 +/- 0.00120\n",
      "      179/1    1.15520    1.16251 +/- 0.00119\n",
      "      180/1    1.15956    1.16249 +/- 0.00119\n",
      "      181/1    1.16846    1.16253 +/- 0.00118\n",
      "      182/1    1.15132    1.16245 +/- 0.00117\n",
      "      183/1    1.16186    1.16244 +/- 0.00116\n",
      "      184/1    1.16539    1.16247 +/- 0.00115\n",
      "      185/1    1.18087    1.16260 +/- 0.00115\n",
      "      186/1    1.17369    1.16268 +/- 0.00115\n",
      "      187/1    1.13135    1.16246 +/- 0.00116\n",
      "      188/1    1.14642    1.16234 +/- 0.00116\n",
      "      189/1    1.18581    1.16251 +/- 0.00116\n",
      "      190/1    1.15126    1.16243 +/- 0.00116\n",
      "      191/1    1.18160    1.16256 +/- 0.00116\n",
      "      192/1    1.15420    1.16250 +/- 0.00115\n",
      "      193/1    1.16644    1.16253 +/- 0.00114\n",
      "      194/1    1.18322    1.16268 +/- 0.00114\n",
      "      195/1    1.15296    1.16261 +/- 0.00114\n",
      "      196/1    1.16459    1.16262 +/- 0.00113\n",
      "      197/1    1.17341    1.16270 +/- 0.00113\n",
      "      198/1    1.14568    1.16258 +/- 0.00112\n",
      "      199/1    1.16265    1.16258 +/- 0.00112\n",
      "      200/1    1.14806    1.16248 +/- 0.00111\n",
      " Creating state point statepoint.200.h5...\n",
      "\n",
      " =======================>     TIMING STATISTICS     <=======================\n",
      "\n",
      " Total time for initialization     = 6.3788e-02 seconds\n",
      "   Reading cross sections          = 4.7546e-03 seconds\n",
      " Total time in simulation          = 5.1244e+01 seconds\n",
      "   Time in transport only          = 4.8042e+01 seconds\n",
      "   Time in inactive batches        = 7.5077e+00 seconds\n",
      "   Time in active batches          = 4.3736e+01 seconds\n",
      "   Time synchronizing fission bank = 2.4428e-01 seconds\n",
      "     Sampling source sites         = 2.2105e-01 seconds\n",
      "     SEND/RECV source sites        = 2.2418e-02 seconds\n",
      "   Time accumulating tallies       = 2.7813e+00 seconds\n",
      "   Time writing statepoints        = 3.4898e-02 seconds\n",
      " Total time for finalization       = 9.9019e-03 seconds\n",
      " Total time elapsed                = 5.1333e+01 seconds\n",
      " Calculation Rate (inactive)       = 66597.9 particles/second\n",
      " Calculation Rate (active)         = 34296.6 particles/second\n",
      "\n",
      " ============================>     RESULTS     <============================\n",
      "\n",
      " k-effective (Collision)     = 1.16261 +/- 0.00094\n",
      " k-effective (Track-length)  = 1.16248 +/- 0.00111\n",
      " k-effective (Absorption)    = 1.16466 +/- 0.00061\n",
      " Combined k-effective        = 1.16435 +/- 0.00061\n",
      " Leakage Fraction            = 0.00000 +/- 0.00000\n",
      "\n"
     ]
    }
   ],
   "source": [
    "# Run the Multi-Group OpenMC Simulation\n",
    "openmc.run()"
   ]
  },
  {
   "cell_type": "code",
   "execution_count": 49,
   "id": "5c2e9849",
   "metadata": {},
   "outputs": [],
   "source": [
    "# Move the StatePoint File\n",
    "sph1_spfile = './statepoint_sph1.h5'\n",
    "os.rename('statepoint.' + str(batches) + '.h5', sph1_spfile)\n",
    "# Move the Summary file\n",
    "sph1_sumfile = './summary_sph1.h5'\n",
    "os.rename('summary.h5', sph1_sumfile)\n",
    "\n",
    "# Rename and then load the last statepoint file and keff value\n",
    "sph1sp = openmc.StatePoint(sph1_spfile, autolink=False)\n",
    "\n",
    "# Load the summary file in its new location\n",
    "sph1su = openmc.Summary(sph1_sumfile)\n",
    "sph1sp.link_with_summary(sph1su)\n",
    "\n",
    "# Get keff\n",
    "sph1_keff = sph1sp.k_combined"
   ]
  },
  {
   "cell_type": "code",
   "execution_count": 50,
   "id": "8f5f118c",
   "metadata": {},
   "outputs": [
    {
     "name": "stdout",
     "output_type": "stream",
     "text": [
      "Continuous-Energy keff = 1.163729+/-0.000683\n",
      "Multi-Group keff = 1.164346+/-0.000611\n",
      "bias [pcm]: -61.7\n"
     ]
    }
   ],
   "source": [
    "bias = 1.0E5 * (ce_keff - sph1_keff)\n",
    "\n",
    "print('Continuous-Energy keff = {0:1.6f}'.format(ce_keff))\n",
    "print('Multi-Group keff = {0:1.6f}'.format(sph1_keff))\n",
    "print('bias [pcm]: {0:1.1f}'.format(bias.nominal_value))"
   ]
  },
  {
   "cell_type": "markdown",
   "id": "17c9cbec",
   "metadata": {},
   "source": [
    "This example shows a single iteration of SPH factors, but in practice you would iterate on this to further reduce the error.\n",
    "\n",
    "Once again, we cannot apply this directly to the full system, so typically we generate cross-sections at a smaller scale (pin cell or assembly) and correct the cross-sections through the iterative SPH process, and then we use this data at the larger scale.  "
   ]
  },
  {
   "cell_type": "code",
   "execution_count": null,
   "id": "31a85ab3",
   "metadata": {},
   "outputs": [],
   "source": []
  }
 ],
 "metadata": {
  "kernelspec": {
   "display_name": "Python 3 (ipykernel)",
   "language": "python",
   "name": "python3"
  },
  "language_info": {
   "codemirror_mode": {
    "name": "ipython",
    "version": 3
   },
   "file_extension": ".py",
   "mimetype": "text/x-python",
   "name": "python",
   "nbconvert_exporter": "python",
   "pygments_lexer": "ipython3",
   "version": "3.8.10"
  }
 },
 "nbformat": 4,
 "nbformat_minor": 5
}
