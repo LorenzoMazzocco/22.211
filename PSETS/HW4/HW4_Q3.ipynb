{
 "cells": [
  {
   "cell_type": "code",
   "execution_count": 1,
   "id": "997d9980",
   "metadata": {},
   "outputs": [],
   "source": [
    "import numpy as np\n",
    "import matplotlib.pyplot as plt"
   ]
  },
  {
   "cell_type": "code",
   "execution_count": 2,
   "id": "48b45cec",
   "metadata": {},
   "outputs": [],
   "source": [
    "r = 0.25 #cm\n",
    "pitch = 0.625 #cm\n",
    "\n",
    "N0 = 2e22 #cm^-2\n",
    "N1 = 3e23 #cm^-2\n",
    "s_p1 = 20 # barns"
   ]
  },
  {
   "cell_type": "markdown",
   "id": "8bc49082",
   "metadata": {},
   "source": [
    "## POINT A"
   ]
  },
  {
   "cell_type": "markdown",
   "id": "bbdba537",
   "metadata": {},
   "source": [
    "$$ l = \\frac{4S}{P} = \\frac{4\\pi r^2}{2\\pi r} = 2r$$\n",
    "$$ \\sigma_e = \\frac{1}{l N_0} = \\frac{1}{2rN_0}$$"
   ]
  },
  {
   "cell_type": "code",
   "execution_count": 3,
   "id": "c0f56bd8",
   "metadata": {},
   "outputs": [
    {
     "name": "stdout",
     "output_type": "stream",
     "text": [
      "Sigma_e: 100b\n"
     ]
    }
   ],
   "source": [
    "l = 2*r\n",
    "s_e = (1/(l*N0))*1e24\n",
    "print(\"Sigma_e: {:.0f}b\".format(s_e))"
   ]
  },
  {
   "cell_type": "markdown",
   "id": "c6087b43",
   "metadata": {},
   "source": [
    "The mean free path of a neutron in the moderator is:\n",
    "$$ mfp = \\frac{1}{\\Sigma_{t1}} = \\frac{1}{N_1\\sigma_{p1}} = \\frac{1}{6} cm$$\n",
    "\n",
    "Therefore the radius of the pincell expressed in mean free paths is $r = 1.5 $mfp, the pitch/r ratio is 2.5, therefore the Dancoff factor can be extracted from the plot to be $C=0.2$"
   ]
  },
  {
   "cell_type": "code",
   "execution_count": 4,
   "id": "3a6cd37a",
   "metadata": {},
   "outputs": [],
   "source": [
    "C = 0.2"
   ]
  },
  {
   "cell_type": "markdown",
   "id": "9cec4847",
   "metadata": {},
   "source": [
    "We apply the following formula for the Carlvik two-term approximation with the Dancoff correction:\n",
    "\n",
    "$$ A = \\frac{1-C}{C} $$\n",
    "$$ \\alpha_{1,2} = \\frac{(5A-6) \\mp \\sqrt{A^2 + 36A+ 36}}{2(A+1)}$$\n",
    "\n",
    "and \n",
    "\n",
    "$$ \\sigma_{b1} = \\frac{\\sum_{i\\in fuel} \\lambda_i N_i \\sigma_{pi}}{N0} + \\alpha_1\\sigma_e $$\n",
    "$$ \\sigma_{b2} = \\frac{\\sum_{i\\in fuel} \\lambda_i N_i \\sigma_{pi}}{N0} + \\alpha_2\\sigma_e $$\n",
    "\n",
    "where we sum over all the background nuclides of the fuel to compute the dilution. In our case the only nuclide is the fuel is X, which implies:\n",
    "\n",
    "$$ \\sigma_{b1} = \\alpha_1\\sigma_e $$\n",
    "$$ \\sigma_{b2} = \\alpha_2\\sigma_e $$"
   ]
  },
  {
   "cell_type": "code",
   "execution_count": 5,
   "id": "29e48df5",
   "metadata": {},
   "outputs": [
    {
     "name": "stdout",
     "output_type": "stream",
     "text": [
      "Sigma_b1: 120b\n",
      "Sigma_b1: 400b\n"
     ]
    }
   ],
   "source": [
    "A = (1-C)/C\n",
    "alpha_1 = ((5*A+6) - np.sqrt(A**2 + 36*A + 36))/(2*(A+1))\n",
    "alpha_2 = ((5*A+6) + np.sqrt(A**2 + 36*A + 36))/(2*(A+1))\n",
    "\n",
    "s_b1 = alpha_1*s_e\n",
    "s_b2 = alpha_2*s_e\n",
    "\n",
    "print(\"Sigma_b1: {:.0f}b\".format(s_b1))\n",
    "print(\"Sigma_b1: {:.0f}b\".format(s_b2))"
   ]
  },
  {
   "cell_type": "markdown",
   "id": "5b0e3f71",
   "metadata": {},
   "source": [
    "."
   ]
  },
  {
   "cell_type": "markdown",
   "id": "3a2b5ece",
   "metadata": {},
   "source": [
    "## POINT B"
   ]
  },
  {
   "cell_type": "code",
   "execution_count": 6,
   "id": "50d0fb67",
   "metadata": {},
   "outputs": [],
   "source": [
    "def flux_NR(energies, xs_p0, xs_d, xs_t0):\n",
    "    flux = (xs_p0 + xs_d)/(np.multiply(energies, xs_t0+xs_d))\n",
    "    return flux\n",
    "\n",
    "def flux_integral(energies, flux):\n",
    "    return np.trapz(flux, energies)\n",
    "\n",
    "def resonance_integral(energies, flux, sigma):\n",
    "    return np.trapz(np.multiply(flux, sigma), energies)"
   ]
  },
  {
   "cell_type": "code",
   "execution_count": 7,
   "id": "99c8624f",
   "metadata": {},
   "outputs": [
    {
     "data": {
      "image/png": "[encoded data removed]",
      "text/plain": [
       "<Figure size 640x480 with 1 Axes>"
      ]
     },
     "metadata": {},
     "output_type": "display_data"
    }
   ],
   "source": [
    "# DEFINE THE CROSS SECTIONS IN ENERGY SPACE\n",
    "\n",
    "energies = np.linspace(1,2,5000)\n",
    "\n",
    "s_p0 = 5\n",
    "\n",
    "# TOTAL RESONANT \n",
    "s_t0_pot = np.full_like(energies, 5)\n",
    "resonance_logic =  np.logical_or(np.logical_and(energies>=1.25, energies<=1.3), np.logical_and(energies>=1.75, energies<=1.8))\n",
    "s_t0_res = np.full_like(energies, 95)*resonance_logic\n",
    "s_t0 = s_t0_pot+s_t0_res\n",
    "\n",
    "# ABSORPTION RESONANT\n",
    "s_a0_pot = np.full_like(energies, 0)\n",
    "resonance_logic =  np.logical_or(np.logical_and(energies>=1.25, energies<=1.3), np.logical_and(energies>=1.75, energies<=1.8))\n",
    "s_a0_res = np.full_like(energies, 50)*resonance_logic\n",
    "s_a0 = s_a0_pot+s_a0_res\n",
    "\n",
    "\n",
    "plt.plot(energies, s_t0, label=\"Total XS\")\n",
    "plt.plot(energies, s_a0, label=\"Absorption XS\")\n",
    "plt.xlabel(\"Energy (eV)\")\n",
    "plt.ylabel(\"Sigma (b)\")\n",
    "plt.xlim(1,2)\n",
    "plt.ylim(0,120)\n",
    "plt.legend()\n",
    "plt.show()"
   ]
  },
  {
   "cell_type": "markdown",
   "id": "2ea95e2a",
   "metadata": {},
   "source": [
    "We can apply the Narrow Resonance (NR) model to find the flux:\n",
    "\n",
    "$$ \\phi(E) = \\frac{1}{E}\\frac{\\sigma_{p0} + \\sigma_b}{\\sigma_{t0} + \\sigma_b} $$\n",
    "\n",
    "and the basic definitions for flux integral (FI) and resonance integral (RI):\n",
    "\n",
    "$$ FI = \\int_{E_1}^{E_2} \\phi(E) dE$$\n",
    "$$ RI_x = \\int_{E_1}^{E_2} \\phi(E) \\sigma_x(E)dE$$"
   ]
  },
  {
   "cell_type": "code",
   "execution_count": 8,
   "id": "5c215ed8",
   "metadata": {},
   "outputs": [
    {
     "data": {
      "image/png": "[encoded data removed]",
      "text/plain": [
       "<Figure size 640x480 with 1 Axes>"
      ]
     },
     "metadata": {},
     "output_type": "display_data"
    }
   ],
   "source": [
    "flux_NR1 = flux_NR(energies, s_p0, s_b1, s_t0)\n",
    "flux_NR2 = flux_NR(energies, s_p0, s_b2, s_t0)\n",
    "\n",
    "FI1 = flux_integral(energies, flux_NR1)\n",
    "FI2 = flux_integral(energies, flux_NR2)\n",
    "\n",
    "RI1 = resonance_integral(energies, flux_NR1, s_t0)\n",
    "RI2 = resonance_integral(energies, flux_NR2, s_t0)\n",
    "\n",
    "plt.plot(energies, flux_NR1, label='NR + Carlvik 1')\n",
    "plt.plot(energies, flux_NR2, label='NR + Carlvik 2')\n",
    "plt.xlabel(\"Energy (eV)\")\n",
    "plt.ylabel(\"Flux\")\n",
    "plt.legend()\n",
    "plt.show()"
   ]
  },
  {
   "cell_type": "markdown",
   "id": "7045261f",
   "metadata": {},
   "source": [
    "Because of the Dancoff correction:\n",
    "\n",
    "$$ \\beta = \\frac{\\frac{4A+6}{A+1} - \\alpha_1}{\\alpha_2 - \\alpha_1} $$\n",
    "\n",
    "and finally the group cross section for reaction x is:\n",
    "\n",
    "$$ \\sigma = \\frac{\\beta RI_1 + (1-\\beta)RI_2}{\\beta FI_1 + (1-\\beta)FI_2}$$"
   ]
  },
  {
   "cell_type": "code",
   "execution_count": 9,
   "id": "1f74732e",
   "metadata": {},
   "outputs": [
    {
     "name": "stdout",
     "output_type": "stream",
     "text": [
      "The total group cross section for the nuclide X is: 10.2b\n"
     ]
    }
   ],
   "source": [
    "# Carlvik + Dancoff\n",
    "beta = ((4*A+6)/(A+1)- alpha_1)/(alpha_2-alpha_1)\n",
    "\n",
    "group_xs_t = (beta*RI1 + (1-beta)*RI2)/(beta*FI1 + (1-beta)*FI2)\n",
    "\n",
    "print(\"The total group cross section for the nuclide X is: {:.1f}b\".format(group_xs_t))"
   ]
  },
  {
   "cell_type": "markdown",
   "id": "68a3bf94",
   "metadata": {},
   "source": [
    "## POINT C"
   ]
  },
  {
   "cell_type": "code",
   "execution_count": 10,
   "id": "a6a70b6e",
   "metadata": {},
   "outputs": [],
   "source": [
    "flux_NR1 = flux_NR(energies, s_p0, s_b1, s_t0)\n",
    "flux_NR2 = flux_NR(energies, s_p0, s_b2, s_t0)\n",
    "\n",
    "FI1 = flux_integral(energies, flux_NR1)\n",
    "FI2 = flux_integral(energies, flux_NR2)\n",
    "\n",
    "RI1 = resonance_integral(energies, flux_NR1, s_a0)\n",
    "RI2 = resonance_integral(energies, flux_NR2, s_a0)"
   ]
  },
  {
   "cell_type": "code",
   "execution_count": 11,
   "id": "0363f0ab",
   "metadata": {},
   "outputs": [
    {
     "name": "stdout",
     "output_type": "stream",
     "text": [
      "The absorption group cross section for the nuclide X is: 2.7b\n"
     ]
    }
   ],
   "source": [
    "# Carlvik + Dancoff\n",
    "\n",
    "group_xs_a = (beta*RI1 + (1-beta)*RI2)/(beta*FI1 + (1-beta)*FI2)\n",
    "print(\"The absorption group cross section for the nuclide X is: {:.1f}b\".format(group_xs_a))"
   ]
  },
  {
   "cell_type": "markdown",
   "id": "ede7a71c",
   "metadata": {},
   "source": [
    "."
   ]
  },
  {
   "cell_type": "markdown",
   "id": "2cfe0a3f",
   "metadata": {},
   "source": [
    "## POINT D"
   ]
  },
  {
   "cell_type": "markdown",
   "id": "372ad780",
   "metadata": {},
   "source": [
    "Using the Carlvik approximation with the Dancoff correction the probability for fuel-to-mod is:\n",
    "\n",
    "$$ P_{f\\rightarrow m} = \\beta\\frac{\\alpha_1}{\\Sigma_{t,f}l + \\alpha_1} + (1-\\beta)\\frac{\\alpha_2}{\\Sigma_{t,f}l + \\alpha_2} $$\n",
    "\n",
    "Then it's immediate to compute the fuel-to-fuel probability given the 2 region problem:\n",
    "\n",
    "$$ P_{f\\rightarrow f} = 1 - P_{f\\rightarrow m} $$\n",
    "\n",
    "In our case $\\Sigma_{t,f} = N_0\\sigma_{t,f}$ where $\\sigma_{t,f}$ is the group xs computed in point B.\n"
   ]
  },
  {
   "cell_type": "code",
   "execution_count": 12,
   "id": "99a5ed5b",
   "metadata": {},
   "outputs": [
    {
     "name": "stdout",
     "output_type": "stream",
     "text": [
      "The fuel-to-mod probability is: 0.914\n",
      "The fuel-to-fuel probability is: 0.086\n"
     ]
    }
   ],
   "source": [
    "# Compute XS converting back to cm^2\n",
    "XS_tf = N0*group_xs_t*1e-24\n",
    "XS_tm = N1*s_p1*1e-24 \n",
    "\n",
    "P_fm = beta*alpha_1/(XS_tf*l + alpha_1) +(1-beta)*alpha_2/(XS_tf*l + alpha_2)\n",
    "P_ff = 1-P_fm\n",
    "\n",
    "print(\"The fuel-to-mod probability is: {:.3f}\".format(P_fm))\n",
    "print(\"The fuel-to-fuel probability is: {:.3f}\".format(P_ff))"
   ]
  },
  {
   "cell_type": "markdown",
   "id": "8cc8da81",
   "metadata": {},
   "source": [
    "."
   ]
  },
  {
   "cell_type": "markdown",
   "id": "605a7e59",
   "metadata": {},
   "source": [
    "."
   ]
  },
  {
   "cell_type": "markdown",
   "id": "49a88a97",
   "metadata": {},
   "source": [
    "## POINT E"
   ]
  },
  {
   "cell_type": "markdown",
   "id": "9bd770d1",
   "metadata": {},
   "source": [
    "The effects of the modified density are linear up to the flux computation through the Narrow Resonance model. In fact by doubling the density both the background cross sections $\\sigma_{b1}$ and $\\sigma_{b2}$ halve but then the flux changes according to:\n",
    "\n",
    "$$ \\phi_{NR}(E) = \\frac{1}{E}\\frac{\\sigma_{p0} + \\sigma_b}{\\sigma_{t0} + \\sigma_b} $$\n",
    "\n",
    "Then we have to repeat the whole process above for each density."
   ]
  },
  {
   "cell_type": "code",
   "execution_count": 13,
   "id": "024d81a5",
   "metadata": {},
   "outputs": [],
   "source": [
    "def reaction_rate_densities_fuel(N0, C, r=0.25, verbose=False):\n",
    "    pitch = 0.625 #cm\n",
    "\n",
    "    N1 = 3e23 #cm^-2\n",
    "    s_p1 = 20 # barns\n",
    "    \n",
    "    l = 2*r\n",
    "    s_e = (1/(l*N0))*1e24\n",
    "    if verbose:\n",
    "        print(\"Sigma_e: {:.0f}b\".format(s_e))\n",
    "\n",
    "    A = (1-C)/C\n",
    "    alpha_1 = ((5*A+6) - np.sqrt(A**2 + 36*A + 36))/(2*(A+1))\n",
    "    alpha_2 = ((5*A+6) + np.sqrt(A**2 + 36*A + 36))/(2*(A+1))\n",
    "\n",
    "    s_b1 = alpha_1*s_e\n",
    "    s_b2 = alpha_2*s_e\n",
    "\n",
    "    if verbose:\n",
    "        print(\"Sigma_b1: {:.0f}b\".format(s_b1))\n",
    "        print(\"Sigma_b1: {:.0f}b\".format(s_b2))\n",
    "\n",
    "\n",
    "    flux_NR1 = flux_NR(energies, s_p0, s_b1, s_t0)\n",
    "    flux_NR2 = flux_NR(energies, s_p0, s_b2, s_t0)\n",
    "\n",
    "    FI1 = flux_integral(energies, flux_NR1)\n",
    "    FI2 = flux_integral(energies, flux_NR2)\n",
    "    \n",
    "    RI1 = resonance_integral(energies, flux_NR1, s_t0)\n",
    "    RI2 = resonance_integral(energies, flux_NR2, s_t0)\n",
    "    \n",
    "    beta = ((4*A+6)/(A+1)- alpha_1)/(alpha_2-alpha_1)\n",
    "    \n",
    "    rr_total = (beta*RI1 + (1-beta)*RI2)*N0*1e-24 # 1/cm3/s\n",
    "    \n",
    "    group_xs_t = (beta*RI1 + (1-beta)*RI2)/(beta*FI1 + (1-beta)*FI2)\n",
    "\n",
    "    if verbose:\n",
    "        print(\"The total group cross section for the nuclide X is: {:.1f}b\".format(group_xs_t))\n",
    "    \n",
    "\n",
    "    RI1 = resonance_integral(energies, flux_NR1, s_a0)\n",
    "    RI2 = resonance_integral(energies, flux_NR2, s_a0)\n",
    "    \n",
    "    rr_abso = (beta*RI1 + (1-beta)*RI2)*N0*1e-24 # 1/cm3/s\n",
    "    \n",
    "    group_xs_a = (beta*RI1 + (1-beta)*RI2)/(beta*FI1 + (1-beta)*FI2)\n",
    "    \n",
    "    if verbose:\n",
    "        print(\"The absorption group cross section for the nuclide X is: {:.1f}b\".format(group_xs_a))\n",
    "    \n",
    "    # Compute XS converting back to cm^2\n",
    "    XS_tf = N0*group_xs_t*1e-24\n",
    "    XS_tm = N1*s_p1*1e-24 \n",
    "\n",
    "    P_fm = beta*alpha_1/(XS_tf*l + alpha_1) +(1-beta)*alpha_2/(XS_tf*l + alpha_2)\n",
    "    P_ff = 1-P_fm\n",
    "\n",
    "    if verbose:\n",
    "        print(\"The fuel-to-mod probability is: {:.3f}\".format(P_fm))\n",
    "        print(\"The fuel-to-fuel probability is: {:.3f}\".format(P_ff))\n",
    "    \n",
    "    return [rr_total, rr_abso]"
   ]
  },
  {
   "cell_type": "code",
   "execution_count": 14,
   "id": "64218e1d",
   "metadata": {},
   "outputs": [
    {
     "name": "stdout",
     "output_type": "stream",
     "text": [
      "============================== N0 = 2e+22 ===========================\n",
      "Sigma_e: 100b\n",
      "Sigma_b1: 120b\n",
      "Sigma_b1: 400b\n",
      "The total group cross section for the nuclide X is: 10.2b\n",
      "The absorption group cross section for the nuclide X is: 2.7b\n",
      "The fuel-to-mod probability is: 0.914\n",
      "The fuel-to-fuel probability is: 0.086\n",
      "Total Reaction Rate Density in fuel: 0.13 1/cm3/s\n",
      "Absorption Reaction Rate Density in fuel: 0.04 1/cm3/s\n",
      "============================== N0 = 4e+22 ===========================\n",
      "Sigma_e: 50b\n",
      "Sigma_b1: 60b\n",
      "Sigma_b1: 200b\n",
      "The total group cross section for the nuclide X is: 8.6b\n",
      "The absorption group cross section for the nuclide X is: 1.9b\n",
      "The fuel-to-mod probability is: 0.862\n",
      "The fuel-to-fuel probability is: 0.138\n",
      "Total Reaction Rate Density in fuel: 0.22 1/cm3/s\n",
      "Absorption Reaction Rate Density in fuel: 0.05 1/cm3/s\n"
     ]
    }
   ],
   "source": [
    "NN00 = [2e22, 4e22]\n",
    "\n",
    "rrdd_fuel = []\n",
    "\n",
    "for N0 in NN00:\n",
    "    print(\"============================== N0 = {:.0e} ===========================\".format(N0))\n",
    "    tot, abso = reaction_rate_densities_fuel(N0, C=0.2, verbose=True)\n",
    "    rrdd_fuel.append([tot, abso])\n",
    "    print(\"Total Reaction Rate Density in fuel: {:.2f} 1/cm3/s\".format(tot))\n",
    "    print(\"Absorption Reaction Rate Density in fuel: {:.2f} 1/cm3/s\".format(abso))\n",
    "   "
   ]
  },
  {
   "cell_type": "markdown",
   "id": "3d50d28a",
   "metadata": {},
   "source": [
    "We can then compute the macroscopic reaction rate in the fuel just by multiplying by the fuel (we will obtain the results normalized by the depth of our geometry)."
   ]
  },
  {
   "cell_type": "code",
   "execution_count": 15,
   "id": "f856a94d",
   "metadata": {},
   "outputs": [],
   "source": [
    "V_f = np.pi*r**2\n",
    "rr_fuel = np.array(rrdd_fuel)*V_f # 1/cm/s"
   ]
  },
  {
   "cell_type": "code",
   "execution_count": 16,
   "id": "181e303e",
   "metadata": {},
   "outputs": [
    {
     "name": "stdout",
     "output_type": "stream",
     "text": [
      "\n",
      "\n",
      "===================================== N0 = 2e+22 at/cm3 ==================================\n",
      "\n",
      "Total reaction rate in fuel:         0.0264 1/cm/s\n",
      "Absorption reaction rate in fuel:    0.0071 1/cm/s    (26.7% of total)\n",
      "\n",
      "\n",
      "===================================== N0 = 4e+22 at/cm3 ==================================\n",
      "\n",
      "Total reaction rate in fuel:         0.0440 1/cm/s\n",
      "Absorption reaction rate in fuel:    0.0097 1/cm/s    (22.1% of total)\n",
      "\n",
      "\n",
      "=================================== RATIOS (after/before) ================================\n",
      "\n",
      "Total reaction rate in fuel:         1.665\n",
      "Absorption reaction rate in fuel:    1.374\n"
     ]
    }
   ],
   "source": [
    "print(\"\\n\\n===================================== N0 = {:.0e} at/cm3 ==================================\\n\".format(NN00[0]))\n",
    "print(\"Total reaction rate in fuel:         {:.4f} 1/cm/s\".format(rr_fuel[0][0]))\n",
    "print(\"Absorption reaction rate in fuel:    {:.4f} 1/cm/s    ({:.1f}% of total)\".format(rr_fuel[0][1], 100*rr_fuel[0][1]/rr_fuel[0][0]))\n",
    "\n",
    "print(\"\\n\\n===================================== N0 = {:.0e} at/cm3 ==================================\\n\".format(NN00[1]))\n",
    "print(\"Total reaction rate in fuel:         {:.4f} 1/cm/s\".format(rr_fuel[1][0], 100*rr_fuel[1][0]/rr_fuel[1][0]))\n",
    "print(\"Absorption reaction rate in fuel:    {:.4f} 1/cm/s    ({:.1f}% of total)\".format(rr_fuel[1][1], 100*rr_fuel[1][1]/rr_fuel[1][0]))\n",
    "\n",
    "print(\"\\n\\n=================================== RATIOS (after/before) ================================\\n\".format(NN00[1]))\n",
    "print(\"Total reaction rate in fuel:         {:.3f}\".format(rr_fuel[1][0]/rr_fuel[0][0]))\n",
    "print(\"Absorption reaction rate in fuel:    {:.3f}\".format(rr_fuel[1][1]/rr_fuel[0][1]))\n",
    "\n"
   ]
  },
  {
   "cell_type": "markdown",
   "id": "fc1a028d",
   "metadata": {},
   "source": [
    "."
   ]
  },
  {
   "cell_type": "markdown",
   "id": "eddc7765",
   "metadata": {},
   "source": [
    "."
   ]
  },
  {
   "cell_type": "markdown",
   "id": "c31e66c2",
   "metadata": {},
   "source": [
    "## POINT F"
   ]
  },
  {
   "cell_type": "markdown",
   "id": "d0969bbc",
   "metadata": {},
   "source": [
    "The simplest way of increasing the absorption reaction rate is to increase the size of the fuel rod relative fixing the ratio between it and the lattice pitch. As a first approximation we can fix the Dancoff correction factor while doing the calculation (from Figure 2 it appears that increasing the radius of the rod slightly will not change C massively)."
   ]
  },
  {
   "cell_type": "code",
   "execution_count": 17,
   "id": "e31b8813",
   "metadata": {},
   "outputs": [],
   "source": [
    "radii = np.linspace(0.05,0.4, 100)\n",
    "rr_abso = []\n",
    "\n",
    "for r in radii:\n",
    "    t, a = reaction_rate_densities_fuel(2e22, C=.2, r=r)\n",
    "    rr_abso.append(a*np.pi*r**2)\n",
    "\n",
    "\n",
    "ref_abso = reaction_rate_densities_fuel(2e22, C=.2)\n",
    "ref_abso = ref_abso[1]*V_f\n",
    "target_abso = reaction_rate_densities_fuel(4e22, C=.2)\n",
    "target_abso = target_abso[1]*V_f"
   ]
  },
  {
   "cell_type": "code",
   "execution_count": 18,
   "id": "dffc1fd2",
   "metadata": {},
   "outputs": [
    {
     "data": {
      "text/plain": [
       "<matplotlib.legend.Legend at 0x7fb198c2fd90>"
      ]
     },
     "execution_count": 18,
     "metadata": {},
     "output_type": "execute_result"
    },
    {
     "data": {
      "image/png": "[encoded data removed]",
      "text/plain": [
       "<Figure size 640x480 with 1 Axes>"
      ]
     },
     "metadata": {},
     "output_type": "display_data"
    }
   ],
   "source": [
    "plt.plot(radii, rr_abso, color='k')\n",
    "\n",
    "plt.hlines([ref_abso], 0,.25, color='blue', linestyle='--', linewidth=.6, label='Reference Density')\n",
    "plt.vlines([0.25], min(rr_abso), ref_abso, color='blue', linestyle='--', linewidth=.6)\n",
    "\n",
    "plt.hlines([target_abso], 0,.307, color='red', linestyle='--', linewidth=.6, label='Doubled Density')\n",
    "plt.vlines([0.307], min(rr_abso), target_abso, color='red', linestyle='--', linewidth=.6)\n",
    "\n",
    "plt.xlim(.05,.4)\n",
    "plt.ylim(min(rr_abso), max(rr_abso))\n",
    "\n",
    "plt.ylabel(\"Absorption RR (1/cm/s)\")\n",
    "plt.xlabel(\"Fuel Pin Radius (cm)\")\n",
    "\n",
    "plt.legend()"
   ]
  },
  {
   "cell_type": "markdown",
   "id": "2310dff0",
   "metadata": {},
   "source": [
    "As we can see from the figure above a radius of about 0.31 cm will yield the desired reaction rate.\n",
    "Tweaking the value and considering correct Dancoff correction factors a radius of 0.3 cm will yield the right absorption reaction rate:"
   ]
  },
  {
   "cell_type": "code",
   "execution_count": 19,
   "id": "b8fe6a6e",
   "metadata": {},
   "outputs": [
    {
     "name": "stdout",
     "output_type": "stream",
     "text": [
      "Target RR: 0.0097 1/cm/s\n",
      "Bigger fuel rod RR: 0.0097 1/cm/s\n"
     ]
    }
   ],
   "source": [
    "t, a = reaction_rate_densities_fuel(2e22, C=.14, r=.3)\n",
    "print(\"Target RR: {:.4f} 1/cm/s\".format(target_abso))\n",
    "print(\"Bigger fuel rod RR: {:.4f} 1/cm/s\".format(a*np.pi*.3**2))"
   ]
  },
  {
   "cell_type": "markdown",
   "id": "15fc2095",
   "metadata": {},
   "source": [
    "So the final configuration is:\n",
    " - Fuel Pin Radius: 0.3 cm\n",
    " - Lattice Pitch: 0.75 cm"
   ]
  },
  {
   "cell_type": "markdown",
   "id": "744cf4ba",
   "metadata": {},
   "source": [
    "."
   ]
  },
  {
   "cell_type": "markdown",
   "id": "2c5d212c",
   "metadata": {},
   "source": [
    "."
   ]
  },
  {
   "cell_type": "markdown",
   "id": "68860784",
   "metadata": {},
   "source": [
    "## POINT G"
   ]
  },
  {
   "cell_type": "markdown",
   "id": "9fe2c778",
   "metadata": {},
   "source": [
    "$$ l = \\frac{4S}{P} = \\frac{4\\pi r^2}{2\\pi r} = 2r$$\n",
    "$$ \\sigma_e = \\frac{1}{l N_0} = \\frac{1}{2rN_0}$$"
   ]
  },
  {
   "cell_type": "code",
   "execution_count": 20,
   "id": "20cb7205",
   "metadata": {},
   "outputs": [
    {
     "name": "stdout",
     "output_type": "stream",
     "text": [
      "Sigma_e: 100b\n"
     ]
    }
   ],
   "source": [
    "r = 0.25 #cm\n",
    "pitch = 0.625 #cm\n",
    "\n",
    "N0 = 2e22 #cm^-2\n",
    "N1 = 1.5e23 #cm^-2\n",
    "s_p1 = 3.4 # barns\n",
    "\n",
    "l = 2*r\n",
    "s_e = (1/(l*N0))*1e24\n",
    "print(\"Sigma_e: {:.0f}b\".format(s_e))"
   ]
  },
  {
   "cell_type": "markdown",
   "id": "4da7f7fb",
   "metadata": {},
   "source": [
    "The lattice size / fuel pin radius ratio stays the same (2.5) while the measure of the radius in mean free paths in the moderator changes from 1.5 to 0.1275. Therefore the Dancoff correction factor increases from 0.2 to about 0.85."
   ]
  },
  {
   "cell_type": "code",
   "execution_count": 28,
   "id": "5bc55cf1",
   "metadata": {},
   "outputs": [],
   "source": [
    "C = 0.85"
   ]
  },
  {
   "cell_type": "markdown",
   "id": "c2a0c602",
   "metadata": {},
   "source": [
    "We apply the same formulas as before:\n",
    "\n",
    "$$ A = \\frac{1-C}{C} $$\n",
    "$$ \\alpha_{1,2} = \\frac{(5A-6) \\mp \\sqrt{A^2 + 36A+ 36}}{2(A+1)}$$\n",
    "\n",
    "and \n",
    "\n",
    "$$ \\sigma_{b1} = \\frac{\\sum_{i\\in fuel} \\lambda_i N_i \\sigma_{pi}}{N0} + \\alpha_1\\sigma_e $$\n",
    "$$ \\sigma_{b2} = \\frac{\\sum_{i\\in fuel} \\lambda_i N_i \\sigma_{pi}}{N0} + \\alpha_2\\sigma_e $$\n",
    "\n",
    "The only nuclide is the fuel is X, which implies:\n",
    "\n",
    "$$ \\sigma_{b1} = \\alpha_1\\sigma_e $$\n",
    "$$ \\sigma_{b2} = \\alpha_2\\sigma_e $$"
   ]
  },
  {
   "cell_type": "code",
   "execution_count": 29,
   "id": "5d564aea",
   "metadata": {},
   "outputs": [
    {
     "name": "stdout",
     "output_type": "stream",
     "text": [
      "Sigma_b1: 16b\n",
      "Sigma_b1: 569b\n"
     ]
    }
   ],
   "source": [
    "A = (1-C)/C\n",
    "alpha_1 = ((5*A+6) - np.sqrt(A**2 + 36*A + 36))/(2*(A+1))\n",
    "alpha_2 = ((5*A+6) + np.sqrt(A**2 + 36*A + 36))/(2*(A+1))\n",
    "\n",
    "s_b1 = alpha_1*s_e\n",
    "s_b2 = alpha_2*s_e\n",
    "\n",
    "print(\"Sigma_b1: {:.0f}b\".format(s_b1))\n",
    "print(\"Sigma_b1: {:.0f}b\".format(s_b2))"
   ]
  },
  {
   "cell_type": "markdown",
   "id": "da86cfaf",
   "metadata": {},
   "source": [
    "."
   ]
  },
  {
   "cell_type": "markdown",
   "id": "1f51ef75",
   "metadata": {},
   "source": [
    "."
   ]
  },
  {
   "cell_type": "markdown",
   "id": "019e3e5b",
   "metadata": {},
   "source": [
    "## POINT H"
   ]
  },
  {
   "cell_type": "markdown",
   "id": "11737fe9",
   "metadata": {},
   "source": [
    "Fixing the atomic density of nuclide X to the reference value of $2\\cdot10^{22}$ and assuming no absorption by C we can use the equivalent cross section and Dancoff correction factor computed in point G."
   ]
  },
  {
   "cell_type": "markdown",
   "id": "6eeac430",
   "metadata": {},
   "source": [
    "The presence of C changes the background cross section for the fuel:\n",
    "\n",
    "$$ \\sigma_{b1} = \\frac{\\lambda_C N_C \\sigma_{p,C}}{N_0} + \\alpha_1\\sigma_e $$\n",
    "$$ \\sigma_{b2} = \\frac{\\lambda_C N_C \\sigma_{p,C}}{N_0} + \\alpha_2\\sigma_e $$\n",
    "\n",
    "Given the fact that we're using the Narrow Resonance model we can set $\\lambda_C = 1$"
   ]
  },
  {
   "cell_type": "code",
   "execution_count": 44,
   "id": "9b485c36",
   "metadata": {},
   "outputs": [],
   "source": [
    "def absorption_XC(NC, verbose=False):\n",
    "\n",
    "    r = 0.25 #cm\n",
    "    pitch = 0.625 #cm\n",
    "\n",
    "    N0 = 2e22 #cm^-2\n",
    "    N1 = 1.5e23 #cm^-2\n",
    "    s_p1 = 3.4 # barns\n",
    "    s_pc = 4.7 # barns\n",
    "\n",
    "    l = 2*r\n",
    "    s_e = (1/(l*N0))*1e24\n",
    "\n",
    "    if verbose:\n",
    "        print(\"Sigma_e:  {:.0f}b\".format(s_e))\n",
    "\n",
    "    C = 0.85\n",
    "    A = (1-C)/C\n",
    "    alpha_1 = ((5*A+6) - np.sqrt(A**2 + 36*A + 36))/(2*(A+1))\n",
    "    alpha_2 = ((5*A+6) + np.sqrt(A**2 + 36*A + 36))/(2*(A+1))\n",
    "\n",
    "    s_b1 = NC*s_pc/N0 + alpha_1*s_e\n",
    "    s_b2 = NC*s_pc/N0 + alpha_2*s_e\n",
    "\n",
    "    if verbose:\n",
    "        print(\"Sigma_b1: {:.0f}b\".format(s_b1))\n",
    "        print(\"Sigma_b1: {:.0f}b\".format(s_b2))\n",
    "\n",
    "    flux_NR1 = flux_NR(energies, s_p0, s_b1, s_t0)\n",
    "    flux_NR2 = flux_NR(energies, s_p0, s_b2, s_t0)\n",
    "\n",
    "    FI1 = flux_integral(energies, flux_NR1)\n",
    "    FI2 = flux_integral(energies, flux_NR2)\n",
    "    \n",
    "    RI1 = resonance_integral(energies, flux_NR1, s_t0)\n",
    "    RI2 = resonance_integral(energies, flux_NR2, s_t0)\n",
    "    \n",
    "    beta = ((4*A+6)/(A+1)- alpha_1)/(alpha_2-alpha_1)\n",
    "    \n",
    "    rr_total = (beta*RI1 + (1-beta)*RI2)*N0*1e-24 # 1/cm3/s\n",
    "    \n",
    "    group_xs_t = (beta*RI1 + (1-beta)*RI2)/(beta*FI1 + (1-beta)*FI2)\n",
    "\n",
    "    if verbose:\n",
    "        print(\"The total group cross section for the nuclide X is: {:.1f}b\".format(group_xs_t))\n",
    "    \n",
    "\n",
    "    RI1 = resonance_integral(energies, flux_NR1, s_a0)\n",
    "    RI2 = resonance_integral(energies, flux_NR2, s_a0)\n",
    "    \n",
    "    rr_abso = (beta*RI1 + (1-beta)*RI2)*N0*1e-24 # 1/cm3/s\n",
    "    \n",
    "    group_xs_a = (beta*RI1 + (1-beta)*RI2)/(beta*FI1 + (1-beta)*FI2)\n",
    "    \n",
    "    if verbose:\n",
    "        print(\"The absorption group cross section for the nuclide X is: {:.1f}b\".format(group_xs_a))\n",
    "    \n",
    "    # Compute XS converting back to cm^2\n",
    "    XS_tf = N0*group_xs_t*1e-24\n",
    "    XS_tm = N1*s_p1*1e-24 \n",
    "\n",
    "    P_fm = beta*alpha_1/(XS_tf*l + alpha_1) +(1-beta)*alpha_2/(XS_tf*l + alpha_2)\n",
    "    P_ff = 1-P_fm\n",
    "\n",
    "    if verbose:\n",
    "        print(\"The fuel-to-mod probability is: {:.3f}\".format(P_fm))\n",
    "        print(\"The fuel-to-fuel probability is: {:.3f}\".format(P_ff))\n",
    "    \n",
    "    return rr_abso"
   ]
  },
  {
   "cell_type": "code",
   "execution_count": 45,
   "id": "661f4e3d",
   "metadata": {},
   "outputs": [],
   "source": [
    "NNCC = np.linspace(0, 7e23, 100)\n",
    "\n",
    "rr_abso = []\n",
    "\n",
    "for NC in NNCC:\n",
    "    rr_abso.append(absorption_XC(NC, verbose=False)*np.pi*.25**2)\n",
    "    \n",
    "target = reaction_rate_densities_fuel(2e22, C=.2)[1]*np.pi*.25**2"
   ]
  },
  {
   "cell_type": "code",
   "execution_count": 48,
   "id": "5200559b",
   "metadata": {},
   "outputs": [
    {
     "data": {
      "text/plain": [
       "<matplotlib.legend.Legend at 0x7fb19a2d7e80>"
      ]
     },
     "execution_count": 48,
     "metadata": {},
     "output_type": "execute_result"
    },
    {
     "data": {
      "image/png": "[encoded data removed]",
      "text/plain": [
       "<Figure size 640x480 with 1 Axes>"
      ]
     },
     "metadata": {},
     "output_type": "display_data"
    }
   ],
   "source": [
    "plt.plot(NNCC, rr_abso, color='k')\n",
    "\n",
    "plt.hlines([target], 0, 3.7e23, color='r', linestyle='--', linewidth=1, label='Target')\n",
    "plt.vlines([3.7e23], min(rr_abso), ref_abso, color='r', linestyle='--', linewidth=1)\n",
    "\n",
    "plt.xlim(0,max(NNCC))\n",
    "plt.ylim(min(rr_abso), max(rr_abso))\n",
    "\n",
    "plt.ylabel(\"Absorption RR (1/cm/s)\")\n",
    "plt.xlabel(\"C Atomic Density (1/cm3)\")\n",
    "\n",
    "plt.legend()"
   ]
  },
  {
   "cell_type": "markdown",
   "id": "117d84ee",
   "metadata": {},
   "source": [
    "The desired absorption reaction rate can be obtained with a carbon atomic density of $3.7\\cdot 10^{23}$ $at/cm^{3}$."
   ]
  },
  {
   "cell_type": "markdown",
   "id": "5cbda874",
   "metadata": {},
   "source": [
    "."
   ]
  },
  {
   "cell_type": "markdown",
   "id": "1e9a5b48",
   "metadata": {},
   "source": [
    "."
   ]
  }
 ],
 "metadata": {
  "kernelspec": {
   "display_name": "Python 3 (ipykernel)",
   "language": "python",
   "name": "python3"
  },
  "language_info": {
   "codemirror_mode": {
    "name": "ipython",
    "version": 3
   },
   "file_extension": ".py",
   "mimetype": "text/x-python",
   "name": "python",
   "nbconvert_exporter": "python",
   "pygments_lexer": "ipython3",
   "version": "3.9.10"
  }
 },
 "nbformat": 4,
 "nbformat_minor": 5
}
