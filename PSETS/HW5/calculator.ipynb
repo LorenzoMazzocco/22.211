{
 "cells": [
  {
   "cell_type": "code",
   "execution_count": 2,
   "id": "f3ca9317",
   "metadata": {},
   "outputs": [],
   "source": [
    "import numpy as np"
   ]
  },
  {
   "cell_type": "markdown",
   "id": "31f65492",
   "metadata": {},
   "source": [
    "## QUESTION 2"
   ]
  },
  {
   "cell_type": "code",
   "execution_count": 3,
   "id": "10702128",
   "metadata": {},
   "outputs": [],
   "source": [
    "nuSf1 = 0.04\n",
    "nuSf2 = 0.4\n",
    "\n",
    "Sa1 = 0.03\n",
    "Sa2 = 0.3\n",
    "\n",
    "Ss12 = 0.02 \n",
    "\n",
    "D1 = 1.5\n",
    "D2 = 1.2\n",
    "\n",
    "Sr1 = Sa1 + Ss12"
   ]
  },
  {
   "cell_type": "code",
   "execution_count": 4,
   "id": "b73870fb",
   "metadata": {},
   "outputs": [
    {
     "name": "stdout",
     "output_type": "stream",
     "text": [
      "-0.2670676918110451\n",
      "0.010401025144378392\n",
      "30.80433229166546\n"
     ]
    }
   ],
   "source": [
    "a = D1*D2\n",
    "b = D1*Sa2 + Sr1*D2 -nuSf1*D2\n",
    "c = Sr1*Sa2 - nuSf1*Sa2 - Ss12*nuSf2 \n",
    "\n",
    "x1 = (-b-np.sqrt((b**2)-4*a*c))/(2*a)\n",
    "x2 = (-b+np.sqrt((b**2)-4*a*c))/(2*a)\n",
    "\n",
    "print(x1)\n",
    "print(x2)\n",
    "\n",
    "R = np.pi/np.sqrt(x2)\n",
    "print(R)"
   ]
  },
  {
   "cell_type": "code",
   "execution_count": 5,
   "id": "af420183",
   "metadata": {},
   "outputs": [
    {
     "name": "stdout",
     "output_type": "stream",
     "text": [
      "0.5591431914827767\n"
     ]
    }
   ],
   "source": [
    "Bg = 0.204**2\n",
    "k = (nuSf1*D2*Bg + nuSf1*Sa2 + Ss12*nuSf2)/(D1*D2*(Bg**2) + D1*Bg*Sa2 + D2*Bg*Sr1 + Sa2*Sr1)\n",
    "print(k)"
   ]
  },
  {
   "cell_type": "code",
   "execution_count": null,
   "id": "331683f3",
   "metadata": {},
   "outputs": [],
   "source": []
  },
  {
   "cell_type": "markdown",
   "id": "94017e40",
   "metadata": {},
   "source": [
    "## QUESTION 3"
   ]
  },
  {
   "cell_type": "code",
   "execution_count": 6,
   "id": "4e9150ac",
   "metadata": {},
   "outputs": [
    {
     "name": "stdout",
     "output_type": "stream",
     "text": [
      "Enrichment: 25.891%\n"
     ]
    }
   ],
   "source": [
    "from sympy import symbols, solve\n",
    "\n",
    "D1 = 1.3\n",
    "D2 = 0.4\n",
    "\n",
    "Sa1 = 0.006\n",
    "#Sa2 = \n",
    "\n",
    "Sf1 = 0.004\n",
    "#Sf2 = \n",
    "\n",
    "Ss12 = 0.02\n",
    "Ss21 = 0.002\n",
    "\n",
    "nu = 2.5\n",
    "Bg = 8.2505e-4\n",
    "\n",
    "\n",
    "e = symbols('e')\n",
    "expr = (D1*Bg + Sa1 + Ss12 - nu*Sf1)*(D2*Bg + 0.01+0.02*e + Ss21) - Ss12*(Ss21 + nu*0.02*e)\n",
    "\n",
    "sol = solve(expr)\n",
    "\n",
    "print(\"Enrichment: {:.3f}%\".format(sol[0]*100))"
   ]
  },
  {
   "cell_type": "code",
   "execution_count": 8,
   "id": "71f56c68",
   "metadata": {},
   "outputs": [
    {
     "name": "stdout",
     "output_type": "stream",
     "text": [
      "0.014400000000000001\n",
      "-0.014384248356360735\n",
      "-0.018000000000000002\n",
      "0.016553699342544297\n"
     ]
    }
   ],
   "source": [
    "r = 0.9\n",
    "e = 0.319649963474683\n",
    "\n",
    "a = r*(Sa1 + Ss12 - nu*Sf1)\n",
    "b = -nu*r*0.02*e\n",
    "c = -r*Ss12\n",
    "d = r*(0.01+0.02*e + Ss21)\n",
    "print(a)\n",
    "print(b)\n",
    "print(c)\n",
    "print(d)"
   ]
  },
  {
   "cell_type": "code",
   "execution_count": null,
   "id": "cdbf0316",
   "metadata": {},
   "outputs": [],
   "source": []
  },
  {
   "cell_type": "code",
   "execution_count": null,
   "id": "fbe3dc12",
   "metadata": {},
   "outputs": [],
   "source": []
  },
  {
   "cell_type": "code",
   "execution_count": 16,
   "id": "71797127",
   "metadata": {},
   "outputs": [
    {
     "name": "stdout",
     "output_type": "stream",
     "text": [
      "[-0.0454233701377988, 0.000668284368567996]\n"
     ]
    }
   ],
   "source": [
    "e = .25891\n",
    "\n",
    "D1 = 1.3/0.9\n",
    "D2 = 0.4/0.9\n",
    "\n",
    "Sa1 = 0.006*0.9\n",
    "Sa2 = (0.01+0.02*e)*0.9\n",
    "\n",
    "Sf1 = 0.004*0.9\n",
    "Sf2 = 0.9*0.02*e\n",
    "\n",
    "Ss12 = 0.02*0.9\n",
    "Ss21 = 0.002*0.9\n",
    "\n",
    "nu = 2.5\n",
    "Bg = (2.4048**2 + (np.pi/2.22)**2)*1e-4\n",
    "\n",
    "Sr1 = Sa1 + Ss12\n",
    "Sr2 = Sa2 + Ss21\n",
    "\n",
    "Bg = symbols('Bg')\n",
    "expr = (D1*Bg + Sa1 + Ss12 - nu*Sf1)*(D2*Bg + Sa2 + Ss21) - Ss12*(Ss21 + nu*Sf2)\n",
    "\n",
    "sol = solve(expr)\n",
    "print(sol)"
   ]
  },
  {
   "cell_type": "code",
   "execution_count": 11,
   "id": "515f782c",
   "metadata": {},
   "outputs": [
    {
     "name": "stdout",
     "output_type": "stream",
     "text": [
      "0.00416455095295988\n",
      "0.009797862465164125\n",
      "0.9120400677494103\n"
     ]
    }
   ],
   "source": [
    "xi = Ss12/(D2*sol[1] + Sa2 + Ss21)\n",
    "\n",
    "Sf = (Sf1 + Sf2*xi)/(1+xi)\n",
    "Sa = (Sa1 + Sa2*xi)/(1+xi)\n",
    "D = (D1 + D2*xi)/(1+xi)\n",
    "\n",
    "print(Sf)\n",
    "print(Sa)\n",
    "print(D)"
   ]
  },
  {
   "cell_type": "code",
   "execution_count": 15,
   "id": "af9b90e6",
   "metadata": {},
   "outputs": [
    {
     "name": "stdout",
     "output_type": "stream",
     "text": [
      "0.9908099477148388\n",
      "927.5292710127392\n",
      "18.550585420254784\n"
     ]
    }
   ],
   "source": [
    "k_new = nu*Sf/(D*Bg + Sa)\n",
    "print(k_new)\n",
    "print((1/k_new - 1)*1e5)\n",
    "print((1/k_new - 1)*1e5/50)"
   ]
  },
  {
   "cell_type": "code",
   "execution_count": null,
   "id": "d1cf3ed5",
   "metadata": {},
   "outputs": [],
   "source": []
  }
 ],
 "metadata": {
  "kernelspec": {
   "display_name": "Python 3 (ipykernel)",
   "language": "python",
   "name": "python3"
  },
  "language_info": {
   "codemirror_mode": {
    "name": "ipython",
    "version": 3
   },
   "file_extension": ".py",
   "mimetype": "text/x-python",
   "name": "python",
   "nbconvert_exporter": "python",
   "pygments_lexer": "ipython3",
   "version": "3.9.10"
  }
 },
 "nbformat": 4,
 "nbformat_minor": 5
}
