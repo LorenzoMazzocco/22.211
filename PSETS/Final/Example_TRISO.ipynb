{
 "cells": [
  {
   "cell_type": "markdown",
   "id": "3da0a3db",
   "metadata": {},
   "source": [
    "# Example File for Final Project"
   ]
  },
  {
   "cell_type": "markdown",
   "id": "70152640",
   "metadata": {},
   "source": [
    "This notebook provides an example to generate a TRISO cylindrical compact placed in an hexagonal graphite matrix.  The data provided does not match the geometry of the project so this should be used as a guide only."
   ]
  },
  {
   "cell_type": "code",
   "execution_count": null,
   "id": "025d0246",
   "metadata": {
    "tags": []
   },
   "outputs": [],
   "source": [
    "%matplotlib inline\n",
    "import openmc\n",
    "import openmc.deplete"
   ]
  },
  {
   "cell_type": "code",
   "execution_count": null,
   "id": "01ef6042",
   "metadata": {
    "tags": []
   },
   "outputs": [],
   "source": [
    "fuel = openmc.Material(name='fuel')\n",
    "fuel.add_nuclide('U238', 0.75, 'wo')\n",
    "fuel.add_nuclide('U235', 0.14, 'wo')\n",
    "fuel.add_nuclide('O16', 0.09, 'wo')\n",
    "fuel.add_nuclide('C0', 0.02, 'wo')\n",
    "fuel.set_density('g/cc', 10.5)\n",
    "\n",
    "buff = openmc.Material(name='Buffer')\n",
    "buff.set_density('g/cm3', 1.0)\n",
    "buff.add_nuclide('C0', 1.0)\n",
    "\n",
    "PyC1 = openmc.Material(name='PyC1')\n",
    "PyC1.set_density('g/cm3', 1.0)\n",
    "PyC1.add_nuclide('C0', 1.0)\n",
    "\n",
    "PyC2 = openmc.Material(name='PyC2')\n",
    "PyC2.set_density('g/cm3', 1.0)\n",
    "PyC2.add_nuclide('C0', 1.0)\n",
    "\n",
    "SiC = openmc.Material(name='SiC')\n",
    "SiC.set_density('g/cm3', 3.0)\n",
    "SiC.add_nuclide('C0', 0.5)\n",
    "SiC.add_element('Si', 0.5)"
   ]
  },
  {
   "cell_type": "code",
   "execution_count": null,
   "id": "ecb48fe8",
   "metadata": {
    "tags": []
   },
   "outputs": [],
   "source": [
    "graphite = openmc.Material(name='moderator')\n",
    "graphite.add_nuclide('C0',  1.0, 'wo')\n",
    "graphite.set_density('g/cc', 1.65)"
   ]
  },
  {
   "cell_type": "code",
   "execution_count": null,
   "id": "6d3abb9d",
   "metadata": {
    "tags": []
   },
   "outputs": [],
   "source": [
    "materials_file = openmc.Materials([fuel, graphite, buff, PyC1, PyC2, SiC])\n",
    "materials_file.cross_sections = '/home/shared/endfb71_hdf5/cross_sections.xml'\n",
    "materials_file.export_to_xml()"
   ]
  },
  {
   "cell_type": "markdown",
   "id": "0e6c582e",
   "metadata": {},
   "source": [
    "This block defines a fuel radius and a slightly smaller compact radius to avoid situations where TRISOs would be cut by the boundary."
   ]
  },
  {
   "cell_type": "code",
   "execution_count": null,
   "id": "07eff8f2",
   "metadata": {
    "tags": []
   },
   "outputs": [],
   "source": [
    "top = openmc.ZPlane(surface_id=4, z0=+1, boundary_type='reflective')\n",
    "bottom = openmc.ZPlane(surface_id=5, z0=-1, boundary_type='reflective') \n",
    "\n",
    "# Geometry definitions\n",
    "fuel_radius = openmc.ZCylinder(surface_id=1, r=0.635) \n",
    "coolant_radius = openmc.ZCylinder(surface_id=2, r=0.35) \n",
    "\n",
    "compact_radius = openmc.ZCylinder(surface_id=6, r=0.63) \n",
    "\n",
    "top_compact = openmc.ZPlane(surface_id=7, z0=+0.999)\n",
    "bottom_compact = openmc.ZPlane(surface_id=8, z0=-0.999) \n",
    "\n",
    "region = -compact_radius & -top_compact & +bottom_compact\n",
    "\n",
    "fuel_region = -fuel_radius\n",
    "moder_fuel = +fuel_radius\n",
    "coolant_region = -coolant_radius \n",
    "moder_coolant = +coolant_radius \n",
    " \n",
    "fuel_cell = openmc.Cell(cell_id=1, fill=fuel, region=fuel_region)\n",
    "moder_fuel_cell = openmc.Cell(cell_id=2, fill=graphite, region=moder_fuel)\n",
    "graphite_cell = openmc.Cell(cell_id=3, fill=graphite)"
   ]
  },
  {
   "cell_type": "markdown",
   "id": "38a29db9",
   "metadata": {},
   "source": [
    "This block creates a TRISO universe."
   ]
  },
  {
   "cell_type": "code",
   "execution_count": null,
   "id": "0ecad0b3",
   "metadata": {
    "tags": []
   },
   "outputs": [],
   "source": [
    "# Create TRISO universe\n",
    "spheres = [openmc.Sphere(r=1e-4*r)\n",
    "           for r in [212.5, 312.5, 347.5, 382.5]]\n",
    "cells = [openmc.Cell(fill=fuel, region=-spheres[0]),\n",
    "         openmc.Cell(fill=buff, region=+spheres[0] & -spheres[1]),\n",
    "         openmc.Cell(fill=PyC1, region=+spheres[1] & -spheres[2]),\n",
    "         openmc.Cell(fill=SiC, region=+spheres[2] & -spheres[3]),\n",
    "         openmc.Cell(fill=PyC2, region=+spheres[3])]\n",
    "triso_univ = openmc.Universe(cells=cells)"
   ]
  },
  {
   "cell_type": "markdown",
   "id": "749a315b",
   "metadata": {},
   "source": [
    "This block places spheres of a given size in a region with a user defined packing fraction.  As the packing fraction gets larger, the run time increases substantially."
   ]
  },
  {
   "cell_type": "code",
   "execution_count": null,
   "id": "d1a5e594",
   "metadata": {
    "tags": []
   },
   "outputs": [],
   "source": [
    "outer_radius = 422.5*1e-4\n",
    "centers = openmc.model.pack_spheres(radius=outer_radius, region=region, pf=0.15)"
   ]
  },
  {
   "cell_type": "markdown",
   "id": "a0f64a06",
   "metadata": {},
   "source": [
    "This block assigns a triso universe to each sphere."
   ]
  },
  {
   "cell_type": "code",
   "execution_count": null,
   "id": "0ace4251",
   "metadata": {
    "tags": []
   },
   "outputs": [],
   "source": [
    "trisos = [openmc.model.TRISO(outer_radius, triso_univ, center) for center in centers]"
   ]
  },
  {
   "cell_type": "markdown",
   "id": "b5baad03",
   "metadata": {},
   "source": [
    "This block creates a lattice over the TRISO region for acceleration purposes.  A virtual mesh is added and a list of TRISOs in each mesh cell is calculated.  Thus, when in a given cell, the nearest neighbor search is limited to surfaces in the mesh."
   ]
  },
  {
   "cell_type": "code",
   "execution_count": null,
   "id": "291cf617",
   "metadata": {
    "tags": []
   },
   "outputs": [],
   "source": [
    "lower_left, upper_right = fuel_cell.region.bounding_box\n",
    "lower_left[2] = -1.0\n",
    "upper_right[2] = 1.0\n",
    "shape = (3, 3, 3)\n",
    "pitch = (upper_right - lower_left)/shape\n",
    "lattice = openmc.model.create_triso_lattice(\n",
    "    trisos, lower_left, pitch, shape, graphite)\n",
    "\n",
    "fuel_cell.fill = lattice"
   ]
  },
  {
   "cell_type": "code",
   "execution_count": null,
   "id": "1ff4f278",
   "metadata": {
    "tags": []
   },
   "outputs": [],
   "source": [
    "fuel_u = openmc.Universe(universe_id=1001, cells=(fuel_cell,moder_fuel_cell))\n",
    "graphite_u = openmc.Universe(universe_id=1002, cells=[graphite_cell])"
   ]
  },
  {
   "cell_type": "code",
   "execution_count": null,
   "id": "8fa21dc0",
   "metadata": {
    "tags": []
   },
   "outputs": [],
   "source": [
    "inner = [fuel_u]\n",
    "outer = [fuel_u,fuel_u,fuel_u,fuel_u,fuel_u,fuel_u]"
   ]
  },
  {
   "cell_type": "markdown",
   "id": "f2fb2fd4",
   "metadata": {},
   "source": [
    "An hexagonal lattice is defined with a fuel universe surrounded by a graphite universe."
   ]
  },
  {
   "cell_type": "code",
   "execution_count": null,
   "id": "afe8d0b9",
   "metadata": {
    "tags": []
   },
   "outputs": [],
   "source": [
    "hex_lat = openmc.HexLattice(lattice_id=1003, name='assembly')\n",
    "hex_lat.center = (0., 0.)\n",
    "hex_lat.pitch = (2.0,)\n",
    "hex_lat.orientation = 'x'\n",
    "hex_lat.outer = graphite_u\n",
    "hex_lat.universes = [outer, inner]"
   ]
  },
  {
   "cell_type": "markdown",
   "id": "4cc2c580",
   "metadata": {},
   "source": [
    "An hexagonal bounding box is defined around the lattice."
   ]
  },
  {
   "cell_type": "code",
   "execution_count": null,
   "id": "900d9083",
   "metadata": {
    "tags": []
   },
   "outputs": [],
   "source": [
    "# Create the prism that will contain the lattice\n",
    "outer_surface = openmc.model.hexagonal_prism(edge_length=3.5, orientation='x', boundary_type='reflective')"
   ]
  },
  {
   "cell_type": "code",
   "execution_count": null,
   "id": "511ccfbd",
   "metadata": {
    "tags": []
   },
   "outputs": [],
   "source": [
    "# Fill a cell with the lattice. This cell is filled with the lattice and contained within the prism.\n",
    "main_assembly = openmc.Cell(cell_id=7000, fill=hex_lat, region=outer_surface & -top & +bottom)\n",
    "\n",
    "# Create a universe that contains both \n",
    "root = openmc.Universe(cells=[main_assembly])"
   ]
  },
  {
   "cell_type": "code",
   "execution_count": null,
   "id": "44023adb",
   "metadata": {
    "tags": []
   },
   "outputs": [],
   "source": [
    "root.plot(origin = (0,0,0), pixels=(100, 100), width = (6.,6.), color_by = 'material')"
   ]
  },
  {
   "cell_type": "code",
   "execution_count": null,
   "id": "95ecfcfc",
   "metadata": {
    "tags": []
   },
   "outputs": [],
   "source": [
    "geom = openmc.Geometry(root)\n",
    "geom.export_to_xml()"
   ]
  },
  {
   "cell_type": "code",
   "execution_count": null,
   "id": "84a39b20",
   "metadata": {
    "tags": []
   },
   "outputs": [],
   "source": [
    "# OpenMC simulation parameters\n",
    "\n",
    "lower_left = [-3, -3, -1]\n",
    "upper_right = [3, 3, 1]\n",
    "uniform_dist = openmc.stats.Box(lower_left, upper_right, only_fissionable=True)\n",
    "src = openmc.Source(space=uniform_dist)\n",
    "\n",
    "settings = openmc.Settings()\n",
    "settings.source = src\n",
    "settings.batches = 100\n",
    "settings.inactive = 25\n",
    "settings.particles = 5000\n",
    "settings.temperature = {'method': 'interpolation','range':(293.15,1923.15)}\n",
    "\n",
    "settings.export_to_xml()"
   ]
  },
  {
   "cell_type": "code",
   "execution_count": null,
   "id": "7284f63b",
   "metadata": {
    "tags": []
   },
   "outputs": [],
   "source": [
    "openmc.run()"
   ]
  },
  {
   "cell_type": "code",
   "execution_count": null,
   "id": "bd004bff",
   "metadata": {
    "tags": []
   },
   "outputs": [],
   "source": [
    "fuel.volume = len(trisos)*4/3*3.1416*(212.5*1e-4)**3"
   ]
  },
  {
   "cell_type": "code",
   "execution_count": null,
   "id": "6c7096a5",
   "metadata": {
    "tags": []
   },
   "outputs": [],
   "source": [
    "# Create depletion \"operator\"\n",
    "#chain_file = 'chain_casl_pwr.xml'\n",
    "#op = openmc.deplete.Operator(geometry=geom, settings=settings, chain_file=chain_file)\n",
    "\n",
    "model = openmc.Model(geometry=geom, materials=materials_file, settings=settings)\n",
    "#op = openmc.deplete.Operator(model, \"/home/shared/endfb71_hdf5/chain_casl_pwr.xml\")\n",
    "op = openmc.deplete.Operator(model, \"chain_casl_pwr.xml\")\n",
    "\n",
    "# Perform simulation using the predictor algorithm\n",
    "time_steps = [1.0, 2.0, 10.0, 20.0, 30.0]  # days\n",
    "power = 1000  \n",
    "integrator = openmc.deplete.PredictorIntegrator(op, time_steps, power, timestep_units='d')\n",
    "integrator.integrate()"
   ]
  },
  {
   "cell_type": "code",
   "execution_count": null,
   "id": "362e5580",
   "metadata": {},
   "outputs": [],
   "source": [
    "import matplotlib.pyplot as plt"
   ]
  },
  {
   "cell_type": "code",
   "execution_count": null,
   "id": "3a6fdfcd",
   "metadata": {},
   "outputs": [],
   "source": [
    "# Open results file\n",
    "results = openmc.deplete.ResultsList.from_hdf5(\"depletion_results.h5\")\n",
    "\n",
    "# Obtain K_eff as a function of time\n",
    "time, keff = results.get_eigenvalue()\n",
    "\n",
    "# Obtain U235 concentration as a function of time\n",
    "time, n_U235 = results.get_atoms('1', 'U235')\n",
    "\n",
    "###############################################################################\n",
    "#                            Generate plots\n",
    "###############################################################################\n",
    "\n",
    "days = 24*60*60\n",
    "plt.figure()\n",
    "plt.plot(time/days, keff[:,0], label=\"K-effective\")\n",
    "plt.xlabel(\"Time (days)\")\n",
    "plt.ylabel(\"Keff\")\n",
    "plt.show()\n",
    "\n",
    "plt.figure()\n",
    "plt.plot(time/days, n_U235, label=\"U235\")\n",
    "plt.xlabel(\"Time (days)\")\n",
    "plt.ylabel(\"n U5 (-)\")\n",
    "plt.show()\n"
   ]
  }
 ],
 "metadata": {
  "kernelspec": {
   "display_name": "Python 3 (ipykernel)",
   "language": "python",
   "name": "python3"
  },
  "language_info": {
   "codemirror_mode": {
    "name": "ipython",
    "version": 3
   },
   "file_extension": ".py",
   "mimetype": "text/x-python",
   "name": "python",
   "nbconvert_exporter": "python",
   "pygments_lexer": "ipython3",
   "version": "3.8.10"
  }
 },
 "nbformat": 4,
 "nbformat_minor": 5
}
