{
 "cells": [
  {
   "cell_type": "markdown",
   "metadata": {},
   "source": [
    "# Finite Difference"
   ]
  },
  {
   "cell_type": "markdown",
   "metadata": {},
   "source": [
    "This notebook provides an example of a finite difference solver for the 1 group diffusion equation on a 1D slab.  This particular has vacuum boundary conditions on both side and an homogeneous medium. "
   ]
  },
  {
   "cell_type": "code",
   "execution_count": 1,
   "metadata": {},
   "outputs": [],
   "source": [
    "import numpy as np\n",
    "import math\n",
    "import matplotlib.pyplot as plt"
   ]
  },
  {
   "cell_type": "markdown",
   "metadata": {},
   "source": [
    "The material properties are defined such that k-inf is 1.2 and you should approach that value has you make the slab wider."
   ]
  },
  {
   "cell_type": "code",
   "execution_count": 2,
   "metadata": {},
   "outputs": [],
   "source": [
    "sig_t = 1.0\n",
    "sig_a = 0.5\n",
    "sig_s = sig_t - sig_a\n",
    "nu_sigf = 0.6\n",
    "\n",
    "width = 100.0"
   ]
  },
  {
   "cell_type": "markdown",
   "metadata": {},
   "source": [
    "This function build the finite difference matrices.  Matrix M contains the streaming term and the absorption term, while matrix F contains the fission term.  For this simple case, the diffusion coefficient is defined as 1/3$\\Sigma_t$ and the effective diffusion coefficient, D-tilde, takes a very simple form due to the constant mesh spacing and homogeneous medium.\n",
    "\n",
    "When moving to 2 groups and an heterogeneous problem, care must be taken to properly define the D-tilde terms at the material interfaces and add the second group elements in the proper location, as well as the group to group scattering terms."
   ]
  },
  {
   "cell_type": "code",
   "execution_count": 3,
   "metadata": {},
   "outputs": [],
   "source": [
    "def build_cmfd(n_mesh, spacing):\n",
    "    D = 1/sig_t/3.\n",
    "    Dtilde = D/spacing\n",
    "    M = np.zeros([n_mesh,n_mesh])\n",
    "    for i in range(1,n_mesh-1):\n",
    "        M[i,i] = sig_a*spacing+2*Dtilde\n",
    "        M[i,i-1] = -Dtilde\n",
    "        M[i,i+1] = -Dtilde\n",
    "    M[0,0] = sig_a*spacing+Dtilde+2*D/spacing*(1/(1+4*D/spacing))\n",
    "    M[0,1] = -Dtilde\n",
    "    M[n_mesh-1,n_mesh-1] = sig_a*spacing+Dtilde+2*D/spacing*(1/(1+4*D/spacing))\n",
    "    M[n_mesh-1,n_mesh-2] = -Dtilde\n",
    "    F = np.zeros(n_mesh)\n",
    "    for i in range(n_mesh):\n",
    "        F[i] = nu_sigf*spacing    \n",
    "    return M, F"
   ]
  },
  {
   "cell_type": "markdown",
   "metadata": {},
   "source": [
    "This function contains the solver.  It first computes the right hand side (r) using the initial flux and k guess.  It then solves for the new flux, updates k and iterates.  This solver does not include a convergence criteria and instead caps the number of iterations.  Notice the location of the normalization in the loop, it occurs after computing the updated k.  k measures the growth between successive generation (or applications of the diffusion operator).\n",
    "\n",
    "Your code will need to include a convergence criteria on k and also on a variable related to the eigenvector (flux, fission rate, ...)."
   ]
  },
  {
   "cell_type": "code",
   "execution_count": 1,
   "metadata": {},
   "outputs": [],
   "source": [
    "def solve_cmfd(n_mesh,flux1,k_new):\n",
    "    r = np.zeros(n_mesh)\n",
    "    r2 = np.zeros(n_mesh)\n",
    "    norm1 = sum(flux1)\n",
    "    for j in range(1000):\n",
    "        for i in range(n_mesh):\n",
    "            r[i] = F[i]*flux1[i]/k_new\n",
    "        flux2 = np.linalg.solve(M,r)\n",
    "        for i in range(n_mesh):\n",
    "            r2[i] = F[i]*flux2[i]/k_new\n",
    "        k_cmfd = sum(r2)/sum(r)*k_new\n",
    "        flux2 = flux2/sum(flux2)*norm1\n",
    "        flux1 = flux2\n",
    "        k_new = k_cmfd\n",
    "    return k_cmfd, flux2"
   ]
  },
  {
   "cell_type": "markdown",
   "metadata": {},
   "source": [
    "This block drives the solver by providing an initial guess for flux and k, calling the function to populate the matrices, and then calling the solver."
   ]
  },
  {
   "cell_type": "code",
   "execution_count": 10,
   "metadata": {},
   "outputs": [
    {
     "data": {
      "text/plain": [
       "[<matplotlib.lines.Line2D at 0x7f4f0c4484e0>]"
      ]
     },
     "execution_count": 10,
     "metadata": {},
     "output_type": "execute_result"
    },
    {
     "data": {
      "image/png": "[encoded data removed]",
      "text/plain": [
       "<Figure size 432x288 with 1 Axes>"
      ]
     },
     "metadata": {
      "needs_background": "light"
     },
     "output_type": "display_data"
    }
   ],
   "source": [
    "n_mesh = 100\n",
    "k_new = 1.0\n",
    "spacing = width/n_mesh\n",
    "flux = np.ones(n_mesh)\n",
    "norm = sum(flux)\n",
    "flux = flux/norm\n",
    "M,F = build_cmfd(n_mesh,spacing)\n",
    "k_new, flux = solve_cmfd(n_mesh,flux,k_new)\n",
    "plt.plot(flux)"
   ]
  },
  {
   "cell_type": "code",
   "execution_count": 11,
   "metadata": {},
   "outputs": [
    {
     "data": {
      "text/plain": [
       "array([[ 1.11904762, -0.33333333,  0.        , ...,  0.        ,\n",
       "         0.        ,  0.        ],\n",
       "       [-0.33333333,  1.16666667, -0.33333333, ...,  0.        ,\n",
       "         0.        ,  0.        ],\n",
       "       [ 0.        , -0.33333333,  1.16666667, ...,  0.        ,\n",
       "         0.        ,  0.        ],\n",
       "       ...,\n",
       "       [ 0.        ,  0.        ,  0.        , ...,  1.16666667,\n",
       "        -0.33333333,  0.        ],\n",
       "       [ 0.        ,  0.        ,  0.        , ..., -0.33333333,\n",
       "         1.16666667, -0.33333333],\n",
       "       [ 0.        ,  0.        ,  0.        , ...,  0.        ,\n",
       "        -0.33333333,  1.11904762]])"
      ]
     },
     "execution_count": 11,
     "metadata": {},
     "output_type": "execute_result"
    }
   ],
   "source": [
    "M"
   ]
  },
  {
   "cell_type": "code",
   "execution_count": 12,
   "metadata": {},
   "outputs": [
    {
     "data": {
      "text/plain": [
       "1.1992275054071648"
      ]
     },
     "execution_count": 12,
     "metadata": {},
     "output_type": "execute_result"
    }
   ],
   "source": [
    "k_new"
   ]
  },
  {
   "cell_type": "code",
   "execution_count": null,
   "metadata": {},
   "outputs": [],
   "source": []
  }
 ],
 "metadata": {
  "kernelspec": {
   "display_name": "Python 3 (ipykernel)",
   "language": "python",
   "name": "python3"
  },
  "language_info": {
   "codemirror_mode": {
    "name": "ipython",
    "version": 3
   },
   "file_extension": ".py",
   "mimetype": "text/x-python",
   "name": "python",
   "nbconvert_exporter": "python",
   "pygments_lexer": "ipython3",
   "version": "3.9.10"
  }
 },
 "nbformat": 4,
 "nbformat_minor": 2
}
