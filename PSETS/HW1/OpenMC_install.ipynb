{
 "cells": [
  {
   "cell_type": "markdown",
   "metadata": {
    "id": "hyjn6y3Rgh_r"
   },
   "source": [
    "This notebook will install OpenMC in colab and link to a shared nuclide library.  If you have not done so yet, please email me which account you would like the data to be shared with."
   ]
  },
  {
   "cell_type": "code",
   "execution_count": 2,
   "metadata": {
    "colab": {
     "base_uri": "https://localhost:8080/"
    },
    "id": "q9Vo6HOQUQbS",
    "outputId": "a6a2ce7b-cec6-4920-d29e-f8f1ad6ca626"
   },
   "outputs": [
    {
     "ename": "ModuleNotFoundError",
     "evalue": "No module named 'google.colab'",
     "output_type": "error",
     "traceback": [
      "\u001b[0;31m---------------------------------------------------------------------------\u001b[0m",
      "\u001b[0;31mModuleNotFoundError\u001b[0m                       Traceback (most recent call last)",
      "Input \u001b[0;32mIn [2]\u001b[0m, in \u001b[0;36m<cell line: 2>\u001b[0;34m()\u001b[0m\n\u001b[1;32m      1\u001b[0m \u001b[38;5;66;03m#Add google drive\u001b[39;00m\n\u001b[0;32m----> 2\u001b[0m \u001b[38;5;28;01mfrom\u001b[39;00m \u001b[38;5;21;01mgoogle\u001b[39;00m\u001b[38;5;21;01m.\u001b[39;00m\u001b[38;5;21;01mcolab\u001b[39;00m \u001b[38;5;28;01mimport\u001b[39;00m drive\n\u001b[1;32m      3\u001b[0m drive\u001b[38;5;241m.\u001b[39mmount(\u001b[38;5;124m'\u001b[39m\u001b[38;5;124m/gdrive\u001b[39m\u001b[38;5;124m'\u001b[39m, force_remount\u001b[38;5;241m=\u001b[39m\u001b[38;5;28;01mTrue\u001b[39;00m)\n",
      "\u001b[0;31mModuleNotFoundError\u001b[0m: No module named 'google.colab'"
     ]
    }
   ],
   "source": [
    "#Add google drive\n",
    "from google.colab import drive\n",
    "drive.mount('/gdrive', force_remount=True)"
   ]
  },
  {
   "cell_type": "markdown",
   "metadata": {
    "id": "bRNomyTXgwh_"
   },
   "source": [
    "Once you have mounted your drive folder to colab, we will now create an environment variable that OpenMC looks for."
   ]
  },
  {
   "cell_type": "code",
   "execution_count": 3,
   "metadata": {
    "colab": {
     "base_uri": "https://localhost:8080/"
    },
    "id": "Gxe4BVR2U8E8",
    "outputId": "51d3fcc7-60a6-40c1-86e1-3b34eeb3e9fe"
   },
   "outputs": [
    {
     "name": "stdout",
     "output_type": "stream",
     "text": [
      "env: OPENMC_CROSS_SECTIONS=/gdrive/My Drive/endfb71_hdf5/cross_sections.xml\n"
     ]
    }
   ],
   "source": [
    "#Add link to shared cross section library\n",
    "#shared library was added as a shortcut to My Drive from the web interface\n",
    "%env OPENMC_CROSS_SECTIONS = /gdrive/My Drive/endfb71_hdf5/cross_sections.xml"
   ]
  },
  {
   "cell_type": "markdown",
   "metadata": {
    "id": "L9nXFNmag4tI"
   },
   "source": [
    "The easiest way to install OpenMC is through conda, which is not available by default in colab.  So first we install conda."
   ]
  },
  {
   "cell_type": "code",
   "execution_count": 4,
   "metadata": {
    "colab": {
     "base_uri": "https://localhost:8080/"
    },
    "id": "vurNcsJ6VMEb",
    "outputId": "c3ae9e23-a4d8-4ebe-a71c-b8160e0c9c68"
   },
   "outputs": [
    {
     "name": "stdout",
     "output_type": "stream",
     "text": [
      "zsh:1: command not found: wget\n",
      "chmod: Miniconda3-py37_4.8.2-Linux-x86_64.sh: No such file or directory\n",
      "bash: ./Miniconda3-py37_4.8.2-Linux-x86_64.sh: No such file or directory\n"
     ]
    }
   ],
   "source": [
    "#Download miniconda and install\n",
    "! wget https://repo.anaconda.com/miniconda/Miniconda3-py37_4.8.2-Linux-x86_64.sh\n",
    "! chmod +x Miniconda3-py37_4.8.2-Linux-x86_64.sh\n",
    "! bash ./Miniconda3-py37_4.8.2-Linux-x86_64.sh -b -f -p /usr/local\n",
    "import sys\n",
    "sys.path.append('/usr/local/lib/python3.7/site-packages/')"
   ]
  },
  {
   "cell_type": "markdown",
   "metadata": {
    "id": "mO5mv6x7hCGK"
   },
   "source": [
    "Once conda is installed, we can now install OpenMC."
   ]
  },
  {
   "cell_type": "code",
   "execution_count": 4,
   "metadata": {
    "colab": {
     "base_uri": "https://localhost:8080/"
    },
    "id": "0Wbv_s-7VPnw",
    "outputId": "7997b498-ec19-4336-bf5c-f6b8e86f8f58"
   },
   "outputs": [
    {
     "name": "stdout",
     "output_type": "stream",
     "text": [
      "Collecting package metadata (current_repodata.json): - \b\b\\ \b\b| \b\b/ \b\b- \b\b\\ \b\b| \b\b/ \b\b- \b\b\\ \b\b| \b\b/ \b\b- \b\b\\ \b\b| \b\b/ \b\b- \b\b\\ \b\b| \b\b/ \b\b- \b\b\\ \b\b| \b\b/ \b\b- \b\b\\ \b\b| \b\b/ \b\b- \b\b\\ \b\b| \b\b/ \b\b- \b\b\\ \b\b| \b\b/ \b\b- \b\b\\ \b\b| \b\b/ \b\b- \b\b\\ \b\b| \b\b/ \b\b- \b\b\\ \b\b| \b\b/ \b\b- \b\b\\ \b\b| \b\b/ \b\b- \b\b\\ \b\b| \b\b/ \b\b- \b\b\\ \b\b| \b\b/ \b\b- \b\b\\ \b\b| \b\b/ \b\b- \b\b\\ \b\b| \b\b/ \b\b- \b\b\\ \b\b| \b\b/ \b\b- \b\b\\ \b\b| \b\b/ \b\b- \b\b\\ \b\b| \b\b/ \b\b- \b\b\\ \b\b| \b\b/ \b\b- \b\b\\ \b\b| \b\b/ \b\b- \b\b\\ \b\b| \b\b/ \b\b- \b\bdone\n",
      "Solving environment: | \b\b/ \b\b- \b\b\\ \b\b| \b\b/ \b\b- \b\b\\ \b\b| \b\b/ \b\b- \b\b\\ \b\b| \b\b/ \b\b- \b\b\\ \b\b| \b\b/ \b\b- \b\b\\ \b\b| \b\b/ \b\b- \b\b\\ \b\b| \b\b/ \b\b- \b\b\\ \b\b| \b\b/ \b\b- \b\b\\ \b\b| \b\b/ \b\b- \b\b\\ \b\b| \b\b/ \b\b- \b\b\\ \b\b| \b\b/ \b\b- \b\b\\ \b\b| \b\b/ \b\b- \b\b\\ \b\b| \b\b/ \b\b- \b\b\\ \b\b| \b\b/ \b\b- \b\b\\ \b\b| \b\b/ \b\b- \b\b\\ \b\b| \b\b/ \b\b- \b\b\\ \b\b| \b\b/ \b\b- \b\b\\ \b\bdone\n",
      "\n",
      "\n",
      "==> WARNING: A newer version of conda exists. <==\n",
      "  current version: 4.8.2\n",
      "  latest version: 4.9.2\n",
      "\n",
      "Please update conda by running\n",
      "\n",
      "    $ conda update -n base -c defaults conda\n",
      "\n",
      "\n",
      "\n",
      "## Package Plan ##\n",
      "\n",
      "  environment location: /usr/local\n",
      "\n",
      "  added / updated specs:\n",
      "    - openmc\n",
      "\n",
      "\n",
      "The following packages will be downloaded:\n",
      "\n",
      "    package                    |            build\n",
      "    ---------------------------|-----------------\n",
      "    ca-certificates-2020.12.5  |       ha878542_0         137 KB  conda-forge\n",
      "    cached-property-1.5.1      |             py_0          10 KB  conda-forge\n",
      "    certifi-2020.12.5          |   py37h89c1867_1         143 KB  conda-forge\n",
      "    conda-4.9.2                |   py37h89c1867_0         3.0 MB  conda-forge\n",
      "    cycler-0.10.0              |             py_2           9 KB  conda-forge\n",
      "    freetype-2.10.4            |       h7ca028e_0         912 KB  conda-forge\n",
      "    future-0.18.2              |   py37h89c1867_3         714 KB  conda-forge\n",
      "    h5py-3.1.0                 |nompi_py37h1e651dc_100         1.2 MB  conda-forge\n",
      "    hdf5-1.10.6                |nompi_h3c11f04_101         3.0 MB  conda-forge\n",
      "    icu-58.2                   |    hf484d3e_1000        22.6 MB  conda-forge\n",
      "    kiwisolver-1.3.1           |   py37hc928c03_0          86 KB  conda-forge\n",
      "    libblas-3.9.0              |       8_openblas          11 KB  conda-forge\n",
      "    libcblas-3.9.0             |       8_openblas          11 KB  conda-forge\n",
      "    libgfortran-ng-7.5.0       |      h14aa051_18          22 KB  conda-forge\n",
      "    libgfortran4-7.5.0         |      h14aa051_18         1.3 MB  conda-forge\n",
      "    liblapack-3.9.0            |       8_openblas          11 KB  conda-forge\n",
      "    libopenblas-0.3.12         |pthreads_hb3c22a3_1         8.2 MB  conda-forge\n",
      "    libpng-1.6.37              |       h21135ba_2         306 KB  conda-forge\n",
      "    libxml2-2.9.10             |       hb55368b_3         1.2 MB\n",
      "    libxslt-1.1.34             |       hc22bd24_0         432 KB\n",
      "    lxml-4.6.2                 |   py37h9120a33_0         1.2 MB\n",
      "    matplotlib-base-3.1.3      |   py37hef1b27d_0         5.0 MB\n",
      "    numpy-1.18.1               |   py37h8960a57_1         5.2 MB  conda-forge\n",
      "    openmc-0.12.0              |   py37heda8c35_1         4.2 MB  conda-forge\n",
      "    openssl-1.1.1i             |       h27cfd23_0         2.5 MB\n",
      "    pandas-1.1.4               |   py37h10a2094_0        10.5 MB  conda-forge\n",
      "    pyparsing-2.4.7            |     pyh9f0ad1d_0          60 KB  conda-forge\n",
      "    python-dateutil-2.8.1      |             py_0         220 KB  conda-forge\n",
      "    python_abi-3.7             |          1_cp37m           4 KB  conda-forge\n",
      "    pytz-2021.1                |     pyhd8ed1ab_0         239 KB  conda-forge\n",
      "    scipy-1.5.3                |   py37h8911b10_0        18.5 MB  conda-forge\n",
      "    tornado-6.1                |   py37h4abf009_0         645 KB  conda-forge\n",
      "    uncertainties-3.1.5        |     pyhd8ed1ab_0          75 KB  conda-forge\n",
      "    xz-5.2.5                   |       h516909a_1         343 KB  conda-forge\n",
      "    ------------------------------------------------------------\n",
      "                                           Total:        91.9 MB\n",
      "\n",
      "The following NEW packages will be INSTALLED:\n",
      "\n",
      "  cached-property    conda-forge/noarch::cached-property-1.5.1-py_0\n",
      "  cycler             conda-forge/noarch::cycler-0.10.0-py_2\n",
      "  freetype           conda-forge/linux-64::freetype-2.10.4-h7ca028e_0\n",
      "  future             conda-forge/linux-64::future-0.18.2-py37h89c1867_3\n",
      "  h5py               conda-forge/linux-64::h5py-3.1.0-nompi_py37h1e651dc_100\n",
      "  hdf5               conda-forge/linux-64::hdf5-1.10.6-nompi_h3c11f04_101\n",
      "  icu                conda-forge/linux-64::icu-58.2-hf484d3e_1000\n",
      "  kiwisolver         conda-forge/linux-64::kiwisolver-1.3.1-py37hc928c03_0\n",
      "  libblas            conda-forge/linux-64::libblas-3.9.0-8_openblas\n",
      "  libcblas           conda-forge/linux-64::libcblas-3.9.0-8_openblas\n",
      "  libgfortran-ng     conda-forge/linux-64::libgfortran-ng-7.5.0-h14aa051_18\n",
      "  libgfortran4       conda-forge/linux-64::libgfortran4-7.5.0-h14aa051_18\n",
      "  liblapack          conda-forge/linux-64::liblapack-3.9.0-8_openblas\n",
      "  libopenblas        conda-forge/linux-64::libopenblas-0.3.12-pthreads_hb3c22a3_1\n",
      "  libpng             conda-forge/linux-64::libpng-1.6.37-h21135ba_2\n",
      "  libxml2            pkgs/main/linux-64::libxml2-2.9.10-hb55368b_3\n",
      "  libxslt            pkgs/main/linux-64::libxslt-1.1.34-hc22bd24_0\n",
      "  lxml               pkgs/main/linux-64::lxml-4.6.2-py37h9120a33_0\n",
      "  matplotlib-base    pkgs/main/linux-64::matplotlib-base-3.1.3-py37hef1b27d_0\n",
      "  numpy              conda-forge/linux-64::numpy-1.18.1-py37h8960a57_1\n",
      "  openmc             conda-forge/linux-64::openmc-0.12.0-py37heda8c35_1\n",
      "  pandas             conda-forge/linux-64::pandas-1.1.4-py37h10a2094_0\n",
      "  pyparsing          conda-forge/noarch::pyparsing-2.4.7-pyh9f0ad1d_0\n",
      "  python-dateutil    conda-forge/noarch::python-dateutil-2.8.1-py_0\n",
      "  python_abi         conda-forge/linux-64::python_abi-3.7-1_cp37m\n",
      "  pytz               conda-forge/noarch::pytz-2021.1-pyhd8ed1ab_0\n",
      "  scipy              conda-forge/linux-64::scipy-1.5.3-py37h8911b10_0\n",
      "  tornado            conda-forge/linux-64::tornado-6.1-py37h4abf009_0\n",
      "  uncertainties      conda-forge/noarch::uncertainties-3.1.5-pyhd8ed1ab_0\n",
      "\n",
      "The following packages will be UPDATED:\n",
      "\n",
      "  ca-certificates     pkgs/main::ca-certificates-2020.1.1-0 --> conda-forge::ca-certificates-2020.12.5-ha878542_0\n",
      "  certifi              pkgs/main::certifi-2019.11.28-py37_0 --> conda-forge::certifi-2020.12.5-py37h89c1867_1\n",
      "  conda                       pkgs/main::conda-4.8.2-py37_0 --> conda-forge::conda-4.9.2-py37h89c1867_0\n",
      "  openssl                                 1.1.1d-h7b6447c_4 --> 1.1.1i-h27cfd23_0\n",
      "  xz                         pkgs/main::xz-5.2.4-h14c3975_4 --> conda-forge::xz-5.2.5-h516909a_1\n",
      "\n",
      "\n",
      "\n",
      "Downloading and Extracting Packages\n",
      "libpng-1.6.37        | 306 KB    | : 100% 1.0/1 [00:00<00:00,  4.59it/s]                 \n",
      "freetype-2.10.4      | 912 KB    | : 100% 1.0/1 [00:00<00:00,  4.33it/s]\n",
      "ca-certificates-2020 | 137 KB    | : 100% 1.0/1 [00:00<00:00, 14.64it/s]\n",
      "openssl-1.1.1i       | 2.5 MB    | : 100% 1.0/1 [00:00<00:00, 11.52s/it]                 \n",
      "libblas-3.9.0        | 11 KB     | : 100% 1.0/1 [00:00<00:00, 14.05it/s]\n",
      "numpy-1.18.1         | 5.2 MB    | : 100% 1.0/1 [00:01<00:00,  1.30it/s]                \n",
      "libxml2-2.9.10       | 1.2 MB    | : 100% 1.0/1 [00:00<00:00,  7.36it/s]\n",
      "python-dateutil-2.8. | 220 KB    | : 100% 1.0/1 [00:00<00:00, 11.45it/s]\n",
      "hdf5-1.10.6          | 3.0 MB    | : 100% 1.0/1 [00:00<00:00, 11.88s/it]               \n",
      "xz-5.2.5             | 343 KB    | : 100% 1.0/1 [00:00<00:00,  7.17it/s]\n",
      "pyparsing-2.4.7      | 60 KB     | : 100% 1.0/1 [00:00<00:00, 14.70it/s]\n",
      "kiwisolver-1.3.1     | 86 KB     | : 100% 1.0/1 [00:00<00:00, 18.79it/s]\n",
      "pytz-2021.1          | 239 KB    | : 100% 1.0/1 [00:00<00:00,  5.56it/s]\n",
      "h5py-3.1.0           | 1.2 MB    | : 100% 1.0/1 [00:00<00:00,  3.44it/s]\n",
      "cached-property-1.5. | 10 KB     | : 100% 1.0/1 [00:00<00:00, 19.39it/s]\n",
      "future-0.18.2        | 714 KB    | : 100% 1.0/1 [00:00<00:00,  4.28it/s]\n",
      "libxslt-1.1.34       | 432 KB    | : 100% 1.0/1 [00:00<00:00, 10.10it/s]\n",
      "pandas-1.1.4         | 10.5 MB   | : 100% 1.0/1 [00:02<00:00,  1.44s/it]                \n",
      "libgfortran4-7.5.0   | 1.3 MB    | : 100% 1.0/1 [00:00<00:00,  3.04it/s]\n",
      "uncertainties-3.1.5  | 75 KB     | : 100% 1.0/1 [00:00<00:00, 16.60it/s]\n",
      "tornado-6.1          | 645 KB    | : 100% 1.0/1 [00:00<00:00,  4.29it/s]\n",
      "scipy-1.5.3          | 18.5 MB   | : 100% 1.0/1 [00:03<00:00,  3.11s/it]               \n",
      "liblapack-3.9.0      | 11 KB     | : 100% 1.0/1 [00:00<00:00, 17.48it/s]\n",
      "icu-58.2             | 22.6 MB   | : 100% 1.0/1 [00:04<00:00,  4.09s/it]               \n",
      "cycler-0.10.0        | 9 KB      | : 100% 1.0/1 [00:00<00:00, 14.68it/s]\n",
      "matplotlib-base-3.1. | 5.0 MB    | : 100% 1.0/1 [00:00<00:00,  3.51it/s]\n",
      "libgfortran-ng-7.5.0 | 22 KB     | : 100% 1.0/1 [00:00<00:00, 21.64it/s]\n",
      "conda-4.9.2          | 3.0 MB    | : 100% 1.0/1 [00:00<00:00,  1.36it/s]\n",
      "libopenblas-0.3.12   | 8.2 MB    | : 100% 1.0/1 [00:01<00:00,  1.23s/it]               \n",
      "openmc-0.12.0        | 4.2 MB    | : 100% 1.0/1 [00:01<00:00,  1.50it/s]               \n",
      "libcblas-3.9.0       | 11 KB     | : 100% 1.0/1 [00:00<00:00, 22.37it/s]\n",
      "lxml-4.6.2           | 1.2 MB    | : 100% 1.0/1 [00:00<00:00,  9.19it/s]\n",
      "python_abi-3.7       | 4 KB      | : 100% 1.0/1 [00:00<00:00, 15.69it/s]\n",
      "certifi-2020.12.5    | 143 KB    | : 100% 1.0/1 [00:00<00:00, 12.53it/s]\n",
      "Preparing transaction: / \b\b- \b\b\\ \b\b| \b\bdone\n",
      "Verifying transaction: - \b\b\\ \b\b| \b\b/ \b\b- \b\b\\ \b\b| \b\b/ \b\b- \b\b\\ \b\b| \b\b/ \b\b- \b\bdone\n",
      "Executing transaction: | \b\b/ \b\b- \b\b\\ \b\b| \b\b/ \b\b- \b\b\\ \b\b| \b\b/ \b\b- \b\b\\ \b\b| \b\b/ \b\b- \b\b\\ \b\bdone\n"
     ]
    }
   ],
   "source": [
    "# Install OpenMC\n",
    "!conda config --add channels conda-forge\n",
    "!conda install openmc -y"
   ]
  },
  {
   "cell_type": "markdown",
   "metadata": {
    "id": "pnWL8zB2hHNO"
   },
   "source": [
    "These steps need to be repeated each time you open a new notebook or start a new session.  If you want to avoid doing this everytime and have some familiarity with Linux, feel free to install a local version of OpenMC.  Documentation and installation details can be found here https://docs.openmc.org/en/latest/ and data libraries here https://openmc.org/"
   ]
  },
  {
   "cell_type": "code",
   "execution_count": 5,
   "metadata": {
    "id": "EChOeJ7qVUB7"
   },
   "outputs": [],
   "source": [
    "import openmc"
   ]
  },
  {
   "cell_type": "code",
   "execution_count": 7,
   "metadata": {
    "id": "BzG7Jsl8fGcC"
   },
   "outputs": [],
   "source": [
    "%matplotlib inline\n",
    "from pprint import pprint\n",
    "\n",
    "import h5py\n",
    "import numpy as np\n",
    "import matplotlib.pyplot as plt\n",
    "import matplotlib.cm\n",
    "from matplotlib.patches import Rectangle"
   ]
  },
  {
   "cell_type": "markdown",
   "metadata": {
    "id": "3vr_I1VlhfJf"
   },
   "source": [
    "This script only uses the data class of OpenMC which allows us to navigate the nuclear database.  The following line will read the U235 file.  This is the step that will let you know if the library was linked properly!"
   ]
  },
  {
   "cell_type": "code",
   "execution_count": 9,
   "metadata": {
    "id": "dgjf7_P1efme"
   },
   "outputs": [],
   "source": [
    "u235_ace = openmc.data.IncidentNeutron.from_hdf5('/gdrive/My Drive/endfb71_hdf5/U235.h5')"
   ]
  },
  {
   "cell_type": "markdown",
   "metadata": {
    "id": "N-XG3tw9hvWW"
   },
   "source": [
    "This block reads in the fission xs (MT=18), for other MT values consult https://t2.lanl.gov/nis/endf/mts.html\n",
    "\n",
    "The energy grid is read in the \"energies\" variable.  Each nuclide and each temperature has a unique energy grid."
   ]
  },
  {
   "cell_type": "code",
   "execution_count": 19,
   "metadata": {
    "colab": {
     "base_uri": "https://localhost:8080/",
     "height": 626
    },
    "id": "pWE2wPzBfeSG",
    "outputId": "46624a97-d872-418c-a8e6-db14f8bafd6d"
   },
   "outputs": [
    {
     "data": {
      "text/plain": [
       "Text(0, 0.5, 'Cross section (b)')"
      ]
     },
     "execution_count": 19,
     "metadata": {
      "tags": []
     },
     "output_type": "execute_result"
    },
    {
     "data": {
      "image/png": "[encoded data removed]",
      "text/plain": [
       "<Figure size 1440x720 with 1 Axes>"
      ]
     },
     "metadata": {
      "needs_background": "light",
      "tags": []
     },
     "output_type": "display_data"
    }
   ],
   "source": [
    "fission = u235_ace[18] #18 is fission\n",
    "energies = u235_ace.energy['294K']\n",
    "fiss_xs = fission.xs['294K'](energies)\n",
    "plt.figure(figsize=(20,10))\n",
    "plt.loglog(energies, fiss_xs)\n",
    "plt.xlabel('Energy (eV)')\n",
    "plt.ylabel('Cross section (b)')"
   ]
  },
  {
   "cell_type": "markdown",
   "metadata": {
    "id": "knDim2CwiJ2X"
   },
   "source": [
    "The block below illustrates how you can access the fission xs value at a single energy point.  In this case, we are reading the value at 0.025 eV for a temperature of 294K.  If the energy value does not exist in the grid, the openmc.data class will interpolate linearly between the two nearest point.  It will however not interpolate in temperature.  Also note, that all energy values are by default in eV."
   ]
  },
  {
   "cell_type": "code",
   "execution_count": 23,
   "metadata": {
    "colab": {
     "base_uri": "https://localhost:8080/"
    },
    "id": "KD5KGZCEfnMt",
    "outputId": "2d6449de-1617-476f-f22b-8b78d119a2a8"
   },
   "outputs": [
    {
     "data": {
      "text/plain": [
       "588.7864396226415"
      ]
     },
     "execution_count": 23,
     "metadata": {
      "tags": []
     },
     "output_type": "execute_result"
    }
   ],
   "source": [
    "fission.xs['294K'](0.025)"
   ]
  },
  {
   "cell_type": "code",
   "execution_count": 24,
   "metadata": {
    "colab": {
     "base_uri": "https://localhost:8080/"
    },
    "id": "WzTf_JSdfr5b",
    "outputId": "53f20050-1478-48df-ecfa-7d8e38b1623f"
   },
   "outputs": [
    {
     "data": {
      "text/plain": [
       "92"
      ]
     },
     "execution_count": 24,
     "metadata": {
      "tags": []
     },
     "output_type": "execute_result"
    }
   ],
   "source": [
    "u235_ace.atomic_number"
   ]
  },
  {
   "cell_type": "code",
   "execution_count": 25,
   "metadata": {
    "colab": {
     "base_uri": "https://localhost:8080/"
    },
    "id": "MQwpllaHf5u0",
    "outputId": "fa96c436-3ec5-4a99-d66b-1a60ca0b7390"
   },
   "outputs": [
    {
     "data": {
      "text/plain": [
       "233.0248"
      ]
     },
     "execution_count": 25,
     "metadata": {
      "tags": []
     },
     "output_type": "execute_result"
    }
   ],
   "source": [
    "u235_ace.atomic_weight_ratio"
   ]
  },
  {
   "cell_type": "markdown",
   "metadata": {
    "id": "xFOfIkn0im8C"
   },
   "source": [
    "We can also look up the Q-value of the fission reaction, also given in eV."
   ]
  },
  {
   "cell_type": "code",
   "execution_count": 26,
   "metadata": {
    "colab": {
     "base_uri": "https://localhost:8080/"
    },
    "id": "iEN19MFef9GV",
    "outputId": "f0dd876e-6679-4171-e1f6-88eecb714b3f"
   },
   "outputs": [
    {
     "data": {
      "text/plain": [
       "193405400.0"
      ]
     },
     "execution_count": 26,
     "metadata": {
      "tags": []
     },
     "output_type": "execute_result"
    }
   ],
   "source": [
    "fission.q_value"
   ]
  },
  {
   "cell_type": "markdown",
   "metadata": {
    "id": "zfiSCD1viuYJ"
   },
   "source": [
    "Fission also has derived_products and the following blocks show the neutron yield and plots it as a function of energy."
   ]
  },
  {
   "cell_type": "code",
   "execution_count": 27,
   "metadata": {
    "id": "OdvUFJoZgIld"
   },
   "outputs": [],
   "source": [
    "derived = fission.derived_products[0]"
   ]
  },
  {
   "cell_type": "code",
   "execution_count": 28,
   "metadata": {
    "colab": {
     "base_uri": "https://localhost:8080/",
     "height": 35
    },
    "id": "EIHqsa_ygLsm",
    "outputId": "c2662919-7ed9-4c31-e522-dc86cb185832"
   },
   "outputs": [
    {
     "data": {
      "application/vnd.google.colaboratory.intrinsic+json": {
       "type": "string"
      },
      "text/plain": [
       "'neutron'"
      ]
     },
     "execution_count": 28,
     "metadata": {
      "tags": []
     },
     "output_type": "execute_result"
    }
   ],
   "source": [
    "derived.particle"
   ]
  },
  {
   "cell_type": "code",
   "execution_count": 29,
   "metadata": {
    "colab": {
     "base_uri": "https://localhost:8080/"
    },
    "id": "huYEFKQFgNie",
    "outputId": "2626084e-a257-426c-bc1e-aaddc962766c"
   },
   "outputs": [
    {
     "data": {
      "text/plain": [
       "2.4367"
      ]
     },
     "execution_count": 29,
     "metadata": {
      "tags": []
     },
     "output_type": "execute_result"
    }
   ],
   "source": [
    "derived.yield_(1.0) #in eV"
   ]
  },
  {
   "cell_type": "code",
   "execution_count": 30,
   "metadata": {
    "colab": {
     "base_uri": "https://localhost:8080/",
     "height": 626
    },
    "id": "tT5I-gSGgQnN",
    "outputId": "97e701a7-3c51-4d87-9091-b3f142d44b03"
   },
   "outputs": [
    {
     "data": {
      "text/plain": [
       "Text(0, 0.5, 'Yield (neutrons)')"
      ]
     },
     "execution_count": 30,
     "metadata": {
      "tags": []
     },
     "output_type": "execute_result"
    },
    {
     "data": {
      "image/png": "[encoded data removed]",
      "text/plain": [
       "<Figure size 1440x720 with 1 Axes>"
      ]
     },
     "metadata": {
      "needs_background": "light",
      "tags": []
     },
     "output_type": "display_data"
    }
   ],
   "source": [
    "energies = u235_ace.energy['294K']\n",
    "fiss_xs = fission.xs['294K'](energies)\n",
    "plt.figure(figsize=(20,10))\n",
    "plt.semilogx(energies, derived.yield_(energies))\n",
    "plt.xlabel('Energy (eV)')\n",
    "plt.xlim(xmin=1e4)\n",
    "plt.ylabel('Yield (neutrons)')"
   ]
  },
  {
   "cell_type": "code",
   "execution_count": null,
   "metadata": {
    "id": "WoCCAF1bgVvn"
   },
   "outputs": [],
   "source": []
  }
 ],
 "metadata": {
  "colab": {
   "collapsed_sections": [],
   "name": "OpenMC-install.ipynb",
   "provenance": []
  },
  "kernelspec": {
   "display_name": "Python 3 (ipykernel)",
   "language": "python",
   "name": "python3"
  },
  "language_info": {
   "codemirror_mode": {
    "name": "ipython",
    "version": 3
   },
   "file_extension": ".py",
   "mimetype": "text/x-python",
   "name": "python",
   "nbconvert_exporter": "python",
   "pygments_lexer": "ipython3",
   "version": "3.9.12"
  }
 },
 "nbformat": 4,
 "nbformat_minor": 1
}
